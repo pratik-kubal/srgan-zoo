{
 "cells": [
  {
   "cell_type": "code",
   "execution_count": 1,
   "metadata": {},
   "outputs": [
    {
     "name": "stderr",
     "output_type": "stream",
     "text": [
      "Using TensorFlow backend.\n"
     ]
    }
   ],
   "source": [
    "# Tensorlayer version == 1.11.1\n",
    "from keras.datasets import mnist\n",
    "from keras.layers import Input, Dense, Reshape, Flatten, Dropout, Concatenate, MaxPooling2D\n",
    "from keras.layers import BatchNormalization, Activation, ZeroPadding2D, Add, LeakyReLU, Lambda\n",
    "from keras.layers.advanced_activations import PReLU, LeakyReLU\n",
    "from keras.activations import sigmoid\n",
    "from keras.layers.convolutional import UpSampling2D, Conv2D,Conv2DTranspose\n",
    "from keras.applications import VGG19\n",
    "from keras.models import Model\n",
    "from keras.optimizers import Adam\n",
    "import datetime\n",
    "import matplotlib.pyplot as plt\n",
    "import sys\n",
    "import numpy as np\n",
    "import os\n",
    "from IPython.display import SVG\n",
    "from keras.utils.vis_utils import model_to_dot\n",
    "import pydot\n",
    "from keras.callbacks import TensorBoard, ModelCheckpoint\n",
    "from glob import glob\n",
    "from tqdm import tqdm_notebook\n",
    "import scipy\n",
    "import imageio\n",
    "from tensorlayer.prepro import *\n",
    "import tensorlayer as tl\n",
    "from keras import initializers\n",
    "from keras import backend as K\n",
    "import tensorflow as tf\n",
    "import h5py\n",
    "import cv2"
   ]
  },
  {
   "cell_type": "code",
   "execution_count": 2,
   "metadata": {},
   "outputs": [
    {
     "name": "stdout",
     "output_type": "stream",
     "text": [
      "WARNING:tensorflow:From /home/pratik_p_kubal/anaconda3/envs/srgan/lib/python3.7/site-packages/tensorflow/python/framework/op_def_library.py:263: colocate_with (from tensorflow.python.framework.ops) is deprecated and will be removed in a future version.\n",
      "Instructions for updating:\n",
      "Colocations handled automatically by placer.\n"
     ]
    }
   ],
   "source": [
    "batch_size = 16\n",
    "optimizer = Adam(lr=0.0001, beta_1=0.9)\n",
    "ni = np.sqrt(batch_size)\n",
    "hr_shape = (224,224,3)\n",
    "lr_shape = (56,56,3)"
   ]
  },
  {
   "cell_type": "code",
   "execution_count": 3,
   "metadata": {},
   "outputs": [],
   "source": [
    "def SubpixelConv2D(input_shape, scale=4):\n",
    "    \"\"\"\n",
    "    Keras layer to do subpixel convolution.\n",
    "    NOTE: Tensorflow backend only. Uses tf.depth_to_space\n",
    "    Ref:\n",
    "        [1] Real-Time Single Image and Video Super-Resolution Using an Efficient Sub-Pixel Convolutional Neural Network\n",
    "            Shi et Al.\n",
    "            https://arxiv.org/abs/1609.05158\n",
    "    :param input_shape: tensor shape, (batch, height, width, channel)\n",
    "    :param scale: upsampling scale. Default=4\n",
    "    :return:\n",
    "    \"\"\"\n",
    "    # upsample using depth_to_space\n",
    "    def subpixel_shape(input_shape):\n",
    "        dims = [input_shape[0],\n",
    "                input_shape[1] * scale,\n",
    "                input_shape[2] * scale,\n",
    "                int(input_shape[3] / (scale ** 2))]\n",
    "        output_shape = tuple(dims)\n",
    "        return output_shape\n",
    "\n",
    "    def subpixel(x):\n",
    "        return tf.depth_to_space(x, scale)\n",
    "\n",
    "\n",
    "    return Lambda(subpixel, output_shape=subpixel_shape)"
   ]
  },
  {
   "cell_type": "code",
   "execution_count": 4,
   "metadata": {},
   "outputs": [
    {
     "name": "stdout",
     "output_type": "stream",
     "text": [
      "__________________________________________________________________________________________________\n",
      "Layer (type)                    Output Shape         Param #     Connected to                     \n",
      "==================================================================================================\n",
      "in (InputLayer)                 (None, 56, 56, 3)    0                                            \n",
      "__________________________________________________________________________________________________\n",
      "n64s1/c (Conv2D)                (None, 56, 56, 64)   15616       in[0][0]                         \n",
      "__________________________________________________________________________________________________\n",
      "p_re_lu_1 (PReLU)               (None, 56, 56, 64)   200704      n64s1/c[0][0]                    \n",
      "__________________________________________________________________________________________________\n",
      "n64s1/c1/1 (Conv2D)             (None, 56, 56, 64)   36928       p_re_lu_1[0][0]                  \n",
      "__________________________________________________________________________________________________\n",
      "n64s1/b1/1 (BatchNormalization) (None, 56, 56, 64)   256         n64s1/c1/1[0][0]                 \n",
      "__________________________________________________________________________________________________\n",
      "p_re_lu_2 (PReLU)               (None, 56, 56, 64)   200704      n64s1/b1/1[0][0]                 \n",
      "__________________________________________________________________________________________________\n",
      "n64s1/c2/1 (Conv2D)             (None, 56, 56, 64)   36928       p_re_lu_2[0][0]                  \n",
      "__________________________________________________________________________________________________\n",
      "n64s1/b2/1 (BatchNormalization) (None, 56, 56, 64)   256         n64s1/c2/1[0][0]                 \n",
      "__________________________________________________________________________________________________\n",
      "b_residual_add/1 (Add)          (None, 56, 56, 64)   0           n64s1/b2/1[0][0]                 \n",
      "                                                                 p_re_lu_1[0][0]                  \n",
      "__________________________________________________________________________________________________\n",
      "n64s1/c1/2 (Conv2D)             (None, 56, 56, 64)   36928       b_residual_add/1[0][0]           \n",
      "__________________________________________________________________________________________________\n",
      "n64s1/b1/2 (BatchNormalization) (None, 56, 56, 64)   256         n64s1/c1/2[0][0]                 \n",
      "__________________________________________________________________________________________________\n",
      "p_re_lu_3 (PReLU)               (None, 56, 56, 64)   200704      n64s1/b1/2[0][0]                 \n",
      "__________________________________________________________________________________________________\n",
      "n64s1/c2/2 (Conv2D)             (None, 56, 56, 64)   36928       p_re_lu_3[0][0]                  \n",
      "__________________________________________________________________________________________________\n",
      "n64s1/b2/2 (BatchNormalization) (None, 56, 56, 64)   256         n64s1/c2/2[0][0]                 \n",
      "__________________________________________________________________________________________________\n",
      "b_residual_add/2 (Add)          (None, 56, 56, 64)   0           n64s1/b2/2[0][0]                 \n",
      "                                                                 b_residual_add/1[0][0]           \n",
      "__________________________________________________________________________________________________\n",
      "n64s1/c1/3 (Conv2D)             (None, 56, 56, 64)   36928       b_residual_add/2[0][0]           \n",
      "__________________________________________________________________________________________________\n",
      "n64s1/b1/3 (BatchNormalization) (None, 56, 56, 64)   256         n64s1/c1/3[0][0]                 \n",
      "__________________________________________________________________________________________________\n",
      "p_re_lu_4 (PReLU)               (None, 56, 56, 64)   200704      n64s1/b1/3[0][0]                 \n",
      "__________________________________________________________________________________________________\n",
      "n64s1/c2/3 (Conv2D)             (None, 56, 56, 64)   36928       p_re_lu_4[0][0]                  \n",
      "__________________________________________________________________________________________________\n",
      "n64s1/b2/3 (BatchNormalization) (None, 56, 56, 64)   256         n64s1/c2/3[0][0]                 \n",
      "__________________________________________________________________________________________________\n",
      "b_residual_add/3 (Add)          (None, 56, 56, 64)   0           b_residual_add/2[0][0]           \n",
      "                                                                 n64s1/b2/3[0][0]                 \n",
      "__________________________________________________________________________________________________\n",
      "n64s1/c1/4 (Conv2D)             (None, 56, 56, 64)   36928       b_residual_add/3[0][0]           \n",
      "__________________________________________________________________________________________________\n",
      "n64s1/b1/4 (BatchNormalization) (None, 56, 56, 64)   256         n64s1/c1/4[0][0]                 \n",
      "__________________________________________________________________________________________________\n",
      "p_re_lu_5 (PReLU)               (None, 56, 56, 64)   200704      n64s1/b1/4[0][0]                 \n",
      "__________________________________________________________________________________________________\n",
      "n64s1/c2/4 (Conv2D)             (None, 56, 56, 64)   36928       p_re_lu_5[0][0]                  \n",
      "__________________________________________________________________________________________________\n",
      "n64s1/b2/4 (BatchNormalization) (None, 56, 56, 64)   256         n64s1/c2/4[0][0]                 \n",
      "__________________________________________________________________________________________________\n",
      "b_residual_add/4 (Add)          (None, 56, 56, 64)   0           n64s1/b2/4[0][0]                 \n",
      "                                                                 b_residual_add/3[0][0]           \n",
      "__________________________________________________________________________________________________\n",
      "n64s1/c1/5 (Conv2D)             (None, 56, 56, 64)   36928       b_residual_add/4[0][0]           \n",
      "__________________________________________________________________________________________________\n",
      "n64s1/b1/5 (BatchNormalization) (None, 56, 56, 64)   256         n64s1/c1/5[0][0]                 \n",
      "__________________________________________________________________________________________________\n",
      "p_re_lu_6 (PReLU)               (None, 56, 56, 64)   200704      n64s1/b1/5[0][0]                 \n",
      "__________________________________________________________________________________________________\n",
      "n64s1/c2/5 (Conv2D)             (None, 56, 56, 64)   36928       p_re_lu_6[0][0]                  \n",
      "__________________________________________________________________________________________________\n",
      "n64s1/b2/5 (BatchNormalization) (None, 56, 56, 64)   256         n64s1/c2/5[0][0]                 \n",
      "__________________________________________________________________________________________________\n",
      "b_residual_add/5 (Add)          (None, 56, 56, 64)   0           n64s1/b2/5[0][0]                 \n",
      "                                                                 b_residual_add/4[0][0]           \n",
      "__________________________________________________________________________________________________\n",
      "n64s1/c1/6 (Conv2D)             (None, 56, 56, 64)   36928       b_residual_add/5[0][0]           \n",
      "__________________________________________________________________________________________________\n",
      "n64s1/b1/6 (BatchNormalization) (None, 56, 56, 64)   256         n64s1/c1/6[0][0]                 \n",
      "__________________________________________________________________________________________________\n",
      "p_re_lu_7 (PReLU)               (None, 56, 56, 64)   200704      n64s1/b1/6[0][0]                 \n",
      "__________________________________________________________________________________________________\n",
      "n64s1/c2/6 (Conv2D)             (None, 56, 56, 64)   36928       p_re_lu_7[0][0]                  \n",
      "__________________________________________________________________________________________________\n",
      "n64s1/b2/6 (BatchNormalization) (None, 56, 56, 64)   256         n64s1/c2/6[0][0]                 \n",
      "__________________________________________________________________________________________________\n",
      "b_residual_add/6 (Add)          (None, 56, 56, 64)   0           n64s1/b2/6[0][0]                 \n",
      "                                                                 b_residual_add/5[0][0]           \n",
      "__________________________________________________________________________________________________\n",
      "n64s1/c1/7 (Conv2D)             (None, 56, 56, 64)   36928       b_residual_add/6[0][0]           \n",
      "__________________________________________________________________________________________________\n",
      "n64s1/b1/7 (BatchNormalization) (None, 56, 56, 64)   256         n64s1/c1/7[0][0]                 \n",
      "__________________________________________________________________________________________________\n",
      "p_re_lu_8 (PReLU)               (None, 56, 56, 64)   200704      n64s1/b1/7[0][0]                 \n",
      "__________________________________________________________________________________________________\n",
      "n64s1/c2/7 (Conv2D)             (None, 56, 56, 64)   36928       p_re_lu_8[0][0]                  \n",
      "__________________________________________________________________________________________________\n",
      "n64s1/b2/7 (BatchNormalization) (None, 56, 56, 64)   256         n64s1/c2/7[0][0]                 \n",
      "__________________________________________________________________________________________________\n",
      "b_residual_add/7 (Add)          (None, 56, 56, 64)   0           n64s1/b2/7[0][0]                 \n",
      "                                                                 b_residual_add/6[0][0]           \n",
      "__________________________________________________________________________________________________\n",
      "n64s1/c1/8 (Conv2D)             (None, 56, 56, 64)   36928       b_residual_add/7[0][0]           \n",
      "__________________________________________________________________________________________________\n",
      "n64s1/b1/8 (BatchNormalization) (None, 56, 56, 64)   256         n64s1/c1/8[0][0]                 \n",
      "__________________________________________________________________________________________________\n",
      "p_re_lu_9 (PReLU)               (None, 56, 56, 64)   200704      n64s1/b1/8[0][0]                 \n",
      "__________________________________________________________________________________________________\n",
      "n64s1/c2/8 (Conv2D)             (None, 56, 56, 64)   36928       p_re_lu_9[0][0]                  \n",
      "__________________________________________________________________________________________________\n",
      "n64s1/b2/8 (BatchNormalization) (None, 56, 56, 64)   256         n64s1/c2/8[0][0]                 \n",
      "__________________________________________________________________________________________________\n",
      "b_residual_add/8 (Add)          (None, 56, 56, 64)   0           n64s1/b2/8[0][0]                 \n",
      "                                                                 b_residual_add/7[0][0]           \n",
      "__________________________________________________________________________________________________\n",
      "n64s1/c1/9 (Conv2D)             (None, 56, 56, 64)   36928       b_residual_add/8[0][0]           \n",
      "__________________________________________________________________________________________________\n",
      "n64s1/b1/9 (BatchNormalization) (None, 56, 56, 64)   256         n64s1/c1/9[0][0]                 \n",
      "__________________________________________________________________________________________________\n",
      "p_re_lu_10 (PReLU)              (None, 56, 56, 64)   200704      n64s1/b1/9[0][0]                 \n",
      "__________________________________________________________________________________________________\n",
      "n64s1/c2/9 (Conv2D)             (None, 56, 56, 64)   36928       p_re_lu_10[0][0]                 \n",
      "__________________________________________________________________________________________________\n",
      "n64s1/b2/9 (BatchNormalization) (None, 56, 56, 64)   256         n64s1/c2/9[0][0]                 \n",
      "__________________________________________________________________________________________________\n",
      "b_residual_add/9 (Add)          (None, 56, 56, 64)   0           n64s1/b2/9[0][0]                 \n",
      "                                                                 b_residual_add/8[0][0]           \n",
      "__________________________________________________________________________________________________\n",
      "n64s1/c1/10 (Conv2D)            (None, 56, 56, 64)   36928       b_residual_add/9[0][0]           \n",
      "__________________________________________________________________________________________________\n",
      "n64s1/b1/10 (BatchNormalization (None, 56, 56, 64)   256         n64s1/c1/10[0][0]                \n",
      "__________________________________________________________________________________________________\n",
      "p_re_lu_11 (PReLU)              (None, 56, 56, 64)   200704      n64s1/b1/10[0][0]                \n",
      "__________________________________________________________________________________________________\n",
      "n64s1/c2/10 (Conv2D)            (None, 56, 56, 64)   36928       p_re_lu_11[0][0]                 \n",
      "__________________________________________________________________________________________________\n",
      "n64s1/b2/10 (BatchNormalization (None, 56, 56, 64)   256         n64s1/c2/10[0][0]                \n",
      "__________________________________________________________________________________________________\n",
      "b_residual_add/10 (Add)         (None, 56, 56, 64)   0           n64s1/b2/10[0][0]                \n",
      "                                                                 b_residual_add/9[0][0]           \n",
      "__________________________________________________________________________________________________\n",
      "n64s1/c1/11 (Conv2D)            (None, 56, 56, 64)   36928       b_residual_add/10[0][0]          \n",
      "__________________________________________________________________________________________________\n",
      "n64s1/b1/11 (BatchNormalization (None, 56, 56, 64)   256         n64s1/c1/11[0][0]                \n",
      "__________________________________________________________________________________________________\n",
      "p_re_lu_12 (PReLU)              (None, 56, 56, 64)   200704      n64s1/b1/11[0][0]                \n",
      "__________________________________________________________________________________________________\n",
      "n64s1/c2/11 (Conv2D)            (None, 56, 56, 64)   36928       p_re_lu_12[0][0]                 \n",
      "__________________________________________________________________________________________________\n",
      "n64s1/b2/11 (BatchNormalization (None, 56, 56, 64)   256         n64s1/c2/11[0][0]                \n",
      "__________________________________________________________________________________________________\n",
      "b_residual_add/11 (Add)         (None, 56, 56, 64)   0           n64s1/b2/11[0][0]                \n",
      "                                                                 b_residual_add/10[0][0]          \n",
      "__________________________________________________________________________________________________\n",
      "n64s1/c1/12 (Conv2D)            (None, 56, 56, 64)   36928       b_residual_add/11[0][0]          \n",
      "__________________________________________________________________________________________________\n",
      "n64s1/b1/12 (BatchNormalization (None, 56, 56, 64)   256         n64s1/c1/12[0][0]                \n",
      "__________________________________________________________________________________________________\n",
      "p_re_lu_13 (PReLU)              (None, 56, 56, 64)   200704      n64s1/b1/12[0][0]                \n",
      "__________________________________________________________________________________________________\n",
      "n64s1/c2/12 (Conv2D)            (None, 56, 56, 64)   36928       p_re_lu_13[0][0]                 \n",
      "__________________________________________________________________________________________________\n",
      "n64s1/b2/12 (BatchNormalization (None, 56, 56, 64)   256         n64s1/c2/12[0][0]                \n",
      "__________________________________________________________________________________________________\n",
      "b_residual_add/12 (Add)         (None, 56, 56, 64)   0           n64s1/b2/12[0][0]                \n",
      "                                                                 b_residual_add/11[0][0]          \n",
      "__________________________________________________________________________________________________\n",
      "n64s1/c1/13 (Conv2D)            (None, 56, 56, 64)   36928       b_residual_add/12[0][0]          \n",
      "__________________________________________________________________________________________________\n",
      "n64s1/b1/13 (BatchNormalization (None, 56, 56, 64)   256         n64s1/c1/13[0][0]                \n",
      "__________________________________________________________________________________________________\n",
      "p_re_lu_14 (PReLU)              (None, 56, 56, 64)   200704      n64s1/b1/13[0][0]                \n",
      "__________________________________________________________________________________________________\n",
      "n64s1/c2/13 (Conv2D)            (None, 56, 56, 64)   36928       p_re_lu_14[0][0]                 \n",
      "__________________________________________________________________________________________________\n",
      "n64s1/b2/13 (BatchNormalization (None, 56, 56, 64)   256         n64s1/c2/13[0][0]                \n",
      "__________________________________________________________________________________________________\n",
      "b_residual_add/13 (Add)         (None, 56, 56, 64)   0           n64s1/b2/13[0][0]                \n",
      "                                                                 b_residual_add/12[0][0]          \n",
      "__________________________________________________________________________________________________\n",
      "n64s1/c1/14 (Conv2D)            (None, 56, 56, 64)   36928       b_residual_add/13[0][0]          \n",
      "__________________________________________________________________________________________________\n",
      "n64s1/b1/14 (BatchNormalization (None, 56, 56, 64)   256         n64s1/c1/14[0][0]                \n",
      "__________________________________________________________________________________________________\n",
      "p_re_lu_15 (PReLU)              (None, 56, 56, 64)   200704      n64s1/b1/14[0][0]                \n",
      "__________________________________________________________________________________________________\n",
      "n64s1/c2/14 (Conv2D)            (None, 56, 56, 64)   36928       p_re_lu_15[0][0]                 \n",
      "__________________________________________________________________________________________________\n",
      "n64s1/b2/14 (BatchNormalization (None, 56, 56, 64)   256         n64s1/c2/14[0][0]                \n",
      "__________________________________________________________________________________________________\n",
      "b_residual_add/14 (Add)         (None, 56, 56, 64)   0           n64s1/b2/14[0][0]                \n",
      "                                                                 b_residual_add/13[0][0]          \n",
      "__________________________________________________________________________________________________\n",
      "n64s1/c1/15 (Conv2D)            (None, 56, 56, 64)   36928       b_residual_add/14[0][0]          \n",
      "__________________________________________________________________________________________________\n",
      "n64s1/b1/15 (BatchNormalization (None, 56, 56, 64)   256         n64s1/c1/15[0][0]                \n",
      "__________________________________________________________________________________________________\n",
      "p_re_lu_16 (PReLU)              (None, 56, 56, 64)   200704      n64s1/b1/15[0][0]                \n",
      "__________________________________________________________________________________________________\n",
      "n64s1/c2/15 (Conv2D)            (None, 56, 56, 64)   36928       p_re_lu_16[0][0]                 \n",
      "__________________________________________________________________________________________________\n",
      "n64s1/b2/15 (BatchNormalization (None, 56, 56, 64)   256         n64s1/c2/15[0][0]                \n",
      "__________________________________________________________________________________________________\n",
      "b_residual_add/15 (Add)         (None, 56, 56, 64)   0           n64s1/b2/15[0][0]                \n",
      "                                                                 b_residual_add/14[0][0]          \n",
      "__________________________________________________________________________________________________\n",
      "n64s1/c1/16 (Conv2D)            (None, 56, 56, 64)   36928       b_residual_add/15[0][0]          \n",
      "__________________________________________________________________________________________________\n",
      "n64s1/b1/16 (BatchNormalization (None, 56, 56, 64)   256         n64s1/c1/16[0][0]                \n",
      "__________________________________________________________________________________________________\n",
      "p_re_lu_17 (PReLU)              (None, 56, 56, 64)   200704      n64s1/b1/16[0][0]                \n",
      "__________________________________________________________________________________________________\n",
      "n64s1/c2/16 (Conv2D)            (None, 56, 56, 64)   36928       p_re_lu_17[0][0]                 \n",
      "__________________________________________________________________________________________________\n",
      "n64s1/b2/16 (BatchNormalization (None, 56, 56, 64)   256         n64s1/c2/16[0][0]                \n",
      "__________________________________________________________________________________________________\n",
      "b_residual_add/16 (Add)         (None, 56, 56, 64)   0           n64s1/b2/16[0][0]                \n",
      "                                                                 b_residual_add/15[0][0]          \n",
      "__________________________________________________________________________________________________\n",
      "n64s1/c/m (Conv2D)              (None, 56, 56, 64)   36928       b_residual_add/16[0][0]          \n",
      "__________________________________________________________________________________________________\n",
      "n64s1/b/m (BatchNormalization)  (None, 56, 56, 64)   256         n64s1/c/m[0][0]                  \n",
      "__________________________________________________________________________________________________\n",
      "add3 (Add)                      (None, 56, 56, 64)   0           n64s1/b/m[0][0]                  \n",
      "                                                                 p_re_lu_1[0][0]                  \n",
      "__________________________________________________________________________________________________\n",
      "conv2d_1 (Conv2D)               (None, 56, 56, 256)  147712      add3[0][0]                       \n",
      "__________________________________________________________________________________________________\n",
      "lambda_1 (Lambda)               (None, 112, 112, 64) 0           conv2d_1[0][0]                   \n",
      "__________________________________________________________________________________________________\n",
      "p_re_lu_18 (PReLU)              (None, 112, 112, 64) 802816      lambda_1[0][0]                   \n",
      "__________________________________________________________________________________________________\n",
      "conv2d_2 (Conv2D)               (None, 112, 112, 256 147712      p_re_lu_18[0][0]                 \n",
      "__________________________________________________________________________________________________\n",
      "lambda_2 (Lambda)               (None, 224, 224, 64) 0           conv2d_2[0][0]                   \n",
      "__________________________________________________________________________________________________\n",
      "p_re_lu_19 (PReLU)              (None, 224, 224, 64) 3211264     lambda_2[0][0]                   \n",
      "__________________________________________________________________________________________________\n",
      "out (Conv2D)                    (None, 224, 224, 3)  195         p_re_lu_19[0][0]                 \n",
      "==================================================================================================\n",
      "Total params: 8,964,355\n",
      "Trainable params: 8,960,131\n",
      "Non-trainable params: 4,224\n",
      "__________________________________________________________________________________________________\n"
     ]
    }
   ],
   "source": [
    "def Generator(lr_shape,is_train=True):\n",
    "    lr_input = Input(shape=lr_shape,name=\"in\")\n",
    "    n = Conv2D(64, kernel_size=9, strides=1, padding='same', name='n64s1/c')(lr_input)\n",
    "    n = PReLU()(n)\n",
    "    temp = n\n",
    "    # Res blocks\n",
    "    i=1\n",
    "    nn = Conv2D(64, (3, 3), strides=1, padding='same', name='n64s1/c1/1')(n)\n",
    "    nn = BatchNormalization(name='n64s1/b1/%s' % i)(nn)\n",
    "    nn = PReLU()(nn)\n",
    "    nn = Conv2D(64, (3, 3), strides=1, padding='same', name='n64s1/c2/%s' % i)(nn)\n",
    "    nn = BatchNormalization(name='n64s1/b2/%s' % i)(nn)\n",
    "    nn1 = Add(name='b_residual_add/%s' % i)([nn,temp])\n",
    "    \n",
    "    i=2\n",
    "    nn2 = Conv2D(64, (3, 3), strides=1, padding='same', name='n64s1/c1/2')(nn1)\n",
    "    nn2 = BatchNormalization(name='n64s1/b1/%s' % i)(nn2)\n",
    "    nn2 = PReLU()(nn2)\n",
    "    nn2 = Conv2D(64, (3, 3), strides=1, padding='same', name='n64s1/c2/%s' % i)(nn2)\n",
    "    nn2 = BatchNormalization(name='n64s1/b2/%s' % i)(nn2)\n",
    "    nn2 = Add(name='b_residual_add/%s' % i)([nn2,nn1])\n",
    "    \n",
    "    i=3\n",
    "    nn3 = Conv2D(64, (3, 3), strides=1, padding='same', name='n64s1/c1/3')(nn2)\n",
    "    nn3 = BatchNormalization(name='n64s1/b1/%s' % i)(nn3)\n",
    "    nn3 = PReLU()(nn3)\n",
    "    nn3 = Conv2D(64, (3, 3), strides=1, padding='same', name='n64s1/c2/%s' % i)(nn3)\n",
    "    nn3 = BatchNormalization(name='n64s1/b2/%s' % i)(nn3)\n",
    "    nn3 = Add(name='b_residual_add/%s' % i)([nn2,nn3])\n",
    "    \n",
    "    i=4\n",
    "    nn4 = Conv2D(64, (3, 3), strides=1, padding='same', name='n64s1/c1/4')(nn3)\n",
    "    nn4 = BatchNormalization(name='n64s1/b1/%s' % i)(nn4)\n",
    "    nn4 = PReLU()(nn4)\n",
    "    nn4 = Conv2D(64, (3, 3), strides=1, padding='same', name='n64s1/c2/%s' % i)(nn4)\n",
    "    nn4 = BatchNormalization(name='n64s1/b2/%s' % i)(nn4)\n",
    "    nn4 = Add(name='b_residual_add/%s' % i)([nn4,nn3])\n",
    "    \n",
    "    i=5\n",
    "    nn5 = Conv2D(64, (3, 3), strides=1, padding='same', name='n64s1/c1/5')(nn4)\n",
    "    nn5 = BatchNormalization(name='n64s1/b1/%s' % i)(nn5)\n",
    "    nn5 = PReLU()(nn5)\n",
    "    nn5 = Conv2D(64, (3, 3), strides=1, padding='same', name='n64s1/c2/%s' % i)(nn5)\n",
    "    nn5 = BatchNormalization(name='n64s1/b2/%s' % i)(nn5)\n",
    "    nn5 = Add(name='b_residual_add/%s' % i)([nn5,nn4])\n",
    "    \n",
    "    i=6\n",
    "    nn6 = Conv2D(64, (3, 3), strides=1, padding='same', name='n64s1/c1/6')(nn5)\n",
    "    nn6 = BatchNormalization(name='n64s1/b1/%s' % i)(nn6)\n",
    "    nn6 = PReLU()(nn6)\n",
    "    nn6 = Conv2D(64, (3, 3), strides=1, padding='same', name='n64s1/c2/%s' % i)(nn6)\n",
    "    nn6 = BatchNormalization(name='n64s1/b2/%s' % i)(nn6)\n",
    "    nn6 = Add(name='b_residual_add/%s' % i)([nn6,nn5])\n",
    "    \n",
    "    i=7\n",
    "    nn7 = Conv2D(64, (3, 3), strides=1, padding='same', name='n64s1/c1/7')(nn6)\n",
    "    nn7 = BatchNormalization(name='n64s1/b1/%s' % i)(nn7)\n",
    "    nn7 = PReLU()(nn7)\n",
    "    nn7 = Conv2D(64, (3, 3), strides=1, padding='same', name='n64s1/c2/%s' % i)(nn7)\n",
    "    nn7 = BatchNormalization(name='n64s1/b2/%s' % i)(nn7)\n",
    "    nn7 = Add(name='b_residual_add/%s' % i)([nn7,nn6])\n",
    "    \n",
    "    i=8\n",
    "    nn8 = Conv2D(64, (3, 3), strides=1, padding='same', name='n64s1/c1/8')(nn7)\n",
    "    nn8 = BatchNormalization(name='n64s1/b1/%s' % i)(nn8)\n",
    "    nn8 = PReLU()(nn8)\n",
    "    nn8 = Conv2D(64, (3, 3), strides=1, padding='same', name='n64s1/c2/%s' % i)(nn8)\n",
    "    nn8 = BatchNormalization(name='n64s1/b2/%s' % i)(nn8)\n",
    "    nn8 = Add(name='b_residual_add/%s' % i)([nn8,nn7])\n",
    "    \n",
    "    i=9\n",
    "    nn9 = Conv2D(64, (3, 3), strides=1, padding='same', name='n64s1/c1/9')(nn8)\n",
    "    nn9 = BatchNormalization(name='n64s1/b1/%s' % i)(nn9)\n",
    "    nn9 = PReLU()(nn9)\n",
    "    nn9 = Conv2D(64, (3, 3), strides=1, padding='same', name='n64s1/c2/%s' % i)(nn9)\n",
    "    nn9 = BatchNormalization(name='n64s1/b2/%s' % i)(nn9)\n",
    "    nn9 = Add(name='b_residual_add/%s' % i)([nn9,nn8])\n",
    "    \n",
    "    i=10\n",
    "    nn10 = Conv2D(64, (3, 3), strides=1, padding='same', name='n64s1/c1/10')(nn9)\n",
    "    nn10 = BatchNormalization(name='n64s1/b1/%s' % i)(nn10)\n",
    "    nn10 = PReLU()(nn10)\n",
    "    nn10 = Conv2D(64, (3, 3), strides=1, padding='same', name='n64s1/c2/%s' % i)(nn10)\n",
    "    nn10 = BatchNormalization(name='n64s1/b2/%s' % i)(nn10)\n",
    "    nn10 = Add(name='b_residual_add/%s' % i)([nn10,nn9])\n",
    "    \n",
    "    i=11\n",
    "    nn11 = Conv2D(64, (3, 3), strides=1, padding='same', name='n64s1/c1/11')(nn10)\n",
    "    nn11 = BatchNormalization(name='n64s1/b1/%s' % i)(nn11)\n",
    "    nn11 = PReLU()(nn11)\n",
    "    nn11 = Conv2D(64, (3, 3), strides=1, padding='same', name='n64s1/c2/%s' % i)(nn11)\n",
    "    nn11 = BatchNormalization(name='n64s1/b2/%s' % i)(nn11)\n",
    "    nn11 = Add(name='b_residual_add/%s' % i)([nn11,nn10])\n",
    "    \n",
    "    i=12\n",
    "    nn12 = Conv2D(64, (3, 3), strides=1, padding='same', name='n64s1/c1/12')(nn11)\n",
    "    nn12 = BatchNormalization(name='n64s1/b1/%s' % i)(nn12)\n",
    "    nn12 = PReLU()(nn12)\n",
    "    nn12 = Conv2D(64, (3, 3), strides=1, padding='same', name='n64s1/c2/%s' % i)(nn12)\n",
    "    nn12 = BatchNormalization(name='n64s1/b2/%s' % i)(nn12)\n",
    "    nn12 = Add(name='b_residual_add/%s' % i)([nn12,nn11])\n",
    "    \n",
    "    i=13\n",
    "    nn13 = Conv2D(64, (3, 3), strides=1, padding='same', name='n64s1/c1/13')(nn12)\n",
    "    nn13 = BatchNormalization(name='n64s1/b1/%s' % i)(nn13)\n",
    "    nn13 = PReLU()(nn13)\n",
    "    nn13 = Conv2D(64, (3, 3), strides=1, padding='same', name='n64s1/c2/%s' % i)(nn13)\n",
    "    nn13 = BatchNormalization(name='n64s1/b2/%s' % i)(nn13)\n",
    "    nn13 = Add(name='b_residual_add/%s' % i)([nn13,nn12])\n",
    "    \n",
    "    i=14\n",
    "    nn14 = Conv2D(64, (3, 3), strides=1, padding='same', name='n64s1/c1/14')(nn13)\n",
    "    nn14 = BatchNormalization(name='n64s1/b1/%s' % i)(nn14)\n",
    "    nn14 = PReLU()(nn14)\n",
    "    nn14 = Conv2D(64, (3, 3), strides=1, padding='same', name='n64s1/c2/%s' % i)(nn14)\n",
    "    nn14 = BatchNormalization(name='n64s1/b2/%s' % i)(nn14)\n",
    "    nn14 = Add(name='b_residual_add/%s' % i)([nn14,nn13])\n",
    "    \n",
    "    i=15\n",
    "    nn15 = Conv2D(64, (3, 3), strides=1, padding='same', name='n64s1/c1/15')(nn14)\n",
    "    nn15 = BatchNormalization(name='n64s1/b1/%s' % i)(nn15)\n",
    "    nn15 = PReLU()(nn15)\n",
    "    nn15 = Conv2D(64, (3, 3), strides=1, padding='same', name='n64s1/c2/%s' % i)(nn15)\n",
    "    nn15 = BatchNormalization(name='n64s1/b2/%s' % i)(nn15)\n",
    "    nn15 = Add(name='b_residual_add/%s' % i)([nn15,nn14])\n",
    "    \n",
    "    i=16\n",
    "    nn16 = Conv2D(64, (3, 3), strides=1, padding='same', name='n64s1/c1/16')(nn15)\n",
    "    nn16 = BatchNormalization(name='n64s1/b1/%s' % i)(nn16)\n",
    "    nn16 = PReLU()(nn16)\n",
    "    nn16 = Conv2D(64, (3, 3), strides=1, padding='same', name='n64s1/c2/%s' % i)(nn16)\n",
    "    nn16 = BatchNormalization(name='n64s1/b2/%s' % i)(nn16)\n",
    "    nn16 = Add(name='b_residual_add/%s' % i)([nn16,nn15])\n",
    "    '''\n",
    "    i=17\n",
    "    nn17 = Conv2D(64, (3, 3), strides=1, padding='same', name='n64s1/c1/17')(nn16)\n",
    "    nn17 = BatchNormalization(name='n64s1/b1/%s' % i)(nn17)\n",
    "    nn17 = PReLU()(nn17)\n",
    "    nn17 = Conv2D(64, (3, 3), strides=1, padding='same', name='n64s1/c2/%s' % i)(nn17)\n",
    "    nn17 = BatchNormalization(name='n64s1/b2/%s' % i)(nn17)\n",
    "    nn17 = Add(name='b_residual_add/%s' % i)([nn17,nn16])\n",
    "    \n",
    "    i=18\n",
    "    nn18 = Conv2D(64, (3, 3), strides=1, padding='same', name='n64s1/c1/18')(nn17)\n",
    "    nn18 = BatchNormalization(name='n64s1/b1/%s' % i)(nn18)\n",
    "    nn18 = PReLU()(nn18)\n",
    "    nn18 = Conv2D(64, (3, 3), strides=1, padding='same', name='n64s1/c2/%s' % i)(nn18)\n",
    "    nn18 = BatchNormalization(name='n64s1/b2/%s' % i)(nn18)\n",
    "    nn18 = Add(name='b_residual_add/%s' % i)([nn18,nn17])\n",
    "    \n",
    "    i=19\n",
    "    nn19 = Conv2D(64, (3, 3), strides=1, padding='same', name='n64s1/c1/19')(nn18)\n",
    "    nn19 = BatchNormalization(name='n64s1/b1/%s' % i)(nn19)\n",
    "    nn19 = PReLU()(nn19)\n",
    "    nn19 = Conv2D(64, (3, 3), strides=1, padding='same', name='n64s1/c2/%s' % i)(nn19)\n",
    "    nn19 = BatchNormalization(name='n64s1/b2/%s' % i)(nn19)\n",
    "    nn19 = Add(name='b_residual_add/%s' % i)([nn19,nn18])\n",
    "    \n",
    "    i=20\n",
    "    nn20 = Conv2D(64, (3, 3), strides=1, padding='same', name='n64s1/c1/20')(nn19)\n",
    "    nn20 = BatchNormalization(name='n64s1/b1/%s' % i)(nn20)\n",
    "    nn20 = PReLU()(nn20)\n",
    "    nn20 = Conv2D(64, (3, 3), strides=1, padding='same', name='n64s1/c2/%s' % i)(nn20)\n",
    "    nn20 = BatchNormalization(name='n64s1/b2/%s' % i)(nn20)\n",
    "    nn20 = Add(name='b_residual_add/%s' % i)([nn20,nn19])\n",
    "    \n",
    "    i=21\n",
    "    nn21 = Conv2D(64, (3, 3), strides=1, padding='same', name='n64s1/c1/21')(nn20)\n",
    "    nn21 = BatchNormalization(name='n64s1/b1/%s' % i)(nn21)\n",
    "    nn21 = PReLU()(nn21)\n",
    "    nn21 = Conv2D(64, (3, 3), strides=1, padding='same', name='n64s1/c2/%s' % i)(nn21)\n",
    "    nn21 = BatchNormalization(name='n64s1/b2/%s' % i)(nn21)\n",
    "    nn21 = Add(name='b_residual_add/%s' % i)([nn21,nn20])\n",
    "    \n",
    "    i=22\n",
    "    nn22 = Conv2D(64, (3, 3), strides=1, padding='same', name='n64s1/c1/22')(nn21)\n",
    "    nn22 = BatchNormalization(name='n64s1/b1/%s' % i)(nn22)\n",
    "    nn22 = PReLU()(nn22)\n",
    "    nn22 = Conv2D(64, (3, 3), strides=1, padding='same', name='n64s1/c2/%s' % i)(nn22)\n",
    "    nn22 = BatchNormalization(name='n64s1/b2/%s' % i)(nn22)\n",
    "    nn22 = Add(name='b_residual_add/%s' % i)([nn22,nn21])\n",
    "    \n",
    "    i=23\n",
    "    nn23 = Conv2D(64, (3, 3), strides=1, padding='same', name='n64s1/c1/23')(nn22)\n",
    "    nn23 = BatchNormalization(name='n64s1/b1/%s' % i)(nn23)\n",
    "    nn23 = PReLU()(nn23)\n",
    "    nn23 = Conv2D(64, (3, 3), strides=1, padding='same', name='n64s1/c2/%s' % i)(nn23)\n",
    "    nn23 = BatchNormalization(name='n64s1/b2/%s' % i)(nn23)\n",
    "    nn23 = Add(name='b_residual_add/%s' % i)([nn23,nn12])\n",
    "    \n",
    "    i=24\n",
    "    nn24 = Conv2D(64, (3, 3), strides=1, padding='same', name='n64s1/c1/24')(nn23)\n",
    "    nn24 = BatchNormalization(name='n64s1/b1/%s' % i)(nn24)\n",
    "    nn24 = PReLU()(nn24)\n",
    "    nn24 = Conv2D(64, (3, 3), strides=1, padding='same', name='n64s1/c2/%s' % i)(nn24)\n",
    "    nn24 = BatchNormalization(name='n64s1/b2/%s' % i)(nn24)\n",
    "    nn24 = Add(name='b_residual_add/%s' % i)([nn24,nn23])'''\n",
    "\n",
    "    n = Conv2D(64, (3, 3), strides=1, padding='same', name='n64s1/c/m')(nn16)\n",
    "    n = BatchNormalization(name='n64s1/b/m')(n)\n",
    "    n = Add(name='add3')([n, temp])\n",
    "    #n = Conv2D(64, (3, 3), strides=1, padding='same', name='n64s1/c/m/2')(n)\n",
    "    #n = BatchNormalization(name='n64s1/b/m/2')(n)\n",
    "    #n = Add(name='add4')([n, nn16])\n",
    "    # End of Res Blocks\n",
    "\n",
    "    n = Conv2D(256, kernel_size=3, strides=1, padding='same')(n)\n",
    "    pixelShuffle1 = SubpixelConv2D((None, 56, 56, 256),scale=2)(n)\n",
    "    pixelShuffle1 = PReLU()(pixelShuffle1)\n",
    "\n",
    "    pixelShuffle2 = Conv2D(256, kernel_size=3, strides=1, padding='same')((pixelShuffle1))\n",
    "    pixelShuffle2 = SubpixelConv2D((None, 112, 112, 256),scale=2)(pixelShuffle2)\n",
    "    pixelShuffle2 = PReLU()(pixelShuffle2)\n",
    "\n",
    "    out = Conv2D(3, kernel_size=1,strides=1, activation='tanh', padding='same', name='out')(pixelShuffle2)\n",
    "    return Model(lr_input,out)\n",
    "\n",
    "SRGAN_gen = Generator(lr_shape)\n",
    "SRGAN_gen.compile(loss='mean_squared_error',optimizer=optimizer)\n",
    "SRGAN_gen.summary()"
   ]
  },
  {
   "cell_type": "code",
   "execution_count": 5,
   "metadata": {},
   "outputs": [],
   "source": [
    "#SVG(model_to_dot(SRGAN_gen, show_layer_names=True, show_shapes=True).create(prog='dot', format='svg'))"
   ]
  },
  {
   "cell_type": "code",
   "execution_count": 5,
   "metadata": {},
   "outputs": [],
   "source": [
    "def disAcc(y_true, y_pred):\n",
    "    return K.mean(K.equal(K.round(y_true), K.round(y_pred)))"
   ]
  },
  {
   "cell_type": "code",
   "execution_count": 6,
   "metadata": {},
   "outputs": [
    {
     "name": "stdout",
     "output_type": "stream",
     "text": [
      "__________________________________________________________________________________________________\n",
      "Layer (type)                    Output Shape         Param #     Connected to                     \n",
      "==================================================================================================\n",
      "in (InputLayer)                 (None, 224, 224, 3)  0                                            \n",
      "__________________________________________________________________________________________________\n",
      "n64s1/c (Conv2D)                (None, 112, 112, 64) 3136        in[0][0]                         \n",
      "__________________________________________________________________________________________________\n",
      "leaky_re_lu_1 (LeakyReLU)       (None, 112, 112, 64) 0           n64s1/c[0][0]                    \n",
      "__________________________________________________________________________________________________\n",
      "n64s2/c (Conv2D)                (None, 56, 56, 128)  131200      leaky_re_lu_1[0][0]              \n",
      "__________________________________________________________________________________________________\n",
      "batch_normalization_1 (BatchNor (None, 56, 56, 128)  512         n64s2/c[0][0]                    \n",
      "__________________________________________________________________________________________________\n",
      "leaky_re_lu_2 (LeakyReLU)       (None, 56, 56, 128)  0           batch_normalization_1[0][0]      \n",
      "__________________________________________________________________________________________________\n",
      "n128s1/c (Conv2D)               (None, 28, 28, 256)  524544      leaky_re_lu_2[0][0]              \n",
      "__________________________________________________________________________________________________\n",
      "batch_normalization_2 (BatchNor (None, 28, 28, 256)  1024        n128s1/c[0][0]                   \n",
      "__________________________________________________________________________________________________\n",
      "leaky_re_lu_3 (LeakyReLU)       (None, 28, 28, 256)  0           batch_normalization_2[0][0]      \n",
      "__________________________________________________________________________________________________\n",
      "n128s2/c (Conv2D)               (None, 14, 14, 512)  2097664     leaky_re_lu_3[0][0]              \n",
      "__________________________________________________________________________________________________\n",
      "batch_normalization_3 (BatchNor (None, 14, 14, 512)  2048        n128s2/c[0][0]                   \n",
      "__________________________________________________________________________________________________\n",
      "leaky_re_lu_4 (LeakyReLU)       (None, 14, 14, 512)  0           batch_normalization_3[0][0]      \n",
      "__________________________________________________________________________________________________\n",
      "n256s1/c (Conv2D)               (None, 7, 7, 1024)   8389632     leaky_re_lu_4[0][0]              \n",
      "__________________________________________________________________________________________________\n",
      "batch_normalization_4 (BatchNor (None, 7, 7, 1024)   4096        n256s1/c[0][0]                   \n",
      "__________________________________________________________________________________________________\n",
      "leaky_re_lu_5 (LeakyReLU)       (None, 7, 7, 1024)   0           batch_normalization_4[0][0]      \n",
      "__________________________________________________________________________________________________\n",
      "n256s2/c (Conv2D)               (None, 4, 4, 2048)   33556480    leaky_re_lu_5[0][0]              \n",
      "__________________________________________________________________________________________________\n",
      "batch_normalization_5 (BatchNor (None, 4, 4, 2048)   8192        n256s2/c[0][0]                   \n",
      "__________________________________________________________________________________________________\n",
      "leaky_re_lu_6 (LeakyReLU)       (None, 4, 4, 2048)   0           batch_normalization_5[0][0]      \n",
      "__________________________________________________________________________________________________\n",
      "n512s1/c (Conv2D)               (None, 4, 4, 1024)   2098176     leaky_re_lu_6[0][0]              \n",
      "__________________________________________________________________________________________________\n",
      "batch_normalization_6 (BatchNor (None, 4, 4, 1024)   4096        n512s1/c[0][0]                   \n",
      "__________________________________________________________________________________________________\n",
      "leaky_re_lu_7 (LeakyReLU)       (None, 4, 4, 1024)   0           batch_normalization_6[0][0]      \n",
      "__________________________________________________________________________________________________\n",
      "n512s2/c (Conv2D)               (None, 4, 4, 512)    524800      leaky_re_lu_7[0][0]              \n",
      "__________________________________________________________________________________________________\n",
      "batch_normalization_7 (BatchNor (None, 4, 4, 512)    2048        n512s2/c[0][0]                   \n",
      "__________________________________________________________________________________________________\n",
      "leaky_re_lu_8 (LeakyReLU)       (None, 4, 4, 512)    0           batch_normalization_7[0][0]      \n",
      "__________________________________________________________________________________________________\n",
      "conv2d_3 (Conv2D)               (None, 4, 4, 128)    65664       leaky_re_lu_8[0][0]              \n",
      "__________________________________________________________________________________________________\n",
      "batch_normalization_8 (BatchNor (None, 4, 4, 128)    512         conv2d_3[0][0]                   \n",
      "__________________________________________________________________________________________________\n",
      "leaky_re_lu_9 (LeakyReLU)       (None, 4, 4, 128)    0           batch_normalization_8[0][0]      \n",
      "__________________________________________________________________________________________________\n",
      "conv2d_4 (Conv2D)               (None, 4, 4, 128)    147584      leaky_re_lu_9[0][0]              \n",
      "__________________________________________________________________________________________________\n",
      "batch_normalization_9 (BatchNor (None, 4, 4, 128)    512         conv2d_4[0][0]                   \n",
      "__________________________________________________________________________________________________\n",
      "leaky_re_lu_10 (LeakyReLU)      (None, 4, 4, 128)    0           batch_normalization_9[0][0]      \n",
      "__________________________________________________________________________________________________\n",
      "conv2d_5 (Conv2D)               (None, 4, 4, 512)    590336      leaky_re_lu_10[0][0]             \n",
      "__________________________________________________________________________________________________\n",
      "batch_normalization_10 (BatchNo (None, 4, 4, 512)    2048        conv2d_5[0][0]                   \n",
      "__________________________________________________________________________________________________\n",
      "leaky_re_lu_11 (LeakyReLU)      (None, 4, 4, 512)    0           batch_normalization_10[0][0]     \n",
      "__________________________________________________________________________________________________\n",
      "res/add3 (Add)                  (None, 4, 4, 512)    0           leaky_re_lu_8[0][0]              \n",
      "                                                                 leaky_re_lu_11[0][0]             \n",
      "__________________________________________________________________________________________________\n",
      "leaky_re_lu_12 (LeakyReLU)      (None, 4, 4, 512)    0           res/add3[0][0]                   \n",
      "__________________________________________________________________________________________________\n",
      "flatten_1 (Flatten)             (None, 8192)         0           leaky_re_lu_12[0][0]             \n",
      "__________________________________________________________________________________________________\n",
      "dense_1 (Dense)                 (None, 1)            8193        flatten_1[0][0]                  \n",
      "==================================================================================================\n",
      "Total params: 96,312,450\n",
      "Trainable params: 48,149,953\n",
      "Non-trainable params: 48,162,497\n",
      "__________________________________________________________________________________________________\n"
     ]
    },
    {
     "name": "stderr",
     "output_type": "stream",
     "text": [
      "/home/pratik_p_kubal/anaconda3/envs/srgan/lib/python3.7/site-packages/keras/engine/training.py:490: UserWarning: Discrepancy between trainable weights and collected trainable weights, did you set `model.trainable` without calling `model.compile` after ?\n",
      "  'Discrepancy between trainable weights and collected trainable'\n"
     ]
    }
   ],
   "source": [
    "def Discriminator(hr_shape,is_train=True):\n",
    "    inputLayer = Input(hr_shape, name='in')\n",
    "    n = Conv2D(64, kernel_size=4, strides=2, padding='same', name='n64s1/c')(inputLayer)\n",
    "    n = LeakyReLU(alpha=0.2)(n)\n",
    "    \n",
    "    n = Conv2D(128, kernel_size=4, strides=2, padding='same', name='n64s2/c')(n)\n",
    "    n = BatchNormalization()(n)\n",
    "    n = LeakyReLU(alpha=0.2)(n)\n",
    "    \n",
    "    n = Conv2D(256, kernel_size=4, strides=2, padding='same', name='n128s1/c')(n)\n",
    "    n = BatchNormalization()(n)\n",
    "    n = LeakyReLU(alpha=0.2)(n)\n",
    "    \n",
    "    n = Conv2D(64*8, kernel_size=4, strides=2, padding='same', name='n128s2/c')(n)\n",
    "    n = BatchNormalization()(n)\n",
    "    n = LeakyReLU(alpha=0.2)(n)\n",
    "    \n",
    "    n = Conv2D(64*16, kernel_size=4, strides=2, padding='same', name='n256s1/c')(n)\n",
    "    n = BatchNormalization()(n)\n",
    "    n = LeakyReLU(alpha=0.2)(n)\n",
    "    \n",
    "    n = Conv2D(64*32, kernel_size=4, strides=2, padding='same', name='n256s2/c')(n)\n",
    "    n = BatchNormalization()(n)\n",
    "    n = LeakyReLU(alpha=0.2)(n)\n",
    "    \n",
    "    n = Conv2D(64*16, kernel_size=1, strides=1, padding='same', name='n512s1/c')(n)\n",
    "    n = BatchNormalization()(n)\n",
    "    n = LeakyReLU(alpha=0.2)(n)\n",
    "    \n",
    "    n = Conv2D(64*8, kernel_size=1, strides=1, padding='same', name='n512s2/c')(n)\n",
    "    n = BatchNormalization()(n)\n",
    "    n = LeakyReLU(alpha=0.2)(n)\n",
    "    \n",
    "    nn = Conv2D(64*2, kernel_size=1, strides=1, padding='same')(n)\n",
    "    nn = BatchNormalization()(nn)\n",
    "    nn = LeakyReLU(alpha=0.2)(nn)\n",
    "    \n",
    "    nn = Conv2D(64*2, kernel_size=3, strides=1, padding='same')(nn)\n",
    "    nn = BatchNormalization()(nn)\n",
    "    nn = LeakyReLU(alpha=0.2)(nn)\n",
    "        \n",
    "    nn = Conv2D(64*8, kernel_size=3, strides=1, padding='same')(nn)\n",
    "    nn = BatchNormalization()(nn)\n",
    "    nn = LeakyReLU(alpha=0.2)(nn)\n",
    "    \n",
    "    n = Add(name='res/add3')([n, nn])\n",
    "    n = LeakyReLU(alpha=0.2)(n)\n",
    "    \n",
    "    n = Flatten()(n)\n",
    "    n = Dense(1,activation='sigmoid')(n)\n",
    "    \n",
    "    return Model(inputLayer, n)\n",
    "\n",
    "SRGAN_disc = Discriminator(hr_shape)\n",
    "SRGAN_disc.compile(loss='binary_crossentropy',\n",
    "             optimizer=optimizer,\n",
    "             metrics=[disAcc])\n",
    "SRGAN_disc.trainable = False\n",
    "SRGAN_disc.summary()"
   ]
  },
  {
   "cell_type": "code",
   "execution_count": 7,
   "metadata": {},
   "outputs": [],
   "source": [
    "def buildVGG(hr_shape):\n",
    "    vggInput = Input(shape=hr_shape)\n",
    "    vgg = VGG19(weights=\"imagenet\",input_tensor = vggInput)\n",
    "    \n",
    "    return Model(vggInput,vgg.layers[15].output)\n",
    "\n",
    "vggModel = buildVGG(hr_shape)\n",
    "for l in vggModel.layers:\n",
    "    l.trainable = False"
   ]
  },
  {
   "cell_type": "code",
   "execution_count": 8,
   "metadata": {},
   "outputs": [
    {
     "name": "stdout",
     "output_type": "stream",
     "text": [
      "_________________________________________________________________\n",
      "Layer (type)                 Output Shape              Param #   \n",
      "=================================================================\n",
      "input_1 (InputLayer)         (None, 224, 224, 3)       0         \n",
      "_________________________________________________________________\n",
      "block1_conv1 (Conv2D)        (None, 224, 224, 64)      1792      \n",
      "_________________________________________________________________\n",
      "block1_conv2 (Conv2D)        (None, 224, 224, 64)      36928     \n",
      "_________________________________________________________________\n",
      "block1_pool (MaxPooling2D)   (None, 112, 112, 64)      0         \n",
      "_________________________________________________________________\n",
      "block2_conv1 (Conv2D)        (None, 112, 112, 128)     73856     \n",
      "_________________________________________________________________\n",
      "block2_conv2 (Conv2D)        (None, 112, 112, 128)     147584    \n",
      "_________________________________________________________________\n",
      "block2_pool (MaxPooling2D)   (None, 56, 56, 128)       0         \n",
      "_________________________________________________________________\n",
      "block3_conv1 (Conv2D)        (None, 56, 56, 256)       295168    \n",
      "_________________________________________________________________\n",
      "block3_conv2 (Conv2D)        (None, 56, 56, 256)       590080    \n",
      "_________________________________________________________________\n",
      "block3_conv3 (Conv2D)        (None, 56, 56, 256)       590080    \n",
      "_________________________________________________________________\n",
      "block3_conv4 (Conv2D)        (None, 56, 56, 256)       590080    \n",
      "_________________________________________________________________\n",
      "block3_pool (MaxPooling2D)   (None, 28, 28, 256)       0         \n",
      "_________________________________________________________________\n",
      "block4_conv1 (Conv2D)        (None, 28, 28, 512)       1180160   \n",
      "_________________________________________________________________\n",
      "block4_conv2 (Conv2D)        (None, 28, 28, 512)       2359808   \n",
      "_________________________________________________________________\n",
      "block4_conv3 (Conv2D)        (None, 28, 28, 512)       2359808   \n",
      "_________________________________________________________________\n",
      "block4_conv4 (Conv2D)        (None, 28, 28, 512)       2359808   \n",
      "=================================================================\n",
      "Total params: 10,585,152\n",
      "Trainable params: 0\n",
      "Non-trainable params: 10,585,152\n",
      "_________________________________________________________________\n"
     ]
    }
   ],
   "source": [
    "vggModel.summary()"
   ]
  },
  {
   "cell_type": "code",
   "execution_count": 9,
   "metadata": {},
   "outputs": [
    {
     "name": "stdout",
     "output_type": "stream",
     "text": [
      "__________________________________________________________________________________________________\n",
      "Layer (type)                    Output Shape         Param #     Connected to                     \n",
      "==================================================================================================\n",
      "input_2 (InputLayer)            (None, 56, 56, 3)    0                                            \n",
      "__________________________________________________________________________________________________\n",
      "model_1 (Model)                 (None, 224, 224, 3)  8964355     input_2[0][0]                    \n",
      "__________________________________________________________________________________________________\n",
      "model_2 (Model)                 (None, 1)            48162497    model_1[1][0]                    \n",
      "__________________________________________________________________________________________________\n",
      "model_3 (Model)                 (None, 28, 28, 512)  10585152    model_1[1][0]                    \n",
      "==================================================================================================\n",
      "Total params: 67,712,004\n",
      "Trainable params: 8,960,131\n",
      "Non-trainable params: 58,751,873\n",
      "__________________________________________________________________________________________________\n"
     ]
    }
   ],
   "source": [
    "img_lr = Input(shape=lr_shape)\n",
    "img_hr = Input(shape=hr_shape)\n",
    "gen_hr = SRGAN_gen(img_lr)\n",
    "validity = SRGAN_disc(gen_hr)\n",
    "vgg_features = vggModel(gen_hr)\n",
    "combined = Model([img_lr], [validity, vgg_features])\n",
    "combined.compile(loss=['binary_crossentropy', 'mean_squared_error'],\n",
    "                 loss_weights=[0.001, 0.006],\n",
    "                 optimizer=optimizer)\n",
    "combined.summary()"
   ]
  },
  {
   "cell_type": "code",
   "execution_count": 11,
   "metadata": {},
   "outputs": [
    {
     "data": {
      "image/svg+xml": [
       "<svg height=\"221pt\" viewBox=\"0.00 0.00 732.00 221.00\" width=\"732pt\" xmlns=\"http://www.w3.org/2000/svg\" xmlns:xlink=\"http://www.w3.org/1999/xlink\">\n",
       "<g class=\"graph\" id=\"graph0\" transform=\"scale(1 1) rotate(0) translate(4 217)\">\n",
       "<title>G</title>\n",
       "<polygon fill=\"#ffffff\" points=\"-4,4 -4,-217 728,-217 728,4 -4,4\" stroke=\"transparent\"/>\n",
       "<!-- 140537243532480 -->\n",
       "<g class=\"node\" id=\"node1\">\n",
       "<title>140537243532480</title>\n",
       "<polygon fill=\"none\" points=\"179,-166.5 179,-212.5 544,-212.5 544,-166.5 179,-166.5\" stroke=\"#000000\"/>\n",
       "<text fill=\"#000000\" font-family=\"Times,serif\" font-size=\"14.00\" text-anchor=\"middle\" x=\"259\" y=\"-185.8\">input_2: InputLayer</text>\n",
       "<polyline fill=\"none\" points=\"339,-166.5 339,-212.5 \" stroke=\"#000000\"/>\n",
       "<text fill=\"#000000\" font-family=\"Times,serif\" font-size=\"14.00\" text-anchor=\"middle\" x=\"373\" y=\"-197.3\">input:</text>\n",
       "<polyline fill=\"none\" points=\"339,-189.5 407,-189.5 \" stroke=\"#000000\"/>\n",
       "<text fill=\"#000000\" font-family=\"Times,serif\" font-size=\"14.00\" text-anchor=\"middle\" x=\"373\" y=\"-174.3\">output:</text>\n",
       "<polyline fill=\"none\" points=\"407,-166.5 407,-212.5 \" stroke=\"#000000\"/>\n",
       "<text fill=\"#000000\" font-family=\"Times,serif\" font-size=\"14.00\" text-anchor=\"middle\" x=\"475.5\" y=\"-197.3\">(None, 56, 56, 3)</text>\n",
       "<polyline fill=\"none\" points=\"407,-189.5 544,-189.5 \" stroke=\"#000000\"/>\n",
       "<text fill=\"#000000\" font-family=\"Times,serif\" font-size=\"14.00\" text-anchor=\"middle\" x=\"475.5\" y=\"-174.3\">(None, 56, 56, 3)</text>\n",
       "</g>\n",
       "<!-- 140538780239912 -->\n",
       "<g class=\"node\" id=\"node2\">\n",
       "<title>140538780239912</title>\n",
       "<polygon fill=\"none\" points=\"185,-83.5 185,-129.5 538,-129.5 538,-83.5 185,-83.5\" stroke=\"#000000\"/>\n",
       "<text fill=\"#000000\" font-family=\"Times,serif\" font-size=\"14.00\" text-anchor=\"middle\" x=\"250\" y=\"-102.8\">model_1: Model</text>\n",
       "<polyline fill=\"none\" points=\"315,-83.5 315,-129.5 \" stroke=\"#000000\"/>\n",
       "<text fill=\"#000000\" font-family=\"Times,serif\" font-size=\"14.00\" text-anchor=\"middle\" x=\"349\" y=\"-114.3\">input:</text>\n",
       "<polyline fill=\"none\" points=\"315,-106.5 383,-106.5 \" stroke=\"#000000\"/>\n",
       "<text fill=\"#000000\" font-family=\"Times,serif\" font-size=\"14.00\" text-anchor=\"middle\" x=\"349\" y=\"-91.3\">output:</text>\n",
       "<polyline fill=\"none\" points=\"383,-83.5 383,-129.5 \" stroke=\"#000000\"/>\n",
       "<text fill=\"#000000\" font-family=\"Times,serif\" font-size=\"14.00\" text-anchor=\"middle\" x=\"460.5\" y=\"-114.3\">(None, 56, 56, 3)</text>\n",
       "<polyline fill=\"none\" points=\"383,-106.5 538,-106.5 \" stroke=\"#000000\"/>\n",
       "<text fill=\"#000000\" font-family=\"Times,serif\" font-size=\"14.00\" text-anchor=\"middle\" x=\"460.5\" y=\"-91.3\">(None, 224, 224, 3)</text>\n",
       "</g>\n",
       "<!-- 140537243532480&#45;&gt;140538780239912 -->\n",
       "<g class=\"edge\" id=\"edge1\">\n",
       "<title>140537243532480-&gt;140538780239912</title>\n",
       "<path d=\"M361.5,-166.3799C361.5,-158.1745 361.5,-148.7679 361.5,-139.8786\" fill=\"none\" stroke=\"#000000\"/>\n",
       "<polygon fill=\"#000000\" points=\"365.0001,-139.784 361.5,-129.784 358.0001,-139.784 365.0001,-139.784\" stroke=\"#000000\"/>\n",
       "</g>\n",
       "<!-- 140538046010368 -->\n",
       "<g class=\"node\" id=\"node3\">\n",
       "<title>140538046010368</title>\n",
       "<polygon fill=\"none\" points=\"0,-.5 0,-46.5 353,-46.5 353,-.5 0,-.5\" stroke=\"#000000\"/>\n",
       "<text fill=\"#000000\" font-family=\"Times,serif\" font-size=\"14.00\" text-anchor=\"middle\" x=\"65\" y=\"-19.8\">model_2: Model</text>\n",
       "<polyline fill=\"none\" points=\"130,-.5 130,-46.5 \" stroke=\"#000000\"/>\n",
       "<text fill=\"#000000\" font-family=\"Times,serif\" font-size=\"14.00\" text-anchor=\"middle\" x=\"164\" y=\"-31.3\">input:</text>\n",
       "<polyline fill=\"none\" points=\"130,-23.5 198,-23.5 \" stroke=\"#000000\"/>\n",
       "<text fill=\"#000000\" font-family=\"Times,serif\" font-size=\"14.00\" text-anchor=\"middle\" x=\"164\" y=\"-8.3\">output:</text>\n",
       "<polyline fill=\"none\" points=\"198,-.5 198,-46.5 \" stroke=\"#000000\"/>\n",
       "<text fill=\"#000000\" font-family=\"Times,serif\" font-size=\"14.00\" text-anchor=\"middle\" x=\"275.5\" y=\"-31.3\">(None, 224, 224, 3)</text>\n",
       "<polyline fill=\"none\" points=\"198,-23.5 353,-23.5 \" stroke=\"#000000\"/>\n",
       "<text fill=\"#000000\" font-family=\"Times,serif\" font-size=\"14.00\" text-anchor=\"middle\" x=\"275.5\" y=\"-8.3\">(None, 1)</text>\n",
       "</g>\n",
       "<!-- 140538780239912&#45;&gt;140538046010368 -->\n",
       "<g class=\"edge\" id=\"edge2\">\n",
       "<title>140538780239912-&gt;140538046010368</title>\n",
       "<path d=\"M309.9672,-83.3799C287.4092,-73.2592 260.7776,-61.311 237.2607,-50.7602\" fill=\"none\" stroke=\"#000000\"/>\n",
       "<polygon fill=\"#000000\" points=\"238.6335,-47.5401 228.077,-46.6399 235.7681,-53.9267 238.6335,-47.5401\" stroke=\"#000000\"/>\n",
       "</g>\n",
       "<!-- 140538041895176 -->\n",
       "<g class=\"node\" id=\"node4\">\n",
       "<title>140538041895176</title>\n",
       "<polygon fill=\"none\" points=\"371,-.5 371,-46.5 724,-46.5 724,-.5 371,-.5\" stroke=\"#000000\"/>\n",
       "<text fill=\"#000000\" font-family=\"Times,serif\" font-size=\"14.00\" text-anchor=\"middle\" x=\"436\" y=\"-19.8\">model_3: Model</text>\n",
       "<polyline fill=\"none\" points=\"501,-.5 501,-46.5 \" stroke=\"#000000\"/>\n",
       "<text fill=\"#000000\" font-family=\"Times,serif\" font-size=\"14.00\" text-anchor=\"middle\" x=\"535\" y=\"-31.3\">input:</text>\n",
       "<polyline fill=\"none\" points=\"501,-23.5 569,-23.5 \" stroke=\"#000000\"/>\n",
       "<text fill=\"#000000\" font-family=\"Times,serif\" font-size=\"14.00\" text-anchor=\"middle\" x=\"535\" y=\"-8.3\">output:</text>\n",
       "<polyline fill=\"none\" points=\"569,-.5 569,-46.5 \" stroke=\"#000000\"/>\n",
       "<text fill=\"#000000\" font-family=\"Times,serif\" font-size=\"14.00\" text-anchor=\"middle\" x=\"646.5\" y=\"-31.3\">(None, 224, 224, 3)</text>\n",
       "<polyline fill=\"none\" points=\"569,-23.5 724,-23.5 \" stroke=\"#000000\"/>\n",
       "<text fill=\"#000000\" font-family=\"Times,serif\" font-size=\"14.00\" text-anchor=\"middle\" x=\"646.5\" y=\"-8.3\">(None, 28, 28, 512)</text>\n",
       "</g>\n",
       "<!-- 140538780239912&#45;&gt;140538041895176 -->\n",
       "<g class=\"edge\" id=\"edge3\">\n",
       "<title>140538780239912-&gt;140538041895176</title>\n",
       "<path d=\"M413.3114,-83.3799C435.9913,-73.2592 462.7669,-61.311 486.4109,-50.7602\" fill=\"none\" stroke=\"#000000\"/>\n",
       "<polygon fill=\"#000000\" points=\"487.9385,-53.9113 495.6442,-46.6399 485.0859,-47.5188 487.9385,-53.9113\" stroke=\"#000000\"/>\n",
       "</g>\n",
       "</g>\n",
       "</svg>"
      ],
      "text/plain": [
       "<IPython.core.display.SVG object>"
      ]
     },
     "execution_count": 11,
     "metadata": {},
     "output_type": "execute_result"
    }
   ],
   "source": [
    "SVG(model_to_dot(combined, show_layer_names=True, show_shapes=True).create(prog='dot', format='svg'))"
   ]
  },
  {
   "cell_type": "code",
   "execution_count": 10,
   "metadata": {},
   "outputs": [],
   "source": [
    "path = \"./mainDataset\"\n",
    "dataset_name = \"train\"\n",
    "# for the VGG feature out true labels\n",
    "ni = np.sqrt(batch_size)\n",
    "#disc_patch = (14, 14, 1)"
   ]
  },
  {
   "cell_type": "code",
   "execution_count": 11,
   "metadata": {},
   "outputs": [],
   "source": [
    "def readImage(x,p):\n",
    "    img = cv2.imread(p+x,cv2.IMREAD_COLOR)\n",
    "    return img"
   ]
  },
  {
   "cell_type": "code",
   "execution_count": 12,
   "metadata": {},
   "outputs": [],
   "source": [
    "train_hr_img_list = sorted(tl.files.load_file_list(path=path+'/%s/' % (dataset_name), regx='.*.png', printable=False))\n",
    "#train_hr_imgs = tl.vis.read_images(train_hr_img_list[0:100], path=path+'/%s/' % (dataset_name), n_threads=32)\n",
    "train_hr_imgs = tl.prepro.threading_data(train_hr_img_list,fn=readImage,p=path+'/%s/' % (dataset_name))"
   ]
  },
  {
   "cell_type": "code",
   "execution_count": 13,
   "metadata": {},
   "outputs": [],
   "source": [
    "train_hr_imgs_clean = []\n",
    "for i,img in enumerate(train_hr_imgs):\n",
    "    if img is not None:\n",
    "        train_hr_imgs_clean.append(img)\n",
    "train_hr_imgs = np.array(train_hr_imgs_clean)"
   ]
  },
  {
   "cell_type": "code",
   "execution_count": 14,
   "metadata": {},
   "outputs": [
    {
     "data": {
      "text/plain": [
       "'\\nIdealEpochs = 100000/steps\\n'"
      ]
     },
     "execution_count": 14,
     "metadata": {},
     "output_type": "execute_result"
    }
   ],
   "source": [
    "steps = len(train_hr_imgs)//batch_size\n",
    "'''\n",
    "IdealEpochs = 100000/steps\n",
    "'''\n",
    "#epochs = 400"
   ]
  },
  {
   "cell_type": "code",
   "execution_count": 15,
   "metadata": {},
   "outputs": [],
   "source": [
    "def scaleHR(x):\n",
    "    x = x / (255. / 2.)\n",
    "    x = x - 1.\n",
    "    return x\n",
    "\n",
    "def scaleLR(x):\n",
    "    x = cv2.GaussianBlur(x,(3,3),0)\n",
    "    x = x / 255.\n",
    "    return x\n",
    "    \n",
    "def datagen(dev_hr_imgs,batchSize,is_testing=False):\n",
    "    while(True):\n",
    "        imgs_hr=[]\n",
    "        imgs_lr=[]\n",
    "        imgs = np.random.choice(dev_hr_imgs,batchSize)\n",
    "        #img_hr = tl.prepro.threading_data(imgs, fn=crop, wrg=224, hrg=224, is_random=True)\n",
    "        img_hr = tl.prepro.threading_data(imgs, fn=imresize,size=[224, 224], interp='bicubic', mode=None)\n",
    "        img_lr = tl.prepro.threading_data(imgs, fn=imresize,size=[56, 56], interp='bicubic', mode=None)\n",
    "        \n",
    "        imgs_hr = tl.prepro.threading_data(img_hr,fn=scaleHR)\n",
    "        imgs_lr = tl.prepro.threading_data(img_lr,fn=scaleLR)\n",
    "        \n",
    "        yield imgs_hr, imgs_lr"
   ]
  },
  {
   "cell_type": "code",
   "execution_count": 16,
   "metadata": {},
   "outputs": [],
   "source": [
    "datagenObj = datagen(train_hr_imgs,batch_size)"
   ]
  },
  {
   "cell_type": "code",
   "execution_count": 17,
   "metadata": {},
   "outputs": [],
   "source": [
    "sample_hr,sample_lr = next(datagenObj)"
   ]
  },
  {
   "cell_type": "code",
   "execution_count": 18,
   "metadata": {},
   "outputs": [],
   "source": [
    "tl.vis.save_images(sample_hr, [int(ni), int(ni)],'images/'+dataset_name+'/sample_hr.png')\n",
    "tl.vis.save_images(sample_lr, [int(ni), int(ni)],'images/'+dataset_name+'/sample_lr.png')"
   ]
  },
  {
   "cell_type": "code",
   "execution_count": 19,
   "metadata": {},
   "outputs": [],
   "source": [
    "tensorboard = TensorBoard(\n",
    "  log_dir='log/srgan_replication/SRResNet/run7',\n",
    "  histogram_freq=0,\n",
    "  batch_size=batch_size,\n",
    "  write_graph=True,\n",
    "  write_grads=True\n",
    ")\n",
    "tensorboard.set_model(SRGAN_gen)"
   ]
  },
  {
   "cell_type": "code",
   "execution_count": 69,
   "metadata": {},
   "outputs": [
    {
     "data": {
      "text/plain": [
       "'\\nrun 5 higher LR\\nrun 6 Bigger resnet\\n'"
      ]
     },
     "execution_count": 69,
     "metadata": {},
     "output_type": "execute_result"
    }
   ],
   "source": [
    "'''\n",
    "run 5 higher LR\n",
    "run 6 Bigger resnet\n",
    "run 7 resize instead of crop\n",
    "'''"
   ]
  },
  {
   "cell_type": "code",
   "execution_count": 20,
   "metadata": {},
   "outputs": [],
   "source": [
    "modelcheckpoint = ModelCheckpoint(\n",
    "    filepath = \"./checkpoints/genInitMC.h5\",\n",
    "    monitor='g_loss',\n",
    "    verbose=0,\n",
    "    mode=\"auto\",\n",
    "    save_best_only=True\n",
    ")\n",
    "modelcheckpoint.set_model(SRGAN_gen)"
   ]
  },
  {
   "cell_type": "code",
   "execution_count": null,
   "metadata": {
    "scrolled": true
   },
   "outputs": [
    {
     "name": "stdout",
     "output_type": "stream",
     "text": [
      "Epoch:0\n"
     ]
    },
    {
     "data": {
      "application/vnd.jupyter.widget-view+json": {
       "model_id": "9a0a9d63f495463cb96bc470f973c970",
       "version_major": 2,
       "version_minor": 0
      },
      "text/plain": [
       "HBox(children=(IntProgress(value=0, max=182), HTML(value='')))"
      ]
     },
     "metadata": {},
     "output_type": "display_data"
    },
    {
     "name": "stdout",
     "output_type": "stream",
     "text": [
      "WARNING:tensorflow:From /home/pratik_p_kubal/anaconda3/envs/srgan/lib/python3.7/site-packages/tensorflow/python/ops/math_ops.py:3066: to_int32 (from tensorflow.python.ops.math_ops) is deprecated and will be removed in a future version.\n",
      "Instructions for updating:\n",
      "Use tf.cast instead.\n",
      "\n",
      "Epoch:1\n"
     ]
    },
    {
     "data": {
      "application/vnd.jupyter.widget-view+json": {
       "model_id": "48bebae4fe6f496ea1ddc436404ba095",
       "version_major": 2,
       "version_minor": 0
      },
      "text/plain": [
       "HBox(children=(IntProgress(value=0, max=182), HTML(value='')))"
      ]
     },
     "metadata": {},
     "output_type": "display_data"
    },
    {
     "name": "stdout",
     "output_type": "stream",
     "text": [
      "\n",
      "Epoch:2\n"
     ]
    },
    {
     "data": {
      "application/vnd.jupyter.widget-view+json": {
       "model_id": "2e8c4900c7034e02883b95779c4c1eda",
       "version_major": 2,
       "version_minor": 0
      },
      "text/plain": [
       "HBox(children=(IntProgress(value=0, max=182), HTML(value='')))"
      ]
     },
     "metadata": {},
     "output_type": "display_data"
    },
    {
     "name": "stdout",
     "output_type": "stream",
     "text": [
      "\n",
      "Epoch:3\n"
     ]
    },
    {
     "data": {
      "application/vnd.jupyter.widget-view+json": {
       "model_id": "8a9cf2dbc27748e2b5c48d39ccaa5288",
       "version_major": 2,
       "version_minor": 0
      },
      "text/plain": [
       "HBox(children=(IntProgress(value=0, max=182), HTML(value='')))"
      ]
     },
     "metadata": {},
     "output_type": "display_data"
    },
    {
     "name": "stdout",
     "output_type": "stream",
     "text": [
      "\n",
      "Epoch:4\n"
     ]
    },
    {
     "data": {
      "application/vnd.jupyter.widget-view+json": {
       "model_id": "480a7eff52ba4dd296df66795179c2ad",
       "version_major": 2,
       "version_minor": 0
      },
      "text/plain": [
       "HBox(children=(IntProgress(value=0, max=182), HTML(value='')))"
      ]
     },
     "metadata": {},
     "output_type": "display_data"
    },
    {
     "name": "stdout",
     "output_type": "stream",
     "text": [
      "\n",
      "Epoch:5\n"
     ]
    },
    {
     "data": {
      "application/vnd.jupyter.widget-view+json": {
       "model_id": "631286ab4c7347c7b0a59b93760735e0",
       "version_major": 2,
       "version_minor": 0
      },
      "text/plain": [
       "HBox(children=(IntProgress(value=0, max=182), HTML(value='')))"
      ]
     },
     "metadata": {},
     "output_type": "display_data"
    },
    {
     "name": "stdout",
     "output_type": "stream",
     "text": [
      "\n",
      "Epoch:6\n"
     ]
    },
    {
     "data": {
      "application/vnd.jupyter.widget-view+json": {
       "model_id": "26c74ab4b1a04358b75a2c8f81caf43c",
       "version_major": 2,
       "version_minor": 0
      },
      "text/plain": [
       "HBox(children=(IntProgress(value=0, max=182), HTML(value='')))"
      ]
     },
     "metadata": {},
     "output_type": "display_data"
    },
    {
     "name": "stdout",
     "output_type": "stream",
     "text": [
      "\n",
      "Epoch:7\n"
     ]
    },
    {
     "data": {
      "application/vnd.jupyter.widget-view+json": {
       "model_id": "c5cfa91bad3c4ee694a0fd11d3656fba",
       "version_major": 2,
       "version_minor": 0
      },
      "text/plain": [
       "HBox(children=(IntProgress(value=0, max=182), HTML(value='')))"
      ]
     },
     "metadata": {},
     "output_type": "display_data"
    },
    {
     "name": "stdout",
     "output_type": "stream",
     "text": [
      "\n",
      "Epoch:8\n"
     ]
    },
    {
     "data": {
      "application/vnd.jupyter.widget-view+json": {
       "model_id": "da79e48affde442783565595555d299a",
       "version_major": 2,
       "version_minor": 0
      },
      "text/plain": [
       "HBox(children=(IntProgress(value=0, max=182), HTML(value='')))"
      ]
     },
     "metadata": {},
     "output_type": "display_data"
    },
    {
     "name": "stdout",
     "output_type": "stream",
     "text": [
      "\n",
      "Epoch:9\n"
     ]
    },
    {
     "data": {
      "application/vnd.jupyter.widget-view+json": {
       "model_id": "078186377afe4ae68336492c081c40fe",
       "version_major": 2,
       "version_minor": 0
      },
      "text/plain": [
       "HBox(children=(IntProgress(value=0, max=182), HTML(value='')))"
      ]
     },
     "metadata": {},
     "output_type": "display_data"
    },
    {
     "name": "stdout",
     "output_type": "stream",
     "text": [
      "\n",
      "Epoch:10\n"
     ]
    },
    {
     "data": {
      "application/vnd.jupyter.widget-view+json": {
       "model_id": "3ba1cb44548642d4905683101fdc53a7",
       "version_major": 2,
       "version_minor": 0
      },
      "text/plain": [
       "HBox(children=(IntProgress(value=0, max=182), HTML(value='')))"
      ]
     },
     "metadata": {},
     "output_type": "display_data"
    },
    {
     "name": "stdout",
     "output_type": "stream",
     "text": [
      "\n",
      "Epoch:11\n"
     ]
    },
    {
     "data": {
      "application/vnd.jupyter.widget-view+json": {
       "model_id": "eea0a58ff9c647b4878b8c148d82cfee",
       "version_major": 2,
       "version_minor": 0
      },
      "text/plain": [
       "HBox(children=(IntProgress(value=0, max=182), HTML(value='')))"
      ]
     },
     "metadata": {},
     "output_type": "display_data"
    },
    {
     "name": "stdout",
     "output_type": "stream",
     "text": [
      "\n",
      "Epoch:12\n"
     ]
    },
    {
     "data": {
      "application/vnd.jupyter.widget-view+json": {
       "model_id": "35d443edf50e43efaefbb1444dc1347d",
       "version_major": 2,
       "version_minor": 0
      },
      "text/plain": [
       "HBox(children=(IntProgress(value=0, max=182), HTML(value='')))"
      ]
     },
     "metadata": {},
     "output_type": "display_data"
    },
    {
     "name": "stdout",
     "output_type": "stream",
     "text": [
      "\n",
      "Epoch:13\n"
     ]
    },
    {
     "data": {
      "application/vnd.jupyter.widget-view+json": {
       "model_id": "c0494129fa7e47b5a36772201f85beba",
       "version_major": 2,
       "version_minor": 0
      },
      "text/plain": [
       "HBox(children=(IntProgress(value=0, max=182), HTML(value='')))"
      ]
     },
     "metadata": {},
     "output_type": "display_data"
    },
    {
     "name": "stdout",
     "output_type": "stream",
     "text": [
      "\n",
      "Epoch:14\n"
     ]
    },
    {
     "data": {
      "application/vnd.jupyter.widget-view+json": {
       "model_id": "a8dee4c1a1d4442898119a7ba16e423f",
       "version_major": 2,
       "version_minor": 0
      },
      "text/plain": [
       "HBox(children=(IntProgress(value=0, max=182), HTML(value='')))"
      ]
     },
     "metadata": {},
     "output_type": "display_data"
    },
    {
     "name": "stdout",
     "output_type": "stream",
     "text": [
      "\n",
      "Epoch:15\n"
     ]
    },
    {
     "data": {
      "application/vnd.jupyter.widget-view+json": {
       "model_id": "98f7f3ea05394e28a363b923ffcb13f7",
       "version_major": 2,
       "version_minor": 0
      },
      "text/plain": [
       "HBox(children=(IntProgress(value=0, max=182), HTML(value='')))"
      ]
     },
     "metadata": {},
     "output_type": "display_data"
    },
    {
     "name": "stdout",
     "output_type": "stream",
     "text": [
      "\n",
      "Epoch:16\n"
     ]
    },
    {
     "data": {
      "application/vnd.jupyter.widget-view+json": {
       "model_id": "5831dab17aec46c5bf1c16ad4cc9e007",
       "version_major": 2,
       "version_minor": 0
      },
      "text/plain": [
       "HBox(children=(IntProgress(value=0, max=182), HTML(value='')))"
      ]
     },
     "metadata": {},
     "output_type": "display_data"
    },
    {
     "name": "stdout",
     "output_type": "stream",
     "text": [
      "\n",
      "Epoch:17\n"
     ]
    },
    {
     "data": {
      "application/vnd.jupyter.widget-view+json": {
       "model_id": "edc295a58ef34047ae132a486fc1275e",
       "version_major": 2,
       "version_minor": 0
      },
      "text/plain": [
       "HBox(children=(IntProgress(value=0, max=182), HTML(value='')))"
      ]
     },
     "metadata": {},
     "output_type": "display_data"
    },
    {
     "name": "stdout",
     "output_type": "stream",
     "text": [
      "\n",
      "Epoch:18\n"
     ]
    },
    {
     "data": {
      "application/vnd.jupyter.widget-view+json": {
       "model_id": "e7ba0ecb74fe45dba623a5cb886d940e",
       "version_major": 2,
       "version_minor": 0
      },
      "text/plain": [
       "HBox(children=(IntProgress(value=0, max=182), HTML(value='')))"
      ]
     },
     "metadata": {},
     "output_type": "display_data"
    },
    {
     "name": "stdout",
     "output_type": "stream",
     "text": [
      "\n",
      "Epoch:19\n"
     ]
    },
    {
     "data": {
      "application/vnd.jupyter.widget-view+json": {
       "model_id": "ca5bdbf263744bf682598a164b00e304",
       "version_major": 2,
       "version_minor": 0
      },
      "text/plain": [
       "HBox(children=(IntProgress(value=0, max=182), HTML(value='')))"
      ]
     },
     "metadata": {},
     "output_type": "display_data"
    },
    {
     "name": "stdout",
     "output_type": "stream",
     "text": [
      "\n",
      "Epoch:20\n"
     ]
    },
    {
     "data": {
      "application/vnd.jupyter.widget-view+json": {
       "model_id": "42622842acea4af5b30ab147dd2b46d8",
       "version_major": 2,
       "version_minor": 0
      },
      "text/plain": [
       "HBox(children=(IntProgress(value=0, max=182), HTML(value='')))"
      ]
     },
     "metadata": {},
     "output_type": "display_data"
    },
    {
     "name": "stdout",
     "output_type": "stream",
     "text": [
      "\n",
      "Epoch:21\n"
     ]
    },
    {
     "data": {
      "application/vnd.jupyter.widget-view+json": {
       "model_id": "d1bfcb80c3da4c2ebda450e43a037fc2",
       "version_major": 2,
       "version_minor": 0
      },
      "text/plain": [
       "HBox(children=(IntProgress(value=0, max=182), HTML(value='')))"
      ]
     },
     "metadata": {},
     "output_type": "display_data"
    },
    {
     "name": "stdout",
     "output_type": "stream",
     "text": [
      "\n",
      "Epoch:22\n"
     ]
    },
    {
     "data": {
      "application/vnd.jupyter.widget-view+json": {
       "model_id": "fda611cef3984e87b84d0a474f6d4d4d",
       "version_major": 2,
       "version_minor": 0
      },
      "text/plain": [
       "HBox(children=(IntProgress(value=0, max=182), HTML(value='')))"
      ]
     },
     "metadata": {},
     "output_type": "display_data"
    },
    {
     "name": "stdout",
     "output_type": "stream",
     "text": [
      "\n",
      "Epoch:23\n"
     ]
    },
    {
     "data": {
      "application/vnd.jupyter.widget-view+json": {
       "model_id": "8ef6741f7f35403e9e25e03d522f1538",
       "version_major": 2,
       "version_minor": 0
      },
      "text/plain": [
       "HBox(children=(IntProgress(value=0, max=182), HTML(value='')))"
      ]
     },
     "metadata": {},
     "output_type": "display_data"
    },
    {
     "name": "stdout",
     "output_type": "stream",
     "text": [
      "\n",
      "Epoch:24\n"
     ]
    },
    {
     "data": {
      "application/vnd.jupyter.widget-view+json": {
       "model_id": "b6b798299b1a415f9dc26a54277f4c8b",
       "version_major": 2,
       "version_minor": 0
      },
      "text/plain": [
       "HBox(children=(IntProgress(value=0, max=182), HTML(value='')))"
      ]
     },
     "metadata": {},
     "output_type": "display_data"
    },
    {
     "name": "stdout",
     "output_type": "stream",
     "text": [
      "\n",
      "Epoch:25\n"
     ]
    },
    {
     "data": {
      "application/vnd.jupyter.widget-view+json": {
       "model_id": "67e2b359321b449a8155cc3533f788c1",
       "version_major": 2,
       "version_minor": 0
      },
      "text/plain": [
       "HBox(children=(IntProgress(value=0, max=182), HTML(value='')))"
      ]
     },
     "metadata": {},
     "output_type": "display_data"
    },
    {
     "name": "stdout",
     "output_type": "stream",
     "text": [
      "\n",
      "Epoch:26\n"
     ]
    },
    {
     "data": {
      "application/vnd.jupyter.widget-view+json": {
       "model_id": "27f1449fe90644e0a35ddc5a352ee1e6",
       "version_major": 2,
       "version_minor": 0
      },
      "text/plain": [
       "HBox(children=(IntProgress(value=0, max=182), HTML(value='')))"
      ]
     },
     "metadata": {},
     "output_type": "display_data"
    },
    {
     "name": "stdout",
     "output_type": "stream",
     "text": [
      "\n",
      "Epoch:27\n"
     ]
    },
    {
     "data": {
      "application/vnd.jupyter.widget-view+json": {
       "model_id": "29c67a144ac84fce8340887fab575138",
       "version_major": 2,
       "version_minor": 0
      },
      "text/plain": [
       "HBox(children=(IntProgress(value=0, max=182), HTML(value='')))"
      ]
     },
     "metadata": {},
     "output_type": "display_data"
    },
    {
     "name": "stdout",
     "output_type": "stream",
     "text": [
      "\n",
      "Epoch:28\n"
     ]
    },
    {
     "data": {
      "application/vnd.jupyter.widget-view+json": {
       "model_id": "8db0c91ce2b44ecb8a55b9f2526745fb",
       "version_major": 2,
       "version_minor": 0
      },
      "text/plain": [
       "HBox(children=(IntProgress(value=0, max=182), HTML(value='')))"
      ]
     },
     "metadata": {},
     "output_type": "display_data"
    },
    {
     "name": "stdout",
     "output_type": "stream",
     "text": [
      "\n",
      "Epoch:29\n"
     ]
    },
    {
     "data": {
      "application/vnd.jupyter.widget-view+json": {
       "model_id": "a0fb4ca3de144deda0a7ceb5a0fb8917",
       "version_major": 2,
       "version_minor": 0
      },
      "text/plain": [
       "HBox(children=(IntProgress(value=0, max=182), HTML(value='')))"
      ]
     },
     "metadata": {},
     "output_type": "display_data"
    },
    {
     "name": "stdout",
     "output_type": "stream",
     "text": [
      "\n",
      "Epoch:30\n"
     ]
    },
    {
     "data": {
      "application/vnd.jupyter.widget-view+json": {
       "model_id": "98e1a8cab8b54076ac73071f69f58b19",
       "version_major": 2,
       "version_minor": 0
      },
      "text/plain": [
       "HBox(children=(IntProgress(value=0, max=182), HTML(value='')))"
      ]
     },
     "metadata": {},
     "output_type": "display_data"
    },
    {
     "name": "stdout",
     "output_type": "stream",
     "text": [
      "\n",
      "Epoch:31\n"
     ]
    },
    {
     "data": {
      "application/vnd.jupyter.widget-view+json": {
       "model_id": "0f1df11e764b41e58d19ac0055d7b846",
       "version_major": 2,
       "version_minor": 0
      },
      "text/plain": [
       "HBox(children=(IntProgress(value=0, max=182), HTML(value='')))"
      ]
     },
     "metadata": {},
     "output_type": "display_data"
    },
    {
     "name": "stdout",
     "output_type": "stream",
     "text": [
      "\n",
      "Epoch:32\n"
     ]
    },
    {
     "data": {
      "application/vnd.jupyter.widget-view+json": {
       "model_id": "598c832062594a19b99474cf07333358",
       "version_major": 2,
       "version_minor": 0
      },
      "text/plain": [
       "HBox(children=(IntProgress(value=0, max=182), HTML(value='')))"
      ]
     },
     "metadata": {},
     "output_type": "display_data"
    },
    {
     "name": "stdout",
     "output_type": "stream",
     "text": [
      "\n",
      "Epoch:33\n"
     ]
    },
    {
     "data": {
      "application/vnd.jupyter.widget-view+json": {
       "model_id": "2ef7863ec0ba4eca844eba317ee25e13",
       "version_major": 2,
       "version_minor": 0
      },
      "text/plain": [
       "HBox(children=(IntProgress(value=0, max=182), HTML(value='')))"
      ]
     },
     "metadata": {},
     "output_type": "display_data"
    },
    {
     "name": "stdout",
     "output_type": "stream",
     "text": [
      "\n",
      "Epoch:34\n"
     ]
    },
    {
     "data": {
      "application/vnd.jupyter.widget-view+json": {
       "model_id": "88fd263684a04754b1752f3d0ce94cc7",
       "version_major": 2,
       "version_minor": 0
      },
      "text/plain": [
       "HBox(children=(IntProgress(value=0, max=182), HTML(value='')))"
      ]
     },
     "metadata": {},
     "output_type": "display_data"
    },
    {
     "name": "stdout",
     "output_type": "stream",
     "text": [
      "\n",
      "Epoch:35\n"
     ]
    },
    {
     "data": {
      "application/vnd.jupyter.widget-view+json": {
       "model_id": "b91a6a09243e4b179e580c41f1c238a8",
       "version_major": 2,
       "version_minor": 0
      },
      "text/plain": [
       "HBox(children=(IntProgress(value=0, max=182), HTML(value='')))"
      ]
     },
     "metadata": {},
     "output_type": "display_data"
    },
    {
     "name": "stdout",
     "output_type": "stream",
     "text": [
      "\n",
      "Epoch:36\n"
     ]
    },
    {
     "data": {
      "application/vnd.jupyter.widget-view+json": {
       "model_id": "91eb9bd7495c415e81872a04622259a4",
       "version_major": 2,
       "version_minor": 0
      },
      "text/plain": [
       "HBox(children=(IntProgress(value=0, max=182), HTML(value='')))"
      ]
     },
     "metadata": {},
     "output_type": "display_data"
    },
    {
     "name": "stdout",
     "output_type": "stream",
     "text": [
      "\n",
      "Epoch:37\n"
     ]
    },
    {
     "data": {
      "application/vnd.jupyter.widget-view+json": {
       "model_id": "92ca7c36431b4d8e873d22a1beea2ff0",
       "version_major": 2,
       "version_minor": 0
      },
      "text/plain": [
       "HBox(children=(IntProgress(value=0, max=182), HTML(value='')))"
      ]
     },
     "metadata": {},
     "output_type": "display_data"
    },
    {
     "name": "stdout",
     "output_type": "stream",
     "text": [
      "\n",
      "Epoch:38\n"
     ]
    },
    {
     "data": {
      "application/vnd.jupyter.widget-view+json": {
       "model_id": "c157293c78794f5eae45b676d5b4ab92",
       "version_major": 2,
       "version_minor": 0
      },
      "text/plain": [
       "HBox(children=(IntProgress(value=0, max=182), HTML(value='')))"
      ]
     },
     "metadata": {},
     "output_type": "display_data"
    },
    {
     "name": "stdout",
     "output_type": "stream",
     "text": [
      "\n",
      "Epoch:39\n"
     ]
    },
    {
     "data": {
      "application/vnd.jupyter.widget-view+json": {
       "model_id": "364cc15e1fad4ae1a63b9b0f3a92bc5a",
       "version_major": 2,
       "version_minor": 0
      },
      "text/plain": [
       "HBox(children=(IntProgress(value=0, max=182), HTML(value='')))"
      ]
     },
     "metadata": {},
     "output_type": "display_data"
    },
    {
     "name": "stdout",
     "output_type": "stream",
     "text": [
      "\n",
      "Epoch:40\n"
     ]
    },
    {
     "data": {
      "application/vnd.jupyter.widget-view+json": {
       "model_id": "c6ee6aa3c247487e927042dc804bdd82",
       "version_major": 2,
       "version_minor": 0
      },
      "text/plain": [
       "HBox(children=(IntProgress(value=0, max=182), HTML(value='')))"
      ]
     },
     "metadata": {},
     "output_type": "display_data"
    },
    {
     "name": "stdout",
     "output_type": "stream",
     "text": [
      "\n",
      "Epoch:41\n"
     ]
    },
    {
     "data": {
      "application/vnd.jupyter.widget-view+json": {
       "model_id": "01c388b3c7e44e828535cc7177df2dd7",
       "version_major": 2,
       "version_minor": 0
      },
      "text/plain": [
       "HBox(children=(IntProgress(value=0, max=182), HTML(value='')))"
      ]
     },
     "metadata": {},
     "output_type": "display_data"
    },
    {
     "name": "stdout",
     "output_type": "stream",
     "text": [
      "\n",
      "Epoch:42\n"
     ]
    },
    {
     "data": {
      "application/vnd.jupyter.widget-view+json": {
       "model_id": "2de56364ac0a43a3bcc46b328a5be7c1",
       "version_major": 2,
       "version_minor": 0
      },
      "text/plain": [
       "HBox(children=(IntProgress(value=0, max=182), HTML(value='')))"
      ]
     },
     "metadata": {},
     "output_type": "display_data"
    },
    {
     "name": "stdout",
     "output_type": "stream",
     "text": [
      "\n",
      "Epoch:43\n"
     ]
    },
    {
     "data": {
      "application/vnd.jupyter.widget-view+json": {
       "model_id": "8d3db6e49e85409791d54776b7055845",
       "version_major": 2,
       "version_minor": 0
      },
      "text/plain": [
       "HBox(children=(IntProgress(value=0, max=182), HTML(value='')))"
      ]
     },
     "metadata": {},
     "output_type": "display_data"
    },
    {
     "name": "stdout",
     "output_type": "stream",
     "text": [
      "\n",
      "Epoch:44\n"
     ]
    },
    {
     "data": {
      "application/vnd.jupyter.widget-view+json": {
       "model_id": "d4186e12a9064b13b8f4b2e9d03a47a8",
       "version_major": 2,
       "version_minor": 0
      },
      "text/plain": [
       "HBox(children=(IntProgress(value=0, max=182), HTML(value='')))"
      ]
     },
     "metadata": {},
     "output_type": "display_data"
    },
    {
     "name": "stdout",
     "output_type": "stream",
     "text": [
      "\n",
      "Epoch:45\n"
     ]
    },
    {
     "data": {
      "application/vnd.jupyter.widget-view+json": {
       "model_id": "4cc1d3ca0c7648999011cedf5844206b",
       "version_major": 2,
       "version_minor": 0
      },
      "text/plain": [
       "HBox(children=(IntProgress(value=0, max=182), HTML(value='')))"
      ]
     },
     "metadata": {},
     "output_type": "display_data"
    },
    {
     "name": "stdout",
     "output_type": "stream",
     "text": [
      "\n",
      "Epoch:46\n"
     ]
    },
    {
     "data": {
      "application/vnd.jupyter.widget-view+json": {
       "model_id": "fe6c3d9a44f04455a7c444140b0e8a90",
       "version_major": 2,
       "version_minor": 0
      },
      "text/plain": [
       "HBox(children=(IntProgress(value=0, max=182), HTML(value='')))"
      ]
     },
     "metadata": {},
     "output_type": "display_data"
    },
    {
     "name": "stdout",
     "output_type": "stream",
     "text": [
      "\n",
      "Epoch:47\n"
     ]
    },
    {
     "data": {
      "application/vnd.jupyter.widget-view+json": {
       "model_id": "3fb94e71c8d343b4b9fb900b378e3bf3",
       "version_major": 2,
       "version_minor": 0
      },
      "text/plain": [
       "HBox(children=(IntProgress(value=0, max=182), HTML(value='')))"
      ]
     },
     "metadata": {},
     "output_type": "display_data"
    },
    {
     "name": "stdout",
     "output_type": "stream",
     "text": [
      "\n",
      "Epoch:48\n"
     ]
    },
    {
     "data": {
      "application/vnd.jupyter.widget-view+json": {
       "model_id": "09dd067abe0948ccb4e8dacf327c9fba",
       "version_major": 2,
       "version_minor": 0
      },
      "text/plain": [
       "HBox(children=(IntProgress(value=0, max=182), HTML(value='')))"
      ]
     },
     "metadata": {},
     "output_type": "display_data"
    },
    {
     "name": "stdout",
     "output_type": "stream",
     "text": [
      "\n",
      "Epoch:49\n"
     ]
    },
    {
     "data": {
      "application/vnd.jupyter.widget-view+json": {
       "model_id": "d3b8fc299b6e438484a9f291384206ab",
       "version_major": 2,
       "version_minor": 0
      },
      "text/plain": [
       "HBox(children=(IntProgress(value=0, max=182), HTML(value='')))"
      ]
     },
     "metadata": {},
     "output_type": "display_data"
    },
    {
     "name": "stdout",
     "output_type": "stream",
     "text": [
      "\n",
      "Epoch:50\n"
     ]
    },
    {
     "data": {
      "application/vnd.jupyter.widget-view+json": {
       "model_id": "dd90c2b4e5bd404cb8c459ac29433028",
       "version_major": 2,
       "version_minor": 0
      },
      "text/plain": [
       "HBox(children=(IntProgress(value=0, max=182), HTML(value='')))"
      ]
     },
     "metadata": {},
     "output_type": "display_data"
    },
    {
     "name": "stdout",
     "output_type": "stream",
     "text": [
      "\n",
      "Epoch:51\n"
     ]
    },
    {
     "data": {
      "application/vnd.jupyter.widget-view+json": {
       "model_id": "b54ef12cc0014dc1a26d043d0698213a",
       "version_major": 2,
       "version_minor": 0
      },
      "text/plain": [
       "HBox(children=(IntProgress(value=0, max=182), HTML(value='')))"
      ]
     },
     "metadata": {},
     "output_type": "display_data"
    },
    {
     "name": "stdout",
     "output_type": "stream",
     "text": [
      "\n",
      "Epoch:52\n"
     ]
    },
    {
     "data": {
      "application/vnd.jupyter.widget-view+json": {
       "model_id": "f3ada969ad064fc198558926d5bd4adb",
       "version_major": 2,
       "version_minor": 0
      },
      "text/plain": [
       "HBox(children=(IntProgress(value=0, max=182), HTML(value='')))"
      ]
     },
     "metadata": {},
     "output_type": "display_data"
    },
    {
     "name": "stdout",
     "output_type": "stream",
     "text": [
      "\n",
      "Epoch:53\n"
     ]
    },
    {
     "data": {
      "application/vnd.jupyter.widget-view+json": {
       "model_id": "57bc45fb3e224dda811c42b6f8af29a7",
       "version_major": 2,
       "version_minor": 0
      },
      "text/plain": [
       "HBox(children=(IntProgress(value=0, max=182), HTML(value='')))"
      ]
     },
     "metadata": {},
     "output_type": "display_data"
    },
    {
     "name": "stdout",
     "output_type": "stream",
     "text": [
      "\n",
      "Epoch:54\n"
     ]
    },
    {
     "data": {
      "application/vnd.jupyter.widget-view+json": {
       "model_id": "5447f72b18a64ebe97a34b5b5a37f0a3",
       "version_major": 2,
       "version_minor": 0
      },
      "text/plain": [
       "HBox(children=(IntProgress(value=0, max=182), HTML(value='')))"
      ]
     },
     "metadata": {},
     "output_type": "display_data"
    },
    {
     "name": "stdout",
     "output_type": "stream",
     "text": [
      "\n",
      "Epoch:55\n"
     ]
    },
    {
     "data": {
      "application/vnd.jupyter.widget-view+json": {
       "model_id": "14999dc1b958455583033597903cb823",
       "version_major": 2,
       "version_minor": 0
      },
      "text/plain": [
       "HBox(children=(IntProgress(value=0, max=182), HTML(value='')))"
      ]
     },
     "metadata": {},
     "output_type": "display_data"
    },
    {
     "name": "stdout",
     "output_type": "stream",
     "text": [
      "\n",
      "Epoch:56\n"
     ]
    },
    {
     "data": {
      "application/vnd.jupyter.widget-view+json": {
       "model_id": "5f64a1c5f026464e95c8493a1454da2c",
       "version_major": 2,
       "version_minor": 0
      },
      "text/plain": [
       "HBox(children=(IntProgress(value=0, max=182), HTML(value='')))"
      ]
     },
     "metadata": {},
     "output_type": "display_data"
    },
    {
     "name": "stdout",
     "output_type": "stream",
     "text": [
      "\n",
      "Epoch:57\n"
     ]
    },
    {
     "data": {
      "application/vnd.jupyter.widget-view+json": {
       "model_id": "18dfcf118b07488195fc3f4fe1c4faa7",
       "version_major": 2,
       "version_minor": 0
      },
      "text/plain": [
       "HBox(children=(IntProgress(value=0, max=182), HTML(value='')))"
      ]
     },
     "metadata": {},
     "output_type": "display_data"
    },
    {
     "name": "stdout",
     "output_type": "stream",
     "text": [
      "\n",
      "Epoch:58\n"
     ]
    },
    {
     "data": {
      "application/vnd.jupyter.widget-view+json": {
       "model_id": "96601ba51f8b457daf75fa636c0fb4ec",
       "version_major": 2,
       "version_minor": 0
      },
      "text/plain": [
       "HBox(children=(IntProgress(value=0, max=182), HTML(value='')))"
      ]
     },
     "metadata": {},
     "output_type": "display_data"
    },
    {
     "name": "stdout",
     "output_type": "stream",
     "text": [
      "\n",
      "Epoch:59\n"
     ]
    },
    {
     "data": {
      "application/vnd.jupyter.widget-view+json": {
       "model_id": "40a37dcf0d994b11b73cac9de3ff372d",
       "version_major": 2,
       "version_minor": 0
      },
      "text/plain": [
       "HBox(children=(IntProgress(value=0, max=182), HTML(value='')))"
      ]
     },
     "metadata": {},
     "output_type": "display_data"
    },
    {
     "name": "stdout",
     "output_type": "stream",
     "text": [
      "\n",
      "Epoch:60\n"
     ]
    },
    {
     "data": {
      "application/vnd.jupyter.widget-view+json": {
       "model_id": "62e529519a664c7296636ece12e6b597",
       "version_major": 2,
       "version_minor": 0
      },
      "text/plain": [
       "HBox(children=(IntProgress(value=0, max=182), HTML(value='')))"
      ]
     },
     "metadata": {},
     "output_type": "display_data"
    },
    {
     "name": "stdout",
     "output_type": "stream",
     "text": [
      "\n",
      "Epoch:61\n"
     ]
    },
    {
     "data": {
      "application/vnd.jupyter.widget-view+json": {
       "model_id": "31cf1db60ec4448eb79953596606f98a",
       "version_major": 2,
       "version_minor": 0
      },
      "text/plain": [
       "HBox(children=(IntProgress(value=0, max=182), HTML(value='')))"
      ]
     },
     "metadata": {},
     "output_type": "display_data"
    },
    {
     "name": "stdout",
     "output_type": "stream",
     "text": [
      "\n",
      "Epoch:62\n"
     ]
    },
    {
     "data": {
      "application/vnd.jupyter.widget-view+json": {
       "model_id": "811b3d0d1c6449c5b1625a81011d8d02",
       "version_major": 2,
       "version_minor": 0
      },
      "text/plain": [
       "HBox(children=(IntProgress(value=0, max=182), HTML(value='')))"
      ]
     },
     "metadata": {},
     "output_type": "display_data"
    },
    {
     "name": "stdout",
     "output_type": "stream",
     "text": [
      "\n",
      "Epoch:63\n"
     ]
    },
    {
     "data": {
      "application/vnd.jupyter.widget-view+json": {
       "model_id": "067e3eae65534248a9b967af29ded07c",
       "version_major": 2,
       "version_minor": 0
      },
      "text/plain": [
       "HBox(children=(IntProgress(value=0, max=182), HTML(value='')))"
      ]
     },
     "metadata": {},
     "output_type": "display_data"
    },
    {
     "name": "stdout",
     "output_type": "stream",
     "text": [
      "\n",
      "Epoch:64\n"
     ]
    },
    {
     "data": {
      "application/vnd.jupyter.widget-view+json": {
       "model_id": "d28cc1b326d14b798aa1573885ef72ef",
       "version_major": 2,
       "version_minor": 0
      },
      "text/plain": [
       "HBox(children=(IntProgress(value=0, max=182), HTML(value='')))"
      ]
     },
     "metadata": {},
     "output_type": "display_data"
    },
    {
     "name": "stdout",
     "output_type": "stream",
     "text": [
      "\n",
      "Epoch:65\n"
     ]
    },
    {
     "data": {
      "application/vnd.jupyter.widget-view+json": {
       "model_id": "00a38e08ff284dd58a22323c080abdaf",
       "version_major": 2,
       "version_minor": 0
      },
      "text/plain": [
       "HBox(children=(IntProgress(value=0, max=182), HTML(value='')))"
      ]
     },
     "metadata": {},
     "output_type": "display_data"
    },
    {
     "name": "stdout",
     "output_type": "stream",
     "text": [
      "\n",
      "Epoch:66\n"
     ]
    },
    {
     "data": {
      "application/vnd.jupyter.widget-view+json": {
       "model_id": "34394fb4607847c1a898f129516924b2",
       "version_major": 2,
       "version_minor": 0
      },
      "text/plain": [
       "HBox(children=(IntProgress(value=0, max=182), HTML(value='')))"
      ]
     },
     "metadata": {},
     "output_type": "display_data"
    },
    {
     "name": "stdout",
     "output_type": "stream",
     "text": [
      "\n",
      "Epoch:67\n"
     ]
    },
    {
     "data": {
      "application/vnd.jupyter.widget-view+json": {
       "model_id": "b590e0ff0e3b4d2b9d60905194db0ccc",
       "version_major": 2,
       "version_minor": 0
      },
      "text/plain": [
       "HBox(children=(IntProgress(value=0, max=182), HTML(value='')))"
      ]
     },
     "metadata": {},
     "output_type": "display_data"
    },
    {
     "name": "stdout",
     "output_type": "stream",
     "text": [
      "\n",
      "Epoch:68\n"
     ]
    },
    {
     "data": {
      "application/vnd.jupyter.widget-view+json": {
       "model_id": "9fec02cb8e5f47ee957154be7f6eae80",
       "version_major": 2,
       "version_minor": 0
      },
      "text/plain": [
       "HBox(children=(IntProgress(value=0, max=182), HTML(value='')))"
      ]
     },
     "metadata": {},
     "output_type": "display_data"
    },
    {
     "name": "stdout",
     "output_type": "stream",
     "text": [
      "\n",
      "Epoch:69\n"
     ]
    },
    {
     "data": {
      "application/vnd.jupyter.widget-view+json": {
       "model_id": "6d95559849fe47efba3704f329980920",
       "version_major": 2,
       "version_minor": 0
      },
      "text/plain": [
       "HBox(children=(IntProgress(value=0, max=182), HTML(value='')))"
      ]
     },
     "metadata": {},
     "output_type": "display_data"
    },
    {
     "name": "stdout",
     "output_type": "stream",
     "text": [
      "\n",
      "Epoch:70\n"
     ]
    },
    {
     "data": {
      "application/vnd.jupyter.widget-view+json": {
       "model_id": "36aa31e179264e5ebbfab9c6461e73e9",
       "version_major": 2,
       "version_minor": 0
      },
      "text/plain": [
       "HBox(children=(IntProgress(value=0, max=182), HTML(value='')))"
      ]
     },
     "metadata": {},
     "output_type": "display_data"
    },
    {
     "name": "stdout",
     "output_type": "stream",
     "text": [
      "\n",
      "Epoch:71\n"
     ]
    },
    {
     "data": {
      "application/vnd.jupyter.widget-view+json": {
       "model_id": "58f8dbd02e1a420da52513f4ab723b06",
       "version_major": 2,
       "version_minor": 0
      },
      "text/plain": [
       "HBox(children=(IntProgress(value=0, max=182), HTML(value='')))"
      ]
     },
     "metadata": {},
     "output_type": "display_data"
    },
    {
     "name": "stdout",
     "output_type": "stream",
     "text": [
      "\n",
      "Epoch:72\n"
     ]
    },
    {
     "data": {
      "application/vnd.jupyter.widget-view+json": {
       "model_id": "5e1e9b730037462ead20c0e6ec8c32d5",
       "version_major": 2,
       "version_minor": 0
      },
      "text/plain": [
       "HBox(children=(IntProgress(value=0, max=182), HTML(value='')))"
      ]
     },
     "metadata": {},
     "output_type": "display_data"
    },
    {
     "name": "stdout",
     "output_type": "stream",
     "text": [
      "\n",
      "Epoch:73\n"
     ]
    },
    {
     "data": {
      "application/vnd.jupyter.widget-view+json": {
       "model_id": "33f3afafd56a4970b479ccf8f9a5c1ef",
       "version_major": 2,
       "version_minor": 0
      },
      "text/plain": [
       "HBox(children=(IntProgress(value=0, max=182), HTML(value='')))"
      ]
     },
     "metadata": {},
     "output_type": "display_data"
    },
    {
     "name": "stdout",
     "output_type": "stream",
     "text": [
      "\n",
      "Epoch:74\n"
     ]
    },
    {
     "data": {
      "application/vnd.jupyter.widget-view+json": {
       "model_id": "b5e44760d8c548b995735058f226233f",
       "version_major": 2,
       "version_minor": 0
      },
      "text/plain": [
       "HBox(children=(IntProgress(value=0, max=182), HTML(value='')))"
      ]
     },
     "metadata": {},
     "output_type": "display_data"
    },
    {
     "name": "stdout",
     "output_type": "stream",
     "text": [
      "\n",
      "Epoch:75\n"
     ]
    },
    {
     "data": {
      "application/vnd.jupyter.widget-view+json": {
       "model_id": "d34cbc64b93d471a9eebf409b5cf9502",
       "version_major": 2,
       "version_minor": 0
      },
      "text/plain": [
       "HBox(children=(IntProgress(value=0, max=182), HTML(value='')))"
      ]
     },
     "metadata": {},
     "output_type": "display_data"
    },
    {
     "name": "stdout",
     "output_type": "stream",
     "text": [
      "\n",
      "Epoch:76\n"
     ]
    },
    {
     "data": {
      "application/vnd.jupyter.widget-view+json": {
       "model_id": "24a10c08fb024dd0a6da056280b9e137",
       "version_major": 2,
       "version_minor": 0
      },
      "text/plain": [
       "HBox(children=(IntProgress(value=0, max=182), HTML(value='')))"
      ]
     },
     "metadata": {},
     "output_type": "display_data"
    },
    {
     "name": "stdout",
     "output_type": "stream",
     "text": [
      "\n",
      "Epoch:77\n"
     ]
    },
    {
     "data": {
      "application/vnd.jupyter.widget-view+json": {
       "model_id": "4e2e93125ae1434eb1048d970325dd03",
       "version_major": 2,
       "version_minor": 0
      },
      "text/plain": [
       "HBox(children=(IntProgress(value=0, max=182), HTML(value='')))"
      ]
     },
     "metadata": {},
     "output_type": "display_data"
    },
    {
     "name": "stdout",
     "output_type": "stream",
     "text": [
      "\n",
      "Epoch:78\n"
     ]
    },
    {
     "data": {
      "application/vnd.jupyter.widget-view+json": {
       "model_id": "ee9ff360d7a446108c239bde250f894e",
       "version_major": 2,
       "version_minor": 0
      },
      "text/plain": [
       "HBox(children=(IntProgress(value=0, max=182), HTML(value='')))"
      ]
     },
     "metadata": {},
     "output_type": "display_data"
    },
    {
     "name": "stdout",
     "output_type": "stream",
     "text": [
      "\n",
      "Epoch:79\n"
     ]
    },
    {
     "data": {
      "application/vnd.jupyter.widget-view+json": {
       "model_id": "1efa0451df3a4b16ae8193e4db905d7d",
       "version_major": 2,
       "version_minor": 0
      },
      "text/plain": [
       "HBox(children=(IntProgress(value=0, max=182), HTML(value='')))"
      ]
     },
     "metadata": {},
     "output_type": "display_data"
    },
    {
     "name": "stdout",
     "output_type": "stream",
     "text": [
      "\n",
      "Epoch:80\n"
     ]
    },
    {
     "data": {
      "application/vnd.jupyter.widget-view+json": {
       "model_id": "eae989dddfc640abbae63f50a5c1613b",
       "version_major": 2,
       "version_minor": 0
      },
      "text/plain": [
       "HBox(children=(IntProgress(value=0, max=182), HTML(value='')))"
      ]
     },
     "metadata": {},
     "output_type": "display_data"
    },
    {
     "name": "stdout",
     "output_type": "stream",
     "text": [
      "\n",
      "Epoch:81\n"
     ]
    },
    {
     "data": {
      "application/vnd.jupyter.widget-view+json": {
       "model_id": "1c3c13a0c8aa41828e8808c7ead75170",
       "version_major": 2,
       "version_minor": 0
      },
      "text/plain": [
       "HBox(children=(IntProgress(value=0, max=182), HTML(value='')))"
      ]
     },
     "metadata": {},
     "output_type": "display_data"
    },
    {
     "name": "stdout",
     "output_type": "stream",
     "text": [
      "\n",
      "Epoch:82\n"
     ]
    },
    {
     "data": {
      "application/vnd.jupyter.widget-view+json": {
       "model_id": "971c102522694b4a8a69da0f66340a0c",
       "version_major": 2,
       "version_minor": 0
      },
      "text/plain": [
       "HBox(children=(IntProgress(value=0, max=182), HTML(value='')))"
      ]
     },
     "metadata": {},
     "output_type": "display_data"
    },
    {
     "name": "stdout",
     "output_type": "stream",
     "text": [
      "\n",
      "Epoch:83\n"
     ]
    },
    {
     "data": {
      "application/vnd.jupyter.widget-view+json": {
       "model_id": "5df0a8f779cf438087f02f7f276ab31e",
       "version_major": 2,
       "version_minor": 0
      },
      "text/plain": [
       "HBox(children=(IntProgress(value=0, max=182), HTML(value='')))"
      ]
     },
     "metadata": {},
     "output_type": "display_data"
    },
    {
     "name": "stdout",
     "output_type": "stream",
     "text": [
      "\n",
      "Epoch:84\n"
     ]
    },
    {
     "data": {
      "application/vnd.jupyter.widget-view+json": {
       "model_id": "8f42ccf093e04eaa860b2fffa89a8655",
       "version_major": 2,
       "version_minor": 0
      },
      "text/plain": [
       "HBox(children=(IntProgress(value=0, max=182), HTML(value='')))"
      ]
     },
     "metadata": {},
     "output_type": "display_data"
    },
    {
     "name": "stdout",
     "output_type": "stream",
     "text": [
      "\n",
      "Epoch:85\n"
     ]
    },
    {
     "data": {
      "application/vnd.jupyter.widget-view+json": {
       "model_id": "6717bceeb1454f34b619f3852ad9068a",
       "version_major": 2,
       "version_minor": 0
      },
      "text/plain": [
       "HBox(children=(IntProgress(value=0, max=182), HTML(value='')))"
      ]
     },
     "metadata": {},
     "output_type": "display_data"
    },
    {
     "name": "stdout",
     "output_type": "stream",
     "text": [
      "\n",
      "Epoch:86\n"
     ]
    },
    {
     "data": {
      "application/vnd.jupyter.widget-view+json": {
       "model_id": "19d559367e164fe2b5b40d13cf4b41d9",
       "version_major": 2,
       "version_minor": 0
      },
      "text/plain": [
       "HBox(children=(IntProgress(value=0, max=182), HTML(value='')))"
      ]
     },
     "metadata": {},
     "output_type": "display_data"
    },
    {
     "name": "stdout",
     "output_type": "stream",
     "text": [
      "\n",
      "Epoch:87\n"
     ]
    },
    {
     "data": {
      "application/vnd.jupyter.widget-view+json": {
       "model_id": "eb442cf5857846b8b6bd03edcf647ec1",
       "version_major": 2,
       "version_minor": 0
      },
      "text/plain": [
       "HBox(children=(IntProgress(value=0, max=182), HTML(value='')))"
      ]
     },
     "metadata": {},
     "output_type": "display_data"
    },
    {
     "name": "stdout",
     "output_type": "stream",
     "text": [
      "\n",
      "Epoch:88\n"
     ]
    },
    {
     "data": {
      "application/vnd.jupyter.widget-view+json": {
       "model_id": "1c54ba2a3bb44c868c68642b9d0cf383",
       "version_major": 2,
       "version_minor": 0
      },
      "text/plain": [
       "HBox(children=(IntProgress(value=0, max=182), HTML(value='')))"
      ]
     },
     "metadata": {},
     "output_type": "display_data"
    },
    {
     "name": "stdout",
     "output_type": "stream",
     "text": [
      "\n",
      "Epoch:89\n"
     ]
    },
    {
     "data": {
      "application/vnd.jupyter.widget-view+json": {
       "model_id": "cd7e16d65321469c992d23f16c2b07b0",
       "version_major": 2,
       "version_minor": 0
      },
      "text/plain": [
       "HBox(children=(IntProgress(value=0, max=182), HTML(value='')))"
      ]
     },
     "metadata": {},
     "output_type": "display_data"
    },
    {
     "name": "stdout",
     "output_type": "stream",
     "text": [
      "\n",
      "Epoch:90\n"
     ]
    },
    {
     "data": {
      "application/vnd.jupyter.widget-view+json": {
       "model_id": "43f766836f4f4c2e85a0db15a9da571b",
       "version_major": 2,
       "version_minor": 0
      },
      "text/plain": [
       "HBox(children=(IntProgress(value=0, max=182), HTML(value='')))"
      ]
     },
     "metadata": {},
     "output_type": "display_data"
    },
    {
     "name": "stdout",
     "output_type": "stream",
     "text": [
      "\n",
      "Epoch:91\n"
     ]
    },
    {
     "data": {
      "application/vnd.jupyter.widget-view+json": {
       "model_id": "811fc53f3ac64d1caa18fde21974b5f8",
       "version_major": 2,
       "version_minor": 0
      },
      "text/plain": [
       "HBox(children=(IntProgress(value=0, max=182), HTML(value='')))"
      ]
     },
     "metadata": {},
     "output_type": "display_data"
    },
    {
     "name": "stdout",
     "output_type": "stream",
     "text": [
      "\n",
      "Epoch:92\n"
     ]
    },
    {
     "data": {
      "application/vnd.jupyter.widget-view+json": {
       "model_id": "fe235b23ab914070b7a2e74d9b3b94cb",
       "version_major": 2,
       "version_minor": 0
      },
      "text/plain": [
       "HBox(children=(IntProgress(value=0, max=182), HTML(value='')))"
      ]
     },
     "metadata": {},
     "output_type": "display_data"
    },
    {
     "name": "stdout",
     "output_type": "stream",
     "text": [
      "\n",
      "Epoch:93\n"
     ]
    },
    {
     "data": {
      "application/vnd.jupyter.widget-view+json": {
       "model_id": "0c785611dbf047798c5c7ec6c72bdef1",
       "version_major": 2,
       "version_minor": 0
      },
      "text/plain": [
       "HBox(children=(IntProgress(value=0, max=182), HTML(value='')))"
      ]
     },
     "metadata": {},
     "output_type": "display_data"
    }
   ],
   "source": [
    "for epoch in range(100):\n",
    "    print(\"Epoch:\"+str(epoch))\n",
    "    for step in tqdm_notebook(range(0,steps)):\n",
    "        imgs_hr, imgs_lr = next(datagenObj)\n",
    "\n",
    "        # Train the generators\n",
    "        g_loss = SRGAN_gen.train_on_batch(imgs_lr,imgs_hr)\n",
    "        \n",
    "    mc_step = epoch*steps + steps\n",
    "    modelcheckpoint.on_epoch_end(mc_step,{\"g_loss\":g_loss})\n",
    "    out = SRGAN_gen.predict(sample_lr)\n",
    "    tl.vis.save_images(out, [int(ni), int(ni)],'images/'+dataset_name+'/train.png')\n",
    "    tensorboard.on_epoch_end(epoch, {\"g_loss\": g_loss})\n",
    "    if(epoch % 10 == 0):\n",
    "        out = SRGAN_gen.predict(sample_lr)\n",
    "        tl.vis.save_images(out, [int(ni), int(ni)],'images/'+dataset_name+'/trainSRResNet_%d.png' % int(epoch))"
   ]
  },
  {
   "cell_type": "code",
   "execution_count": 54,
   "metadata": {},
   "outputs": [],
   "source": [
    "SRGAN_gen.load_weights(\"checkpoints/genInitMC.h5\")"
   ]
  },
  {
   "cell_type": "code",
   "execution_count": 57,
   "metadata": {},
   "outputs": [],
   "source": [
    "modelcheckpoint = ModelCheckpoint(\n",
    "    filepath = \"./checkpoints/genMC.h5\",\n",
    "    monitor='g_loss',\n",
    "    verbose=0,\n",
    "    mode=\"auto\",\n",
    "    save_best_only=True\n",
    ")\n",
    "modelcheckpoint.set_model(SRGAN_gen)"
   ]
  },
  {
   "cell_type": "code",
   "execution_count": 58,
   "metadata": {},
   "outputs": [],
   "source": [
    "tensorboard = TensorBoard(\n",
    "  log_dir='log/srgan_replication/SRGAN_main/run8',\n",
    "  histogram_freq=0,\n",
    "  batch_size=batch_size,\n",
    "  write_graph=True,\n",
    "  write_grads=True\n",
    ")\n",
    "tensorboard.set_model(combined)"
   ]
  },
  {
   "cell_type": "code",
   "execution_count": null,
   "metadata": {},
   "outputs": [],
   "source": [
    "# run 5 and 6 good\n",
    "# 7 higher LR\n",
    "# 8 bigger resnet"
   ]
  },
  {
   "cell_type": "code",
   "execution_count": 61,
   "metadata": {
    "scrolled": true
   },
   "outputs": [
    {
     "name": "stdout",
     "output_type": "stream",
     "text": [
      "Epoch:0\n"
     ]
    },
    {
     "data": {
      "application/vnd.jupyter.widget-view+json": {
       "model_id": "80550ceaed5c4146ac030557c76a91c4",
       "version_major": 2,
       "version_minor": 0
      },
      "text/plain": [
       "HBox(children=(IntProgress(value=0, max=182), HTML(value='')))"
      ]
     },
     "metadata": {},
     "output_type": "display_data"
    },
    {
     "name": "stdout",
     "output_type": "stream",
     "text": [
      "Epoch:1\n"
     ]
    },
    {
     "data": {
      "application/vnd.jupyter.widget-view+json": {
       "model_id": "d989029ad7a24297986e3bfbae7a6aaf",
       "version_major": 2,
       "version_minor": 0
      },
      "text/plain": [
       "HBox(children=(IntProgress(value=0, max=182), HTML(value='')))"
      ]
     },
     "metadata": {},
     "output_type": "display_data"
    },
    {
     "name": "stdout",
     "output_type": "stream",
     "text": [
      "Epoch:2\n"
     ]
    },
    {
     "data": {
      "application/vnd.jupyter.widget-view+json": {
       "model_id": "4b8252bd14064bf08a39a4f36c5b38ec",
       "version_major": 2,
       "version_minor": 0
      },
      "text/plain": [
       "HBox(children=(IntProgress(value=0, max=182), HTML(value='')))"
      ]
     },
     "metadata": {},
     "output_type": "display_data"
    },
    {
     "name": "stdout",
     "output_type": "stream",
     "text": [
      "Epoch:3\n"
     ]
    },
    {
     "data": {
      "application/vnd.jupyter.widget-view+json": {
       "model_id": "b891ffd6a0684a2a8b689e2d740b32e2",
       "version_major": 2,
       "version_minor": 0
      },
      "text/plain": [
       "HBox(children=(IntProgress(value=0, max=182), HTML(value='')))"
      ]
     },
     "metadata": {},
     "output_type": "display_data"
    },
    {
     "name": "stdout",
     "output_type": "stream",
     "text": [
      "Epoch:4\n"
     ]
    },
    {
     "data": {
      "application/vnd.jupyter.widget-view+json": {
       "model_id": "9f835560399a4904a1e9c5783805c608",
       "version_major": 2,
       "version_minor": 0
      },
      "text/plain": [
       "HBox(children=(IntProgress(value=0, max=182), HTML(value='')))"
      ]
     },
     "metadata": {},
     "output_type": "display_data"
    },
    {
     "name": "stdout",
     "output_type": "stream",
     "text": [
      "Epoch:5\n"
     ]
    },
    {
     "data": {
      "application/vnd.jupyter.widget-view+json": {
       "model_id": "e3232084b27f403a80500e86d8dea049",
       "version_major": 2,
       "version_minor": 0
      },
      "text/plain": [
       "HBox(children=(IntProgress(value=0, max=182), HTML(value='')))"
      ]
     },
     "metadata": {},
     "output_type": "display_data"
    },
    {
     "name": "stdout",
     "output_type": "stream",
     "text": [
      "Epoch:6\n"
     ]
    },
    {
     "data": {
      "application/vnd.jupyter.widget-view+json": {
       "model_id": "c4e2a8f2dbec4afc986e5f37c8200726",
       "version_major": 2,
       "version_minor": 0
      },
      "text/plain": [
       "HBox(children=(IntProgress(value=0, max=182), HTML(value='')))"
      ]
     },
     "metadata": {},
     "output_type": "display_data"
    },
    {
     "name": "stdout",
     "output_type": "stream",
     "text": [
      "Epoch:7\n"
     ]
    },
    {
     "data": {
      "application/vnd.jupyter.widget-view+json": {
       "model_id": "5f7452da0d9a493fb44aa3d107c43933",
       "version_major": 2,
       "version_minor": 0
      },
      "text/plain": [
       "HBox(children=(IntProgress(value=0, max=182), HTML(value='')))"
      ]
     },
     "metadata": {},
     "output_type": "display_data"
    },
    {
     "name": "stdout",
     "output_type": "stream",
     "text": [
      "Epoch:8\n"
     ]
    },
    {
     "data": {
      "application/vnd.jupyter.widget-view+json": {
       "model_id": "8501043e22094b89957fe521c614af48",
       "version_major": 2,
       "version_minor": 0
      },
      "text/plain": [
       "HBox(children=(IntProgress(value=0, max=182), HTML(value='')))"
      ]
     },
     "metadata": {},
     "output_type": "display_data"
    },
    {
     "name": "stdout",
     "output_type": "stream",
     "text": [
      "Epoch:9\n"
     ]
    },
    {
     "data": {
      "application/vnd.jupyter.widget-view+json": {
       "model_id": "5aef9398fc42438ea6354913ce94bde3",
       "version_major": 2,
       "version_minor": 0
      },
      "text/plain": [
       "HBox(children=(IntProgress(value=0, max=182), HTML(value='')))"
      ]
     },
     "metadata": {},
     "output_type": "display_data"
    },
    {
     "name": "stdout",
     "output_type": "stream",
     "text": [
      "Epoch:10\n"
     ]
    },
    {
     "data": {
      "application/vnd.jupyter.widget-view+json": {
       "model_id": "3a5bb5c3224c480e8dd297d4c4d010bc",
       "version_major": 2,
       "version_minor": 0
      },
      "text/plain": [
       "HBox(children=(IntProgress(value=0, max=182), HTML(value='')))"
      ]
     },
     "metadata": {},
     "output_type": "display_data"
    },
    {
     "name": "stdout",
     "output_type": "stream",
     "text": [
      "Epoch:11\n"
     ]
    },
    {
     "data": {
      "application/vnd.jupyter.widget-view+json": {
       "model_id": "051d20fa2b8745a398b335b8e81dcc77",
       "version_major": 2,
       "version_minor": 0
      },
      "text/plain": [
       "HBox(children=(IntProgress(value=0, max=182), HTML(value='')))"
      ]
     },
     "metadata": {},
     "output_type": "display_data"
    },
    {
     "name": "stdout",
     "output_type": "stream",
     "text": [
      "Epoch:12\n"
     ]
    },
    {
     "data": {
      "application/vnd.jupyter.widget-view+json": {
       "model_id": "c0232218e3084571a66cf03716dfa10c",
       "version_major": 2,
       "version_minor": 0
      },
      "text/plain": [
       "HBox(children=(IntProgress(value=0, max=182), HTML(value='')))"
      ]
     },
     "metadata": {},
     "output_type": "display_data"
    },
    {
     "name": "stdout",
     "output_type": "stream",
     "text": [
      "Epoch:13\n"
     ]
    },
    {
     "data": {
      "application/vnd.jupyter.widget-view+json": {
       "model_id": "81cb42b8415a433abd743befa1808ba5",
       "version_major": 2,
       "version_minor": 0
      },
      "text/plain": [
       "HBox(children=(IntProgress(value=0, max=182), HTML(value='')))"
      ]
     },
     "metadata": {},
     "output_type": "display_data"
    },
    {
     "name": "stdout",
     "output_type": "stream",
     "text": [
      "Epoch:14\n"
     ]
    },
    {
     "data": {
      "application/vnd.jupyter.widget-view+json": {
       "model_id": "7e484c4d9e1a4b6c81e04465c93d9444",
       "version_major": 2,
       "version_minor": 0
      },
      "text/plain": [
       "HBox(children=(IntProgress(value=0, max=182), HTML(value='')))"
      ]
     },
     "metadata": {},
     "output_type": "display_data"
    },
    {
     "name": "stdout",
     "output_type": "stream",
     "text": [
      "Epoch:15\n"
     ]
    },
    {
     "data": {
      "application/vnd.jupyter.widget-view+json": {
       "model_id": "9bdad7e602b5473cb3fbcb67b99a57d7",
       "version_major": 2,
       "version_minor": 0
      },
      "text/plain": [
       "HBox(children=(IntProgress(value=0, max=182), HTML(value='')))"
      ]
     },
     "metadata": {},
     "output_type": "display_data"
    },
    {
     "name": "stdout",
     "output_type": "stream",
     "text": [
      "Epoch:16\n"
     ]
    },
    {
     "data": {
      "application/vnd.jupyter.widget-view+json": {
       "model_id": "71703f402abd4eff864622aa765efd0a",
       "version_major": 2,
       "version_minor": 0
      },
      "text/plain": [
       "HBox(children=(IntProgress(value=0, max=182), HTML(value='')))"
      ]
     },
     "metadata": {},
     "output_type": "display_data"
    },
    {
     "name": "stdout",
     "output_type": "stream",
     "text": [
      "Epoch:17\n"
     ]
    },
    {
     "data": {
      "application/vnd.jupyter.widget-view+json": {
       "model_id": "85816a56526745cbb41644a51e4b5e22",
       "version_major": 2,
       "version_minor": 0
      },
      "text/plain": [
       "HBox(children=(IntProgress(value=0, max=182), HTML(value='')))"
      ]
     },
     "metadata": {},
     "output_type": "display_data"
    },
    {
     "name": "stdout",
     "output_type": "stream",
     "text": [
      "Epoch:18\n"
     ]
    },
    {
     "data": {
      "application/vnd.jupyter.widget-view+json": {
       "model_id": "b0e4e581c2b340c9b430308fe21b3466",
       "version_major": 2,
       "version_minor": 0
      },
      "text/plain": [
       "HBox(children=(IntProgress(value=0, max=182), HTML(value='')))"
      ]
     },
     "metadata": {},
     "output_type": "display_data"
    },
    {
     "name": "stdout",
     "output_type": "stream",
     "text": [
      "Epoch:19\n"
     ]
    },
    {
     "data": {
      "application/vnd.jupyter.widget-view+json": {
       "model_id": "4e1b249788a0494bb56a166751c19c39",
       "version_major": 2,
       "version_minor": 0
      },
      "text/plain": [
       "HBox(children=(IntProgress(value=0, max=182), HTML(value='')))"
      ]
     },
     "metadata": {},
     "output_type": "display_data"
    },
    {
     "ename": "KeyboardInterrupt",
     "evalue": "",
     "output_type": "error",
     "traceback": [
      "\u001b[0;31m---------------------------------------------------------------------------\u001b[0m",
      "\u001b[0;31mKeyboardInterrupt\u001b[0m                         Traceback (most recent call last)",
      "\u001b[0;32m<ipython-input-61-19de4a214925>\u001b[0m in \u001b[0;36m<module>\u001b[0;34m\u001b[0m\n\u001b[1;32m      5\u001b[0m         \u001b[0mimgs_hr\u001b[0m\u001b[0;34m,\u001b[0m \u001b[0mimgs_lr\u001b[0m \u001b[0;34m=\u001b[0m \u001b[0mnext\u001b[0m\u001b[0;34m(\u001b[0m\u001b[0mdatagenObj\u001b[0m\u001b[0;34m)\u001b[0m\u001b[0;34m\u001b[0m\u001b[0;34m\u001b[0m\u001b[0m\n\u001b[1;32m      6\u001b[0m         \u001b[0;31m# From low res. image generate high res. version\u001b[0m\u001b[0;34m\u001b[0m\u001b[0;34m\u001b[0m\u001b[0;34m\u001b[0m\u001b[0m\n\u001b[0;32m----> 7\u001b[0;31m         \u001b[0mfake_hr\u001b[0m \u001b[0;34m=\u001b[0m \u001b[0mSRGAN_gen\u001b[0m\u001b[0;34m.\u001b[0m\u001b[0mpredict\u001b[0m\u001b[0;34m(\u001b[0m\u001b[0mimgs_lr\u001b[0m\u001b[0;34m)\u001b[0m\u001b[0;34m\u001b[0m\u001b[0;34m\u001b[0m\u001b[0m\n\u001b[0m\u001b[1;32m      8\u001b[0m         \u001b[0mvalid\u001b[0m \u001b[0;34m=\u001b[0m \u001b[0mnp\u001b[0m\u001b[0;34m.\u001b[0m\u001b[0mones\u001b[0m\u001b[0;34m(\u001b[0m\u001b[0mbatch_size\u001b[0m\u001b[0;34m,\u001b[0m\u001b[0;34m)\u001b[0m \u001b[0;34m-\u001b[0m \u001b[0mnp\u001b[0m\u001b[0;34m.\u001b[0m\u001b[0mrandom\u001b[0m\u001b[0;34m.\u001b[0m\u001b[0msample\u001b[0m\u001b[0;34m(\u001b[0m\u001b[0mbatch_size\u001b[0m\u001b[0;34m,\u001b[0m\u001b[0;34m)\u001b[0m\u001b[0;34m*\u001b[0m\u001b[0;36m0.3\u001b[0m\u001b[0;34m\u001b[0m\u001b[0;34m\u001b[0m\u001b[0m\n\u001b[1;32m      9\u001b[0m         \u001b[0mfake\u001b[0m \u001b[0;34m=\u001b[0m \u001b[0mnp\u001b[0m\u001b[0;34m.\u001b[0m\u001b[0mrandom\u001b[0m\u001b[0;34m.\u001b[0m\u001b[0msample\u001b[0m\u001b[0;34m(\u001b[0m\u001b[0mbatch_size\u001b[0m\u001b[0;34m,\u001b[0m\u001b[0;34m)\u001b[0m\u001b[0;34m*\u001b[0m\u001b[0;36m0.3\u001b[0m\u001b[0;34m\u001b[0m\u001b[0;34m\u001b[0m\u001b[0m\n",
      "\u001b[0;32m~/anaconda3/envs/srgan/lib/python3.7/site-packages/keras/engine/training.py\u001b[0m in \u001b[0;36mpredict\u001b[0;34m(self, x, batch_size, verbose, steps)\u001b[0m\n\u001b[1;32m   1167\u001b[0m                                             \u001b[0mbatch_size\u001b[0m\u001b[0;34m=\u001b[0m\u001b[0mbatch_size\u001b[0m\u001b[0;34m,\u001b[0m\u001b[0;34m\u001b[0m\u001b[0;34m\u001b[0m\u001b[0m\n\u001b[1;32m   1168\u001b[0m                                             \u001b[0mverbose\u001b[0m\u001b[0;34m=\u001b[0m\u001b[0mverbose\u001b[0m\u001b[0;34m,\u001b[0m\u001b[0;34m\u001b[0m\u001b[0;34m\u001b[0m\u001b[0m\n\u001b[0;32m-> 1169\u001b[0;31m                                             steps=steps)\n\u001b[0m\u001b[1;32m   1170\u001b[0m \u001b[0;34m\u001b[0m\u001b[0m\n\u001b[1;32m   1171\u001b[0m     def train_on_batch(self, x, y,\n",
      "\u001b[0;32m~/anaconda3/envs/srgan/lib/python3.7/site-packages/keras/engine/training_arrays.py\u001b[0m in \u001b[0;36mpredict_loop\u001b[0;34m(model, f, ins, batch_size, verbose, steps)\u001b[0m\n\u001b[1;32m    292\u001b[0m                 \u001b[0mins_batch\u001b[0m\u001b[0;34m[\u001b[0m\u001b[0mi\u001b[0m\u001b[0;34m]\u001b[0m \u001b[0;34m=\u001b[0m \u001b[0mins_batch\u001b[0m\u001b[0;34m[\u001b[0m\u001b[0mi\u001b[0m\u001b[0;34m]\u001b[0m\u001b[0;34m.\u001b[0m\u001b[0mtoarray\u001b[0m\u001b[0;34m(\u001b[0m\u001b[0;34m)\u001b[0m\u001b[0;34m\u001b[0m\u001b[0;34m\u001b[0m\u001b[0m\n\u001b[1;32m    293\u001b[0m \u001b[0;34m\u001b[0m\u001b[0m\n\u001b[0;32m--> 294\u001b[0;31m             \u001b[0mbatch_outs\u001b[0m \u001b[0;34m=\u001b[0m \u001b[0mf\u001b[0m\u001b[0;34m(\u001b[0m\u001b[0mins_batch\u001b[0m\u001b[0;34m)\u001b[0m\u001b[0;34m\u001b[0m\u001b[0;34m\u001b[0m\u001b[0m\n\u001b[0m\u001b[1;32m    295\u001b[0m             \u001b[0mbatch_outs\u001b[0m \u001b[0;34m=\u001b[0m \u001b[0mto_list\u001b[0m\u001b[0;34m(\u001b[0m\u001b[0mbatch_outs\u001b[0m\u001b[0;34m)\u001b[0m\u001b[0;34m\u001b[0m\u001b[0;34m\u001b[0m\u001b[0m\n\u001b[1;32m    296\u001b[0m             \u001b[0;32mif\u001b[0m \u001b[0mbatch_index\u001b[0m \u001b[0;34m==\u001b[0m \u001b[0;36m0\u001b[0m\u001b[0;34m:\u001b[0m\u001b[0;34m\u001b[0m\u001b[0;34m\u001b[0m\u001b[0m\n",
      "\u001b[0;32m~/anaconda3/envs/srgan/lib/python3.7/site-packages/keras/backend/tensorflow_backend.py\u001b[0m in \u001b[0;36m__call__\u001b[0;34m(self, inputs)\u001b[0m\n\u001b[1;32m   2713\u001b[0m                 \u001b[0;32mreturn\u001b[0m \u001b[0mself\u001b[0m\u001b[0;34m.\u001b[0m\u001b[0m_legacy_call\u001b[0m\u001b[0;34m(\u001b[0m\u001b[0minputs\u001b[0m\u001b[0;34m)\u001b[0m\u001b[0;34m\u001b[0m\u001b[0;34m\u001b[0m\u001b[0m\n\u001b[1;32m   2714\u001b[0m \u001b[0;34m\u001b[0m\u001b[0m\n\u001b[0;32m-> 2715\u001b[0;31m             \u001b[0;32mreturn\u001b[0m \u001b[0mself\u001b[0m\u001b[0;34m.\u001b[0m\u001b[0m_call\u001b[0m\u001b[0;34m(\u001b[0m\u001b[0minputs\u001b[0m\u001b[0;34m)\u001b[0m\u001b[0;34m\u001b[0m\u001b[0;34m\u001b[0m\u001b[0m\n\u001b[0m\u001b[1;32m   2716\u001b[0m         \u001b[0;32melse\u001b[0m\u001b[0;34m:\u001b[0m\u001b[0;34m\u001b[0m\u001b[0;34m\u001b[0m\u001b[0m\n\u001b[1;32m   2717\u001b[0m             \u001b[0;32mif\u001b[0m \u001b[0mpy_any\u001b[0m\u001b[0;34m(\u001b[0m\u001b[0mis_tensor\u001b[0m\u001b[0;34m(\u001b[0m\u001b[0mx\u001b[0m\u001b[0;34m)\u001b[0m \u001b[0;32mfor\u001b[0m \u001b[0mx\u001b[0m \u001b[0;32min\u001b[0m \u001b[0minputs\u001b[0m\u001b[0;34m)\u001b[0m\u001b[0;34m:\u001b[0m\u001b[0;34m\u001b[0m\u001b[0;34m\u001b[0m\u001b[0m\n",
      "\u001b[0;32m~/anaconda3/envs/srgan/lib/python3.7/site-packages/keras/backend/tensorflow_backend.py\u001b[0m in \u001b[0;36m_call\u001b[0;34m(self, inputs)\u001b[0m\n\u001b[1;32m   2673\u001b[0m             \u001b[0mfetched\u001b[0m \u001b[0;34m=\u001b[0m \u001b[0mself\u001b[0m\u001b[0;34m.\u001b[0m\u001b[0m_callable_fn\u001b[0m\u001b[0;34m(\u001b[0m\u001b[0;34m*\u001b[0m\u001b[0marray_vals\u001b[0m\u001b[0;34m,\u001b[0m \u001b[0mrun_metadata\u001b[0m\u001b[0;34m=\u001b[0m\u001b[0mself\u001b[0m\u001b[0;34m.\u001b[0m\u001b[0mrun_metadata\u001b[0m\u001b[0;34m)\u001b[0m\u001b[0;34m\u001b[0m\u001b[0;34m\u001b[0m\u001b[0m\n\u001b[1;32m   2674\u001b[0m         \u001b[0;32melse\u001b[0m\u001b[0;34m:\u001b[0m\u001b[0;34m\u001b[0m\u001b[0;34m\u001b[0m\u001b[0m\n\u001b[0;32m-> 2675\u001b[0;31m             \u001b[0mfetched\u001b[0m \u001b[0;34m=\u001b[0m \u001b[0mself\u001b[0m\u001b[0;34m.\u001b[0m\u001b[0m_callable_fn\u001b[0m\u001b[0;34m(\u001b[0m\u001b[0;34m*\u001b[0m\u001b[0marray_vals\u001b[0m\u001b[0;34m)\u001b[0m\u001b[0;34m\u001b[0m\u001b[0;34m\u001b[0m\u001b[0m\n\u001b[0m\u001b[1;32m   2676\u001b[0m         \u001b[0;32mreturn\u001b[0m \u001b[0mfetched\u001b[0m\u001b[0;34m[\u001b[0m\u001b[0;34m:\u001b[0m\u001b[0mlen\u001b[0m\u001b[0;34m(\u001b[0m\u001b[0mself\u001b[0m\u001b[0;34m.\u001b[0m\u001b[0moutputs\u001b[0m\u001b[0;34m)\u001b[0m\u001b[0;34m]\u001b[0m\u001b[0;34m\u001b[0m\u001b[0;34m\u001b[0m\u001b[0m\n\u001b[1;32m   2677\u001b[0m \u001b[0;34m\u001b[0m\u001b[0m\n",
      "\u001b[0;32m~/anaconda3/envs/srgan/lib/python3.7/site-packages/tensorflow/python/client/session.py\u001b[0m in \u001b[0;36m__call__\u001b[0;34m(self, *args, **kwargs)\u001b[0m\n\u001b[1;32m   1437\u001b[0m           ret = tf_session.TF_SessionRunCallable(\n\u001b[1;32m   1438\u001b[0m               \u001b[0mself\u001b[0m\u001b[0;34m.\u001b[0m\u001b[0m_session\u001b[0m\u001b[0;34m.\u001b[0m\u001b[0m_session\u001b[0m\u001b[0;34m,\u001b[0m \u001b[0mself\u001b[0m\u001b[0;34m.\u001b[0m\u001b[0m_handle\u001b[0m\u001b[0;34m,\u001b[0m \u001b[0margs\u001b[0m\u001b[0;34m,\u001b[0m \u001b[0mstatus\u001b[0m\u001b[0;34m,\u001b[0m\u001b[0;34m\u001b[0m\u001b[0;34m\u001b[0m\u001b[0m\n\u001b[0;32m-> 1439\u001b[0;31m               run_metadata_ptr)\n\u001b[0m\u001b[1;32m   1440\u001b[0m         \u001b[0;32mif\u001b[0m \u001b[0mrun_metadata\u001b[0m\u001b[0;34m:\u001b[0m\u001b[0;34m\u001b[0m\u001b[0;34m\u001b[0m\u001b[0m\n\u001b[1;32m   1441\u001b[0m           \u001b[0mproto_data\u001b[0m \u001b[0;34m=\u001b[0m \u001b[0mtf_session\u001b[0m\u001b[0;34m.\u001b[0m\u001b[0mTF_GetBuffer\u001b[0m\u001b[0;34m(\u001b[0m\u001b[0mrun_metadata_ptr\u001b[0m\u001b[0;34m)\u001b[0m\u001b[0;34m\u001b[0m\u001b[0;34m\u001b[0m\u001b[0m\n",
      "\u001b[0;31mKeyboardInterrupt\u001b[0m: "
     ]
    }
   ],
   "source": [
    "for epoch in range(300):\n",
    "    print(\"Epoch:\"+str(epoch))\n",
    "    for step in tqdm_notebook(range(0,steps)):\n",
    "        # Sample images and their conditioning counterparts\n",
    "        imgs_hr, imgs_lr = next(datagenObj)\n",
    "        # From low res. image generate high res. version\n",
    "        fake_hr = SRGAN_gen.predict(imgs_lr)\n",
    "        valid = np.ones(batch_size,) - np.random.sample(batch_size,)*0.3\n",
    "        fake = np.random.sample(batch_size,)*0.3\n",
    "        if step % 2 == 0:\n",
    "            # ----------------------\n",
    "            #  Train Discriminator\n",
    "            # ----------------------\n",
    "            # Train the discriminators (original images = real / generated = Fake)\n",
    "            SRGAN_disc.trainable = True\n",
    "            d_loss = SRGAN_disc.train_on_batch(np.concatenate([imgs_hr,fake_hr]), np.concatenate([valid,fake]).reshape(32,1))\n",
    "            SRGAN_disc.trainable = False\n",
    "            \n",
    "        else:\n",
    "            # ------------------\n",
    "            #  Train Generator\n",
    "            # ------------------\n",
    "\n",
    "            # The generators want the discriminators to label the generated images as real\n",
    "\n",
    "            # Extract ground truth image features using pre-trained VGG19 model\n",
    "            image_features = vggModel.predict(imgs_hr)\n",
    "\n",
    "            # Train the generators\n",
    "            g_loss = combined.train_on_batch(imgs_lr, [valid, image_features])\n",
    "        \n",
    "    mc_step = epoch*steps + steps\n",
    "    modelcheckpoint.on_epoch_end(mc_step,{\"g_loss\":g_loss[2]})   \n",
    "    out = SRGAN_gen.predict(sample_lr)\n",
    "    tl.vis.save_images(out, [int(ni), int(ni)],'images/'+dataset_name+'/train.png')\n",
    "    if(epoch % 100 == 0):\n",
    "        out = SRGAN_gen.predict(sample_lr)\n",
    "        tl.vis.save_images(out, [int(ni), int(ni)],'images/'+dataset_name+'/HardTrain_%d.png' % int(epoch))\n",
    "    tensorboard.on_epoch_end(epoch, {\"d_loss\": d_loss[0],\"d_acc\":d_loss[1],\"g_l0\":g_loss[0], \"g_l1\":g_loss[1], \"g_vgg_loss\":g_loss[2]})\n",
    "    combined.save_weights(\"checkpoints/combined.h5\")\n",
    "tensorboard.on_train_end(None)"
   ]
  },
  {
   "cell_type": "code",
   "execution_count": null,
   "metadata": {},
   "outputs": [],
   "source": [
    "tensorboard = TensorBoard(\n",
    "  log_dir='log/srgan_replication/SRGAN_soft/run10',\n",
    "  histogram_freq=0,\n",
    "  batch_size=batch_size,\n",
    "  write_graph=True,\n",
    "  write_grads=True\n",
    ")\n",
    "tensorboard.set_model(combined)"
   ]
  },
  {
   "cell_type": "code",
   "execution_count": null,
   "metadata": {},
   "outputs": [],
   "source": [
    "modelcheckpoint = ModelCheckpoint(\n",
    "    filepath = modelSavePath+\"genSoft.h5\",\n",
    "    monitor='g_loss',\n",
    "    verbose=0,\n",
    "    mode=\"auto\",\n",
    "    save_best_only=True\n",
    ")\n",
    "modelcheckpoint.set_model(SRGAN_gen)"
   ]
  },
  {
   "cell_type": "code",
   "execution_count": 26,
   "metadata": {},
   "outputs": [],
   "source": [
    "optimizer = Adam(lr=0.00001, beta_1=0.9)\n",
    "\n",
    "SRGAN_disc = Discriminator(hr_shape)\n",
    "SRGAN_disc.trainable = False\n",
    "SRGAN_disc.compile(loss='mean_squared_error',\n",
    "             optimizer=optimizer,\n",
    "             metrics=['binary_accuracy'])\n",
    "combined.compile(loss=['binary_crossentropy', 'mean_squared_error'],\n",
    "                 loss_weights=[1e-3, 0.006],\n",
    "                 optimizer=optimizer)\n",
    "\n",
    "combined.load_weights(\"checkpoints/combined.h5\")"
   ]
  },
  {
   "cell_type": "code",
   "execution_count": null,
   "metadata": {},
   "outputs": [],
   "source": [
    "for epoch in range(2000):\n",
    "    print(\"Epoch:\"+str(epoch))\n",
    "    for step in tqdm_notebook(range(0,steps)):\n",
    "        # Sample images and their conditioning counterparts\n",
    "        imgs_hr, imgs_lr = next(datagenObj)\n",
    "        # From low res. image generate high res. version\n",
    "        fake_hr = SRGAN_gen.predict(imgs_lr)\n",
    "        if step % 2 == 0:\n",
    "            # ----------------------\n",
    "            #  Train Discriminator\n",
    "            # ----------------------\n",
    "            \n",
    "            valid = np.ones(batch_size)\n",
    "            fake = np.zeros(batch_size)\n",
    "\n",
    "            # Train the discriminators (original images = real / generated = Fake)\n",
    "            SRGAN_disc.trainable = True\n",
    "            d_loss_real = SRGAN_disc.train_on_batch(imgs_hr, valid)\n",
    "            d_loss_fake = SRGAN_disc.train_on_batch(fake_hr, fake)\n",
    "            d_loss = 0.5 * np.add(d_loss_real, d_loss_fake)\n",
    "            SRGAN_disc.trainable = False\n",
    "            \n",
    "        else:\n",
    "            # ------------------\n",
    "            #  Train Generator\n",
    "            # ------------------\n",
    "\n",
    "            # The generators want the discriminators to label the generated images as real\n",
    "            valid = np.ones(batch_size)\n",
    "\n",
    "            # Extract ground truth image features using pre-trained VGG19 model\n",
    "            image_features = vggModel.predict(imgs_hr)\n",
    "\n",
    "            # Train the generators\n",
    "            g_loss = combined.train_on_batch(imgs_lr, [valid, image_features])\n",
    "    \n",
    "    mc_step = epoch*steps + steps\n",
    "    modelcheckpoint.on_epoch_end(mc_step,{\"g_loss\":g_loss[1]})\n",
    "    out = SRGAN_gen.predict(sample_lr)\n",
    "    tl.vis.save_images(out, [int(ni), int(ni)],'images/'+dataset_name+'/train.png')\n",
    "    if(epoch % 100 == 0):\n",
    "        out = SRGAN_gen.predict(sample_lr)\n",
    "        tl.vis.save_images(out, [int(ni), int(ni)],'images/'+dataset_name+'/softTrain_%d.png' % int(epoch))\n",
    "    tensorboard.on_epoch_end(epoch, {\"d_loss\": d_loss[0],\"d_acc\":d_loss[1],\"g_vgg_loss\":g_loss[1]})\n",
    "combined.save_weights(\"checkpoints/combinedSoft.h5\")\n",
    "tensorboard.on_train_end(None)"
   ]
  },
  {
   "cell_type": "code",
   "execution_count": null,
   "metadata": {},
   "outputs": [],
   "source": []
  }
 ],
 "metadata": {
  "kernelspec": {
   "display_name": "Python 3",
   "language": "python",
   "name": "python3"
  },
  "language_info": {
   "codemirror_mode": {
    "name": "ipython",
    "version": 3
   },
   "file_extension": ".py",
   "mimetype": "text/x-python",
   "name": "python",
   "nbconvert_exporter": "python",
   "pygments_lexer": "ipython3",
   "version": "3.7.3"
  }
 },
 "nbformat": 4,
 "nbformat_minor": 2
}
