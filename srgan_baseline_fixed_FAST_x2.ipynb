{
 "cells": [
  {
   "cell_type": "code",
   "execution_count": 1,
   "metadata": {},
   "outputs": [
    {
     "name": "stderr",
     "output_type": "stream",
     "text": [
      "Using TensorFlow backend.\n"
     ]
    }
   ],
   "source": [
    "# Tensorlayer version == 1.11.1\n",
    "from keras.datasets import mnist\n",
    "from keras.layers import Input, Dense, Reshape, Flatten, Dropout, Concatenate, MaxPooling2D\n",
    "from keras.layers import BatchNormalization, Activation, ZeroPadding2D, Add, LeakyReLU, Lambda\n",
    "from keras.layers.advanced_activations import PReLU, LeakyReLU\n",
    "from keras.activations import sigmoid\n",
    "from keras.layers.convolutional import UpSampling2D, Conv2D,Conv2DTranspose\n",
    "from keras.applications import VGG19\n",
    "from keras.models import Model\n",
    "from keras.optimizers import Adam\n",
    "import datetime\n",
    "import matplotlib.pyplot as plt\n",
    "import sys\n",
    "import numpy as np\n",
    "import os\n",
    "from IPython.display import SVG\n",
    "from keras.utils.vis_utils import model_to_dot\n",
    "import pydot\n",
    "from keras.callbacks import TensorBoard, ModelCheckpoint\n",
    "from glob import glob\n",
    "from tqdm import tqdm_notebook\n",
    "import scipy\n",
    "import imageio\n",
    "from tensorlayer.prepro import *\n",
    "import tensorlayer as tl\n",
    "from keras import initializers\n",
    "from keras import backend as K\n",
    "import tensorflow as tf\n",
    "import h5py\n",
    "import cv2\n",
    "from keras.applications.vgg19 import preprocess_input"
   ]
  },
  {
   "cell_type": "code",
   "execution_count": 2,
   "metadata": {},
   "outputs": [
    {
     "data": {
      "text/plain": [
       "'\\nUse LR rate as 0.0001 first then 0.00001\\n'"
      ]
     },
     "execution_count": 2,
     "metadata": {},
     "output_type": "execute_result"
    }
   ],
   "source": [
    "'''\n",
    "Use LR rate as 0.0001 first then 0.00001\n",
    "'''"
   ]
  },
  {
   "cell_type": "code",
   "execution_count": 2,
   "metadata": {},
   "outputs": [],
   "source": [
    "batch_size = 16\n",
    "lr_rate = 0.0001\n",
    "ni = np.sqrt(batch_size)\n",
    "hr_shape = (112,112,3)\n",
    "lr_shape = (56,56,3)"
   ]
  },
  {
   "cell_type": "code",
   "execution_count": 3,
   "metadata": {},
   "outputs": [],
   "source": [
    "def SubpixelConv2D(name, scale=2):\n",
    "    \"\"\"\n",
    "    Keras layer to do subpixel convolution.\n",
    "    NOTE: Tensorflow backend only. Uses tf.depth_to_space\n",
    "\n",
    "    :param scale: upsampling scale compared to input_shape. Default=2\n",
    "    :return:\n",
    "    \"\"\"\n",
    "\n",
    "    def subpixel_shape(input_shape):\n",
    "        dims = [input_shape[0],\n",
    "                None if input_shape[1] is None else input_shape[1] * scale,\n",
    "                None if input_shape[2] is None else input_shape[2] * scale,\n",
    "                int(input_shape[3] / (scale ** 2))]\n",
    "        output_shape = tuple(dims)\n",
    "        return output_shape\n",
    "\n",
    "    def subpixel(x):\n",
    "        return tf.depth_to_space(x, scale)\n",
    "\n",
    "    return Lambda(subpixel, output_shape=subpixel_shape, name=name)"
   ]
  },
  {
   "cell_type": "code",
   "execution_count": 4,
   "metadata": {},
   "outputs": [],
   "source": [
    "def PSNR(y_true, y_pred):\n",
    "    \"\"\"\n",
    "    PSNR is Peek Signal to Noise Ratio, see https://en.wikipedia.org/wiki/Peak_signal-to-noise_ratio\n",
    "    The equation is:\n",
    "    PSNR = 20 * log10(MAX_I) - 10 * log10(MSE)\n",
    "\n",
    "    Since input is scaled from -1 to 1, MAX_I = 1, and thus 20 * log10(1) = 0. Only the last part of the equation is therefore neccesary.\n",
    "    \"\"\"\n",
    "    return -10.0 * K.log(K.mean(K.square(y_pred - y_true))) / K.log(10.0)\n",
    "\n",
    "def discAcc(y_true, y_pred):\n",
    "    return K.mean(K.equal(K.round(y_true), K.round(y_pred)))"
   ]
  },
  {
   "cell_type": "code",
   "execution_count": 5,
   "metadata": {},
   "outputs": [
    {
     "name": "stdout",
     "output_type": "stream",
     "text": [
      "WARNING:tensorflow:From /home/pratik_p_kubal/anaconda3/envs/srgan/lib/python3.7/site-packages/tensorflow/python/framework/op_def_library.py:263: colocate_with (from tensorflow.python.framework.ops) is deprecated and will be removed in a future version.\n",
      "Instructions for updating:\n",
      "Colocations handled automatically by placer.\n"
     ]
    }
   ],
   "source": [
    "def Generator(upscaling_factor):\n",
    "    residual_blocks = 16\n",
    "    def residual_block(_input):\n",
    "        x = Conv2D(64, kernel_size=3, strides=1, padding='same')(_input)\n",
    "        x = BatchNormalization(momentum=0.8)(x)\n",
    "        x = PReLU(shared_axes=[1,2])(x)            \n",
    "        x = Conv2D(64, kernel_size=3, strides=1, padding='same')(x)\n",
    "        x = BatchNormalization(momentum=0.8)(x)\n",
    "        x = Add()([x, _input])\n",
    "        return x\n",
    "\n",
    "    def upsample(x, number):\n",
    "        x = Conv2D(256, kernel_size=3, strides=1, padding='same', name='upSampleConv2d_'+str(number))(x)\n",
    "        x = SubpixelConv2D('upSampleSubPixel_'+str(number), 2)(x)\n",
    "        x = PReLU(shared_axes=[1,2], name='upSamplePReLU_'+str(number))(x)\n",
    "        return x\n",
    "\n",
    "    # Input low resolution image\n",
    "    lr_input = Input(shape=(None, None, 3))\n",
    "\n",
    "    # Pre-residual\n",
    "    x_start = Conv2D(64, kernel_size=9, strides=1, padding='same')(lr_input)\n",
    "    x_start = PReLU(shared_axes=[1,2])(x_start)\n",
    "\n",
    "    # Residual blocks\n",
    "    r = residual_block(x_start)\n",
    "    for _ in range(residual_blocks - 1):\n",
    "        r = residual_block(r)\n",
    "\n",
    "    # Post-residual block\n",
    "    x = Conv2D(64, kernel_size=3, strides=1, padding='same')(r)\n",
    "    x = BatchNormalization(momentum=0.8)(x)\n",
    "    x = Add()([x, x_start])\n",
    "\n",
    "    # Upsampling depending on factor\n",
    "    x = upsample(x, 1)\n",
    "    if upscaling_factor > 2:\n",
    "        x = upsample(x, 2)\n",
    "    if upscaling_factor > 4:\n",
    "        x = upsample(x, 3)\n",
    "\n",
    "    # Generate high resolution output\n",
    "    # tanh activation, see: \n",
    "    # https://towardsdatascience.com/gan-ways-to-improve-gan-performance-acf37f9f59b\n",
    "    hr_output = Conv2D(3, kernel_size=9, strides=1, padding='same', activation='tanh')(x)\n",
    "    \n",
    "    return Model(inputs=lr_input, outputs=hr_output) \n",
    "\n",
    "gen = Generator(2)\n",
    "gen.compile(loss='mse',\n",
    "           optimizer=Adam(lr_rate, 0.9),\n",
    "           metrics=['mse',PSNR])"
   ]
  },
  {
   "cell_type": "code",
   "execution_count": 6,
   "metadata": {},
   "outputs": [],
   "source": [
    "def Discriminator(hr_shape,is_train=True):\n",
    "    inputLayer = Input(hr_shape, name='in')\n",
    "    n = Conv2D(64, kernel_size=4, strides=2, padding='same', name='n64s1/c')(inputLayer)\n",
    "    n = LeakyReLU(alpha=0.2)(n)\n",
    "    \n",
    "    n = Conv2D(128, kernel_size=4, strides=2, padding='same', name='n64s2/c')(n)\n",
    "    n = BatchNormalization()(n)\n",
    "    n = LeakyReLU(alpha=0.2)(n)\n",
    "    \n",
    "    n = Conv2D(256, kernel_size=4, strides=2, padding='same', name='n128s1/c')(n)\n",
    "    n = BatchNormalization()(n)\n",
    "    n = LeakyReLU(alpha=0.2)(n)\n",
    "    \n",
    "    n = Conv2D(64*8, kernel_size=4, strides=2, padding='same', name='n128s2/c')(n)\n",
    "    n = BatchNormalization()(n)\n",
    "    n = LeakyReLU(alpha=0.2)(n)\n",
    "    \n",
    "    n = Conv2D(64*16, kernel_size=4, strides=2, padding='same', name='n256s1/c')(n)\n",
    "    n = BatchNormalization()(n)\n",
    "    n = LeakyReLU(alpha=0.2)(n)\n",
    "    \n",
    "    n = Conv2D(64*32, kernel_size=4, strides=2, padding='same', name='n256s2/c')(n)\n",
    "    n = BatchNormalization()(n)\n",
    "    n = LeakyReLU(alpha=0.2)(n)\n",
    "    \n",
    "    n = Conv2D(64*16, kernel_size=1, strides=1, padding='same', name='n512s1/c')(n)\n",
    "    n = BatchNormalization()(n)\n",
    "    n = LeakyReLU(alpha=0.2)(n)\n",
    "    \n",
    "    n = Conv2D(64*8, kernel_size=1, strides=1, padding='same', name='n512s2/c')(n)\n",
    "    n = BatchNormalization()(n)\n",
    "    n = LeakyReLU(alpha=0.2)(n)\n",
    "    \n",
    "    nn = Conv2D(64*2, kernel_size=1, strides=1, padding='same')(n)\n",
    "    nn = BatchNormalization()(nn)\n",
    "    nn = LeakyReLU(alpha=0.2)(nn)\n",
    "    \n",
    "    nn = Conv2D(64*2, kernel_size=3, strides=1, padding='same')(nn)\n",
    "    nn = BatchNormalization()(nn)\n",
    "    nn = LeakyReLU(alpha=0.2)(nn)\n",
    "        \n",
    "    nn = Conv2D(64*8, kernel_size=3, strides=1, padding='same')(nn)\n",
    "    nn = BatchNormalization()(nn)\n",
    "    nn = LeakyReLU(alpha=0.2)(nn)\n",
    "    \n",
    "    n = Add(name='res/add3')([n, nn])\n",
    "    n = LeakyReLU(alpha=0.2)(n)\n",
    "    \n",
    "    n = Flatten()(n)\n",
    "    n = Dense(1,activation='sigmoid')(n)\n",
    "    \n",
    "    return Model(inputLayer, n)\n",
    "\n",
    "disc = Discriminator(hr_shape)\n",
    "disc.compile(loss='binary_crossentropy',\n",
    "            optimizer=Adam(lr_rate, 0.9),\n",
    "            metrics=[discAcc])"
   ]
  },
  {
   "cell_type": "code",
   "execution_count": 7,
   "metadata": {},
   "outputs": [],
   "source": [
    "def preprocess_vgg(x):\n",
    "    \"\"\"Take a HR image [-1, 1], convert to [0, 255], then to input for VGG network\"\"\"\n",
    "    if isinstance(x, np.ndarray):\n",
    "        return preprocess_input((x+1)*127.5)\n",
    "    else:\n",
    "        return Lambda(lambda x: preprocess_input(tf.add(x, 1) * 127.5))(x) "
   ]
  },
  {
   "cell_type": "code",
   "execution_count": 8,
   "metadata": {},
   "outputs": [],
   "source": [
    "def build_vgg(hr_shape):\n",
    "    \"\"\"\n",
    "    Load pre-trained VGG weights from keras applications\n",
    "    Extract features to be used in loss function from last conv layer, see architecture at:\n",
    "    https://github.com/keras-team/keras/blob/master/keras/applications/vgg19.py\n",
    "    \"\"\"\n",
    "\n",
    "    # Input image to extract features from\n",
    "    img = Input(hr_shape)\n",
    "\n",
    "    # Get the vgg network. Extract features from last conv layer\n",
    "    vgg = VGG19(weights=\"imagenet\")\n",
    "    vgg.outputs = [vgg.layers[20].output]\n",
    "\n",
    "    # Create model and compile\n",
    "    model = Model(inputs=img, outputs=vgg(img))\n",
    "    model.trainable = False\n",
    "    return model\n",
    "\n",
    "vgg = build_vgg(hr_shape)\n",
    "vgg.compile(\n",
    "    loss='mse',\n",
    "    optimizer=Adam(lr_rate, 0.9),\n",
    "    metrics=['accuracy'])"
   ]
  },
  {
   "cell_type": "code",
   "execution_count": 9,
   "metadata": {},
   "outputs": [],
   "source": [
    "def build_srgan(lr_shape):\n",
    "    \"\"\"Create the combined SRGAN network\"\"\"\n",
    "\n",
    "    # Input LR images\n",
    "    img_lr = Input(lr_shape)\n",
    "\n",
    "    # Create a high resolution image from the low resolution one\n",
    "    generated_hr = gen(img_lr)\n",
    "    generated_features = vgg(\n",
    "        preprocess_vgg(generated_hr)\n",
    "    )\n",
    "\n",
    "    # In the combined model we only train the generator\n",
    "    disc.trainable = False\n",
    "\n",
    "    # Determine whether the generator HR images are OK\n",
    "    generated_check = disc(generated_hr)\n",
    "\n",
    "    # Create sensible names for outputs in logs\n",
    "    generated_features = Lambda(lambda x: x, name='Content')(generated_features)\n",
    "    generated_check = Lambda(lambda x: x, name='Adversarial')(generated_check)\n",
    "\n",
    "    # Create model and compile\n",
    "    # Using binary_crossentropy with reversed label, to get proper loss, see:\n",
    "    # https://danieltakeshi.github.io/2017/03/05/understanding-generative-adversarial-networks/\n",
    "    model = Model(inputs=img_lr, outputs=[generated_check, generated_features])        \n",
    "    return model\n",
    "\n",
    "srgan = build_srgan(lr_shape)\n",
    "srgan.compile(loss=['binary_crossentropy','mse'],\n",
    "             loss_weights=[1e-3, 0.006],\n",
    "             optimizer=Adam(lr_rate, 0.9))"
   ]
  },
  {
   "cell_type": "code",
   "execution_count": 10,
   "metadata": {},
   "outputs": [],
   "source": [
    "path = \"./mainDataset\"\n",
    "dataset_name = \"train\"\n",
    "# for the VGG feature out true labels\n",
    "ni = np.sqrt(batch_size)\n",
    "#disc_patch = (14, 14, 1)"
   ]
  },
  {
   "cell_type": "code",
   "execution_count": 11,
   "metadata": {},
   "outputs": [],
   "source": [
    "def readImage(x,p):\n",
    "    img = cv2.imread(p+x,cv2.IMREAD_COLOR)\n",
    "    return img"
   ]
  },
  {
   "cell_type": "code",
   "execution_count": 12,
   "metadata": {},
   "outputs": [],
   "source": [
    "train_hr_img_list = sorted(tl.files.load_file_list(path=path+'/%s/' % (dataset_name), regx='.*.png', printable=False))\n",
    "#train_hr_imgs = tl.vis.read_images(train_hr_img_list[0:100], path=path+'/%s/' % (dataset_name), n_threads=32)\n",
    "train_hr_imgs = tl.prepro.threading_data(train_hr_img_list,fn=readImage,p=path+'/%s/' % (dataset_name))"
   ]
  },
  {
   "cell_type": "code",
   "execution_count": 13,
   "metadata": {},
   "outputs": [],
   "source": [
    "train_hr_imgs_clean = []\n",
    "for i,img in enumerate(train_hr_imgs):\n",
    "    if img is not None:\n",
    "        train_hr_imgs_clean.append(img)\n",
    "train_hr_imgs = np.array(train_hr_imgs_clean)"
   ]
  },
  {
   "cell_type": "code",
   "execution_count": 14,
   "metadata": {},
   "outputs": [],
   "source": [
    "steps = len(train_hr_imgs)//batch_size"
   ]
  },
  {
   "cell_type": "code",
   "execution_count": 15,
   "metadata": {},
   "outputs": [],
   "source": [
    "def scaleHR(x):\n",
    "    x = x / (255. / 2.)\n",
    "    x = x - 1.\n",
    "    return x\n",
    "\n",
    "def scaleLR(x):\n",
    "    x = cv2.GaussianBlur(x,(3,3),0)\n",
    "    x = x / 255.\n",
    "    return x\n",
    "    \n",
    "def datagen(dev_hr_imgs,batchSize,is_testing=False):\n",
    "    while(True):\n",
    "        imgs_hr=[]\n",
    "        imgs_lr=[]\n",
    "        imgs = np.random.choice(dev_hr_imgs,batchSize)\n",
    "        img_hr = tl.prepro.threading_data(imgs, fn=crop, wrg=112, hrg=112, is_random=True)\n",
    "        #img_hr = tl.prepro.threading_data(imgs, fn=imresize,size=[224, 224], interp='bicubic', mode=None)\n",
    "        img_lr = tl.prepro.threading_data(img_hr, fn=imresize,size=[56, 56], interp='bicubic', mode=None)\n",
    "        \n",
    "        imgs_hr = tl.prepro.threading_data(img_hr,fn=scaleHR)\n",
    "        imgs_lr = tl.prepro.threading_data(img_lr,fn=scaleLR)\n",
    "        \n",
    "        yield imgs_hr, imgs_lr"
   ]
  },
  {
   "cell_type": "code",
   "execution_count": 16,
   "metadata": {},
   "outputs": [],
   "source": [
    "datagenObj = datagen(train_hr_imgs,batch_size)"
   ]
  },
  {
   "cell_type": "code",
   "execution_count": 17,
   "metadata": {},
   "outputs": [],
   "source": [
    "sample_hr,sample_lr = next(datagenObj)"
   ]
  },
  {
   "cell_type": "code",
   "execution_count": 18,
   "metadata": {},
   "outputs": [],
   "source": [
    "tl.vis.save_images(sample_hr, [int(ni), int(ni)],'images/'+dataset_name+'/sample_hr.png')\n",
    "tl.vis.save_images(sample_lr, [int(ni), int(ni)],'images/'+dataset_name+'/sample_lr.png')"
   ]
  },
  {
   "cell_type": "code",
   "execution_count": 26,
   "metadata": {},
   "outputs": [],
   "source": [
    "'''\n",
    "\n",
    "tensorboard = TensorBoard(\n",
    "  log_dir='log/srgan_FAST/SRResNet_x2/run1',\n",
    "  histogram_freq=0,\n",
    "  batch_size=batch_size,\n",
    "  write_graph=True,\n",
    "  write_grads=True\n",
    ")\n",
    "tensorboard.set_model(srgan)\n",
    "\n",
    "'''"
   ]
  },
  {
   "cell_type": "code",
   "execution_count": null,
   "metadata": {
    "scrolled": true
   },
   "outputs": [],
   "source": [
    "'''\n",
    "\n",
    "for epoch in range(500):\n",
    "    print(\"Epoch:\"+str(epoch))\n",
    "    for step in tqdm_notebook(range(0,steps)):\n",
    "        imgs_hr, imgs_lr = next(datagenObj)\n",
    "\n",
    "        # Train the generators\n",
    "        g_loss = gen.train_on_batch(imgs_lr,imgs_hr)\n",
    "    out = gen.predict(sample_lr)\n",
    "    tl.vis.save_images(out, [int(ni), int(ni)],'images/'+dataset_name+'/train.png')\n",
    "    tensorboard.on_epoch_end(epoch, {\"g_loss\": g_loss[2]})\n",
    "    if(epoch % 10 == 0):\n",
    "        out = gen.predict(sample_lr)\n",
    "        tl.vis.save_images(out, [int(ni), int(ni)],'images/'+dataset_name+'/trainSRResNetFAST_x2_%d.png' % int(epoch))\n",
    "\n",
    "'''"
   ]
  },
  {
   "cell_type": "code",
   "execution_count": 29,
   "metadata": {},
   "outputs": [],
   "source": [
    "'''\n",
    "gen.save_weights(\"checkpoints/GenInitFAST.h5\")\n",
    "'''"
   ]
  },
  {
   "cell_type": "code",
   "execution_count": 19,
   "metadata": {},
   "outputs": [],
   "source": [
    "gen.load_weights(\"checkpoints/GenInitFAST.h5\")"
   ]
  },
  {
   "cell_type": "code",
   "execution_count": 20,
   "metadata": {},
   "outputs": [],
   "source": [
    "modelcheckpoint = ModelCheckpoint(\n",
    "    filepath = \"./checkpoints/genFASTMC.h5\",\n",
    "    monitor='g_loss',\n",
    "    verbose=0,\n",
    "    mode=\"auto\",\n",
    "    save_best_only=True\n",
    ")\n",
    "modelcheckpoint.set_model(gen)\n",
    "discMC = ModelCheckpoint(\n",
    "    filepath = \"./checkpoints/discFASTMC.h5\",\n",
    "    monitor='g_loss',\n",
    "    verbose=0,\n",
    "    mode=\"auto\",\n",
    "    save_best_only=True\n",
    ")\n",
    "discMC.set_model(disc)"
   ]
  },
  {
   "cell_type": "code",
   "execution_count": 21,
   "metadata": {},
   "outputs": [],
   "source": [
    "tensorboard = TensorBoard(\n",
    "  log_dir='log/srgan_FAST/SRGAN_main_x2/run1',\n",
    "  histogram_freq=0,\n",
    "  batch_size=batch_size,\n",
    "  write_graph=True,\n",
    "  write_grads=True\n",
    ")\n",
    "tensorboard.set_model(srgan)"
   ]
  },
  {
   "cell_type": "code",
   "execution_count": 22,
   "metadata": {
    "scrolled": true
   },
   "outputs": [
    {
     "name": "stdout",
     "output_type": "stream",
     "text": [
      "Epoch:0\n"
     ]
    },
    {
     "data": {
      "application/vnd.jupyter.widget-view+json": {
       "model_id": "dcd0370f85d744c8be307deac950321a",
       "version_major": 2,
       "version_minor": 0
      },
      "text/plain": [
       "HBox(children=(IntProgress(value=0, max=182), HTML(value='')))"
      ]
     },
     "metadata": {},
     "output_type": "display_data"
    },
    {
     "name": "stdout",
     "output_type": "stream",
     "text": [
      "WARNING:tensorflow:From /home/pratik_p_kubal/anaconda3/envs/srgan/lib/python3.7/site-packages/tensorflow/python/ops/math_ops.py:3066: to_int32 (from tensorflow.python.ops.math_ops) is deprecated and will be removed in a future version.\n",
      "Instructions for updating:\n",
      "Use tf.cast instead.\n"
     ]
    },
    {
     "name": "stderr",
     "output_type": "stream",
     "text": [
      "/home/pratik_p_kubal/anaconda3/envs/srgan/lib/python3.7/site-packages/keras/engine/training.py:490: UserWarning: Discrepancy between trainable weights and collected trainable weights, did you set `model.trainable` without calling `model.compile` after ?\n",
      "  'Discrepancy between trainable weights and collected trainable'\n"
     ]
    },
    {
     "name": "stdout",
     "output_type": "stream",
     "text": [
      "\n",
      "Epoch:1\n"
     ]
    },
    {
     "data": {
      "application/vnd.jupyter.widget-view+json": {
       "model_id": "12d56725c19343b58f96c7cd8b1bb084",
       "version_major": 2,
       "version_minor": 0
      },
      "text/plain": [
       "HBox(children=(IntProgress(value=0, max=182), HTML(value='')))"
      ]
     },
     "metadata": {},
     "output_type": "display_data"
    },
    {
     "name": "stdout",
     "output_type": "stream",
     "text": [
      "\n",
      "Epoch:2\n"
     ]
    },
    {
     "data": {
      "application/vnd.jupyter.widget-view+json": {
       "model_id": "e17166eb6b904045a59a166e93620145",
       "version_major": 2,
       "version_minor": 0
      },
      "text/plain": [
       "HBox(children=(IntProgress(value=0, max=182), HTML(value='')))"
      ]
     },
     "metadata": {},
     "output_type": "display_data"
    },
    {
     "name": "stdout",
     "output_type": "stream",
     "text": [
      "\n",
      "Epoch:3\n"
     ]
    },
    {
     "data": {
      "application/vnd.jupyter.widget-view+json": {
       "model_id": "f689eb34bfd4491394a734de731b1219",
       "version_major": 2,
       "version_minor": 0
      },
      "text/plain": [
       "HBox(children=(IntProgress(value=0, max=182), HTML(value='')))"
      ]
     },
     "metadata": {},
     "output_type": "display_data"
    },
    {
     "name": "stdout",
     "output_type": "stream",
     "text": [
      "\n",
      "Epoch:4\n"
     ]
    },
    {
     "data": {
      "application/vnd.jupyter.widget-view+json": {
       "model_id": "2e80cc59ef26426c9b836b4f65133b45",
       "version_major": 2,
       "version_minor": 0
      },
      "text/plain": [
       "HBox(children=(IntProgress(value=0, max=182), HTML(value='')))"
      ]
     },
     "metadata": {},
     "output_type": "display_data"
    },
    {
     "name": "stdout",
     "output_type": "stream",
     "text": [
      "\n",
      "Epoch:5\n"
     ]
    },
    {
     "data": {
      "application/vnd.jupyter.widget-view+json": {
       "model_id": "5767c7bebfd44f2ca850bf671ef5c430",
       "version_major": 2,
       "version_minor": 0
      },
      "text/plain": [
       "HBox(children=(IntProgress(value=0, max=182), HTML(value='')))"
      ]
     },
     "metadata": {},
     "output_type": "display_data"
    },
    {
     "name": "stdout",
     "output_type": "stream",
     "text": [
      "\n",
      "Epoch:6\n"
     ]
    },
    {
     "data": {
      "application/vnd.jupyter.widget-view+json": {
       "model_id": "0c3f4119e00340e898a429b30a59315b",
       "version_major": 2,
       "version_minor": 0
      },
      "text/plain": [
       "HBox(children=(IntProgress(value=0, max=182), HTML(value='')))"
      ]
     },
     "metadata": {},
     "output_type": "display_data"
    },
    {
     "name": "stdout",
     "output_type": "stream",
     "text": [
      "\n",
      "Epoch:7\n"
     ]
    },
    {
     "data": {
      "application/vnd.jupyter.widget-view+json": {
       "model_id": "a2e9697bb8c34e97a31c52ee07dad3b9",
       "version_major": 2,
       "version_minor": 0
      },
      "text/plain": [
       "HBox(children=(IntProgress(value=0, max=182), HTML(value='')))"
      ]
     },
     "metadata": {},
     "output_type": "display_data"
    },
    {
     "name": "stdout",
     "output_type": "stream",
     "text": [
      "\n",
      "Epoch:8\n"
     ]
    },
    {
     "data": {
      "application/vnd.jupyter.widget-view+json": {
       "model_id": "853ef545e7fa4808a3f480ed85b42574",
       "version_major": 2,
       "version_minor": 0
      },
      "text/plain": [
       "HBox(children=(IntProgress(value=0, max=182), HTML(value='')))"
      ]
     },
     "metadata": {},
     "output_type": "display_data"
    },
    {
     "name": "stdout",
     "output_type": "stream",
     "text": [
      "\n",
      "Epoch:9\n"
     ]
    },
    {
     "data": {
      "application/vnd.jupyter.widget-view+json": {
       "model_id": "d1da03b763124d4798bf6c5a2aae50d0",
       "version_major": 2,
       "version_minor": 0
      },
      "text/plain": [
       "HBox(children=(IntProgress(value=0, max=182), HTML(value='')))"
      ]
     },
     "metadata": {},
     "output_type": "display_data"
    },
    {
     "name": "stdout",
     "output_type": "stream",
     "text": [
      "\n",
      "Epoch:10\n"
     ]
    },
    {
     "data": {
      "application/vnd.jupyter.widget-view+json": {
       "model_id": "dcc4932e34fc4699bdfe894dfcb84afb",
       "version_major": 2,
       "version_minor": 0
      },
      "text/plain": [
       "HBox(children=(IntProgress(value=0, max=182), HTML(value='')))"
      ]
     },
     "metadata": {},
     "output_type": "display_data"
    },
    {
     "name": "stdout",
     "output_type": "stream",
     "text": [
      "\n",
      "Epoch:11\n"
     ]
    },
    {
     "data": {
      "application/vnd.jupyter.widget-view+json": {
       "model_id": "75af227160ca4f799331b35f95ccca1c",
       "version_major": 2,
       "version_minor": 0
      },
      "text/plain": [
       "HBox(children=(IntProgress(value=0, max=182), HTML(value='')))"
      ]
     },
     "metadata": {},
     "output_type": "display_data"
    },
    {
     "name": "stdout",
     "output_type": "stream",
     "text": [
      "\n",
      "Epoch:12\n"
     ]
    },
    {
     "data": {
      "application/vnd.jupyter.widget-view+json": {
       "model_id": "df8864a7658843e4a20645ce0e86a5ef",
       "version_major": 2,
       "version_minor": 0
      },
      "text/plain": [
       "HBox(children=(IntProgress(value=0, max=182), HTML(value='')))"
      ]
     },
     "metadata": {},
     "output_type": "display_data"
    },
    {
     "name": "stdout",
     "output_type": "stream",
     "text": [
      "\n",
      "Epoch:13\n"
     ]
    },
    {
     "data": {
      "application/vnd.jupyter.widget-view+json": {
       "model_id": "bc7b98c8cf894b1c86d888be22d35845",
       "version_major": 2,
       "version_minor": 0
      },
      "text/plain": [
       "HBox(children=(IntProgress(value=0, max=182), HTML(value='')))"
      ]
     },
     "metadata": {},
     "output_type": "display_data"
    },
    {
     "name": "stdout",
     "output_type": "stream",
     "text": [
      "\n",
      "Epoch:14\n"
     ]
    },
    {
     "data": {
      "application/vnd.jupyter.widget-view+json": {
       "model_id": "4f0bf938a9144178a944fa130c1a7997",
       "version_major": 2,
       "version_minor": 0
      },
      "text/plain": [
       "HBox(children=(IntProgress(value=0, max=182), HTML(value='')))"
      ]
     },
     "metadata": {},
     "output_type": "display_data"
    },
    {
     "name": "stdout",
     "output_type": "stream",
     "text": [
      "\n",
      "Epoch:15\n"
     ]
    },
    {
     "data": {
      "application/vnd.jupyter.widget-view+json": {
       "model_id": "7c1bcb92599a439ea3960b5bd80cddac",
       "version_major": 2,
       "version_minor": 0
      },
      "text/plain": [
       "HBox(children=(IntProgress(value=0, max=182), HTML(value='')))"
      ]
     },
     "metadata": {},
     "output_type": "display_data"
    },
    {
     "name": "stdout",
     "output_type": "stream",
     "text": [
      "\n",
      "Epoch:16\n"
     ]
    },
    {
     "data": {
      "application/vnd.jupyter.widget-view+json": {
       "model_id": "b391202852144ebcadac529744b0e20b",
       "version_major": 2,
       "version_minor": 0
      },
      "text/plain": [
       "HBox(children=(IntProgress(value=0, max=182), HTML(value='')))"
      ]
     },
     "metadata": {},
     "output_type": "display_data"
    },
    {
     "name": "stdout",
     "output_type": "stream",
     "text": [
      "\n",
      "Epoch:17\n"
     ]
    },
    {
     "data": {
      "application/vnd.jupyter.widget-view+json": {
       "model_id": "6eeef4c6b2ca49ecac3aa6a6567075a2",
       "version_major": 2,
       "version_minor": 0
      },
      "text/plain": [
       "HBox(children=(IntProgress(value=0, max=182), HTML(value='')))"
      ]
     },
     "metadata": {},
     "output_type": "display_data"
    },
    {
     "name": "stdout",
     "output_type": "stream",
     "text": [
      "\n",
      "Epoch:18\n"
     ]
    },
    {
     "data": {
      "application/vnd.jupyter.widget-view+json": {
       "model_id": "ecc705b1654f4561834554d7f64ba8d6",
       "version_major": 2,
       "version_minor": 0
      },
      "text/plain": [
       "HBox(children=(IntProgress(value=0, max=182), HTML(value='')))"
      ]
     },
     "metadata": {},
     "output_type": "display_data"
    },
    {
     "name": "stdout",
     "output_type": "stream",
     "text": [
      "\n",
      "Epoch:19\n"
     ]
    },
    {
     "data": {
      "application/vnd.jupyter.widget-view+json": {
       "model_id": "ebbe8fa1b43c4337a3d88b929be23b23",
       "version_major": 2,
       "version_minor": 0
      },
      "text/plain": [
       "HBox(children=(IntProgress(value=0, max=182), HTML(value='')))"
      ]
     },
     "metadata": {},
     "output_type": "display_data"
    },
    {
     "name": "stdout",
     "output_type": "stream",
     "text": [
      "\n",
      "Epoch:20\n"
     ]
    },
    {
     "data": {
      "application/vnd.jupyter.widget-view+json": {
       "model_id": "b74a92d626a042938bde4533772cf88a",
       "version_major": 2,
       "version_minor": 0
      },
      "text/plain": [
       "HBox(children=(IntProgress(value=0, max=182), HTML(value='')))"
      ]
     },
     "metadata": {},
     "output_type": "display_data"
    },
    {
     "name": "stdout",
     "output_type": "stream",
     "text": [
      "\n",
      "Epoch:21\n"
     ]
    },
    {
     "data": {
      "application/vnd.jupyter.widget-view+json": {
       "model_id": "7eaa09909be34139a7d8d9ee75acf83b",
       "version_major": 2,
       "version_minor": 0
      },
      "text/plain": [
       "HBox(children=(IntProgress(value=0, max=182), HTML(value='')))"
      ]
     },
     "metadata": {},
     "output_type": "display_data"
    },
    {
     "name": "stdout",
     "output_type": "stream",
     "text": [
      "\n",
      "Epoch:22\n"
     ]
    },
    {
     "data": {
      "application/vnd.jupyter.widget-view+json": {
       "model_id": "415ab1a44e7c43df9b51947904bdd4a2",
       "version_major": 2,
       "version_minor": 0
      },
      "text/plain": [
       "HBox(children=(IntProgress(value=0, max=182), HTML(value='')))"
      ]
     },
     "metadata": {},
     "output_type": "display_data"
    },
    {
     "name": "stdout",
     "output_type": "stream",
     "text": [
      "\n",
      "Epoch:23\n"
     ]
    },
    {
     "data": {
      "application/vnd.jupyter.widget-view+json": {
       "model_id": "8bfe524962aa44a5ac1d6ca8b1b354f3",
       "version_major": 2,
       "version_minor": 0
      },
      "text/plain": [
       "HBox(children=(IntProgress(value=0, max=182), HTML(value='')))"
      ]
     },
     "metadata": {},
     "output_type": "display_data"
    },
    {
     "name": "stdout",
     "output_type": "stream",
     "text": [
      "\n",
      "Epoch:24\n"
     ]
    },
    {
     "data": {
      "application/vnd.jupyter.widget-view+json": {
       "model_id": "b9c2abaaa99e4e4ba713b3da3a25d095",
       "version_major": 2,
       "version_minor": 0
      },
      "text/plain": [
       "HBox(children=(IntProgress(value=0, max=182), HTML(value='')))"
      ]
     },
     "metadata": {},
     "output_type": "display_data"
    },
    {
     "name": "stdout",
     "output_type": "stream",
     "text": [
      "\n",
      "Epoch:25\n"
     ]
    },
    {
     "data": {
      "application/vnd.jupyter.widget-view+json": {
       "model_id": "61fc7acc29c3453e96b6e29d58506bc6",
       "version_major": 2,
       "version_minor": 0
      },
      "text/plain": [
       "HBox(children=(IntProgress(value=0, max=182), HTML(value='')))"
      ]
     },
     "metadata": {},
     "output_type": "display_data"
    },
    {
     "name": "stdout",
     "output_type": "stream",
     "text": [
      "\n",
      "Epoch:26\n"
     ]
    },
    {
     "data": {
      "application/vnd.jupyter.widget-view+json": {
       "model_id": "34f63ba860e04418b90c8befbded8dc1",
       "version_major": 2,
       "version_minor": 0
      },
      "text/plain": [
       "HBox(children=(IntProgress(value=0, max=182), HTML(value='')))"
      ]
     },
     "metadata": {},
     "output_type": "display_data"
    },
    {
     "name": "stdout",
     "output_type": "stream",
     "text": [
      "\n",
      "Epoch:27\n"
     ]
    },
    {
     "data": {
      "application/vnd.jupyter.widget-view+json": {
       "model_id": "33aea2024e094485a37827371c902525",
       "version_major": 2,
       "version_minor": 0
      },
      "text/plain": [
       "HBox(children=(IntProgress(value=0, max=182), HTML(value='')))"
      ]
     },
     "metadata": {},
     "output_type": "display_data"
    },
    {
     "name": "stdout",
     "output_type": "stream",
     "text": [
      "\n",
      "Epoch:28\n"
     ]
    },
    {
     "data": {
      "application/vnd.jupyter.widget-view+json": {
       "model_id": "dbceee29f7444b6aafce584f97a0c27d",
       "version_major": 2,
       "version_minor": 0
      },
      "text/plain": [
       "HBox(children=(IntProgress(value=0, max=182), HTML(value='')))"
      ]
     },
     "metadata": {},
     "output_type": "display_data"
    },
    {
     "name": "stdout",
     "output_type": "stream",
     "text": [
      "\n",
      "Epoch:29\n"
     ]
    },
    {
     "data": {
      "application/vnd.jupyter.widget-view+json": {
       "model_id": "96fa1302bc7f407ba39fac2d17be9488",
       "version_major": 2,
       "version_minor": 0
      },
      "text/plain": [
       "HBox(children=(IntProgress(value=0, max=182), HTML(value='')))"
      ]
     },
     "metadata": {},
     "output_type": "display_data"
    },
    {
     "name": "stdout",
     "output_type": "stream",
     "text": [
      "\n",
      "Epoch:30\n"
     ]
    },
    {
     "data": {
      "application/vnd.jupyter.widget-view+json": {
       "model_id": "a8d3f772d9684f7c970de5e6ba29ec82",
       "version_major": 2,
       "version_minor": 0
      },
      "text/plain": [
       "HBox(children=(IntProgress(value=0, max=182), HTML(value='')))"
      ]
     },
     "metadata": {},
     "output_type": "display_data"
    },
    {
     "name": "stdout",
     "output_type": "stream",
     "text": [
      "\n",
      "Epoch:31\n"
     ]
    },
    {
     "data": {
      "application/vnd.jupyter.widget-view+json": {
       "model_id": "2eacdd927c7c478d87dd1fbfbfbf8c40",
       "version_major": 2,
       "version_minor": 0
      },
      "text/plain": [
       "HBox(children=(IntProgress(value=0, max=182), HTML(value='')))"
      ]
     },
     "metadata": {},
     "output_type": "display_data"
    },
    {
     "name": "stdout",
     "output_type": "stream",
     "text": [
      "\n",
      "Epoch:32\n"
     ]
    },
    {
     "data": {
      "application/vnd.jupyter.widget-view+json": {
       "model_id": "ad1ed02b13ae4f85b3e7af710268e451",
       "version_major": 2,
       "version_minor": 0
      },
      "text/plain": [
       "HBox(children=(IntProgress(value=0, max=182), HTML(value='')))"
      ]
     },
     "metadata": {},
     "output_type": "display_data"
    },
    {
     "name": "stdout",
     "output_type": "stream",
     "text": [
      "\n",
      "Epoch:33\n"
     ]
    },
    {
     "data": {
      "application/vnd.jupyter.widget-view+json": {
       "model_id": "2c24d033ebdd41d5b0bcdc8e24b9aa47",
       "version_major": 2,
       "version_minor": 0
      },
      "text/plain": [
       "HBox(children=(IntProgress(value=0, max=182), HTML(value='')))"
      ]
     },
     "metadata": {},
     "output_type": "display_data"
    },
    {
     "name": "stdout",
     "output_type": "stream",
     "text": [
      "\n",
      "Epoch:34\n"
     ]
    },
    {
     "data": {
      "application/vnd.jupyter.widget-view+json": {
       "model_id": "114c77f5fe2a4de9bbcb6601460df574",
       "version_major": 2,
       "version_minor": 0
      },
      "text/plain": [
       "HBox(children=(IntProgress(value=0, max=182), HTML(value='')))"
      ]
     },
     "metadata": {},
     "output_type": "display_data"
    },
    {
     "name": "stdout",
     "output_type": "stream",
     "text": [
      "\n",
      "Epoch:35\n"
     ]
    },
    {
     "data": {
      "application/vnd.jupyter.widget-view+json": {
       "model_id": "fbb3b42a40444cfaa6112954728833ec",
       "version_major": 2,
       "version_minor": 0
      },
      "text/plain": [
       "HBox(children=(IntProgress(value=0, max=182), HTML(value='')))"
      ]
     },
     "metadata": {},
     "output_type": "display_data"
    },
    {
     "name": "stdout",
     "output_type": "stream",
     "text": [
      "\n",
      "Epoch:36\n"
     ]
    },
    {
     "data": {
      "application/vnd.jupyter.widget-view+json": {
       "model_id": "bd6a507e19e9487fbd3e29affc88c885",
       "version_major": 2,
       "version_minor": 0
      },
      "text/plain": [
       "HBox(children=(IntProgress(value=0, max=182), HTML(value='')))"
      ]
     },
     "metadata": {},
     "output_type": "display_data"
    },
    {
     "name": "stdout",
     "output_type": "stream",
     "text": [
      "\n",
      "Epoch:37\n"
     ]
    },
    {
     "data": {
      "application/vnd.jupyter.widget-view+json": {
       "model_id": "716662cde9cc41c9b4bbe74957ec0716",
       "version_major": 2,
       "version_minor": 0
      },
      "text/plain": [
       "HBox(children=(IntProgress(value=0, max=182), HTML(value='')))"
      ]
     },
     "metadata": {},
     "output_type": "display_data"
    },
    {
     "name": "stdout",
     "output_type": "stream",
     "text": [
      "\n",
      "Epoch:38\n"
     ]
    },
    {
     "data": {
      "application/vnd.jupyter.widget-view+json": {
       "model_id": "4e1dfc6e2af94f728956bb8ea23c9519",
       "version_major": 2,
       "version_minor": 0
      },
      "text/plain": [
       "HBox(children=(IntProgress(value=0, max=182), HTML(value='')))"
      ]
     },
     "metadata": {},
     "output_type": "display_data"
    },
    {
     "name": "stdout",
     "output_type": "stream",
     "text": [
      "\n",
      "Epoch:39\n"
     ]
    },
    {
     "data": {
      "application/vnd.jupyter.widget-view+json": {
       "model_id": "d4897ef9e424463c8b20339a1b74d514",
       "version_major": 2,
       "version_minor": 0
      },
      "text/plain": [
       "HBox(children=(IntProgress(value=0, max=182), HTML(value='')))"
      ]
     },
     "metadata": {},
     "output_type": "display_data"
    },
    {
     "name": "stdout",
     "output_type": "stream",
     "text": [
      "\n",
      "Epoch:40\n"
     ]
    },
    {
     "data": {
      "application/vnd.jupyter.widget-view+json": {
       "model_id": "c9f52d9c79484c969ccc91d53a2ed9f4",
       "version_major": 2,
       "version_minor": 0
      },
      "text/plain": [
       "HBox(children=(IntProgress(value=0, max=182), HTML(value='')))"
      ]
     },
     "metadata": {},
     "output_type": "display_data"
    },
    {
     "name": "stdout",
     "output_type": "stream",
     "text": [
      "\n",
      "Epoch:41\n"
     ]
    },
    {
     "data": {
      "application/vnd.jupyter.widget-view+json": {
       "model_id": "0c9b9b1e6c604d47a148c4ca7bcb20cc",
       "version_major": 2,
       "version_minor": 0
      },
      "text/plain": [
       "HBox(children=(IntProgress(value=0, max=182), HTML(value='')))"
      ]
     },
     "metadata": {},
     "output_type": "display_data"
    },
    {
     "name": "stdout",
     "output_type": "stream",
     "text": [
      "\n",
      "Epoch:42\n"
     ]
    },
    {
     "data": {
      "application/vnd.jupyter.widget-view+json": {
       "model_id": "13c3a92d5c394c7b89bd03d58590ef69",
       "version_major": 2,
       "version_minor": 0
      },
      "text/plain": [
       "HBox(children=(IntProgress(value=0, max=182), HTML(value='')))"
      ]
     },
     "metadata": {},
     "output_type": "display_data"
    },
    {
     "name": "stdout",
     "output_type": "stream",
     "text": [
      "\n",
      "Epoch:43\n"
     ]
    },
    {
     "data": {
      "application/vnd.jupyter.widget-view+json": {
       "model_id": "8d523de8e935464c9d3f7ab475cd6b5b",
       "version_major": 2,
       "version_minor": 0
      },
      "text/plain": [
       "HBox(children=(IntProgress(value=0, max=182), HTML(value='')))"
      ]
     },
     "metadata": {},
     "output_type": "display_data"
    },
    {
     "name": "stdout",
     "output_type": "stream",
     "text": [
      "\n",
      "Epoch:44\n"
     ]
    },
    {
     "data": {
      "application/vnd.jupyter.widget-view+json": {
       "model_id": "2465d63c61804356a59ac7a22a3e61a0",
       "version_major": 2,
       "version_minor": 0
      },
      "text/plain": [
       "HBox(children=(IntProgress(value=0, max=182), HTML(value='')))"
      ]
     },
     "metadata": {},
     "output_type": "display_data"
    },
    {
     "name": "stdout",
     "output_type": "stream",
     "text": [
      "\n",
      "Epoch:45\n"
     ]
    },
    {
     "data": {
      "application/vnd.jupyter.widget-view+json": {
       "model_id": "cee677ef23314c5f937258cc4d7ac991",
       "version_major": 2,
       "version_minor": 0
      },
      "text/plain": [
       "HBox(children=(IntProgress(value=0, max=182), HTML(value='')))"
      ]
     },
     "metadata": {},
     "output_type": "display_data"
    },
    {
     "name": "stdout",
     "output_type": "stream",
     "text": [
      "\n",
      "Epoch:50\n"
     ]
    },
    {
     "data": {
      "application/vnd.jupyter.widget-view+json": {
       "model_id": "58e2c6a8eea2481ea4f13baabc23966b",
       "version_major": 2,
       "version_minor": 0
      },
      "text/plain": [
       "HBox(children=(IntProgress(value=0, max=182), HTML(value='')))"
      ]
     },
     "metadata": {},
     "output_type": "display_data"
    },
    {
     "name": "stdout",
     "output_type": "stream",
     "text": [
      "\n",
      "Epoch:51\n"
     ]
    },
    {
     "data": {
      "application/vnd.jupyter.widget-view+json": {
       "model_id": "a14160443b354289b671f217b8d8924b",
       "version_major": 2,
       "version_minor": 0
      },
      "text/plain": [
       "HBox(children=(IntProgress(value=0, max=182), HTML(value='')))"
      ]
     },
     "metadata": {},
     "output_type": "display_data"
    },
    {
     "name": "stdout",
     "output_type": "stream",
     "text": [
      "\n",
      "Epoch:52\n"
     ]
    },
    {
     "data": {
      "application/vnd.jupyter.widget-view+json": {
       "model_id": "d71bef7dddfe43cc9175387f6ed96cb4",
       "version_major": 2,
       "version_minor": 0
      },
      "text/plain": [
       "HBox(children=(IntProgress(value=0, max=182), HTML(value='')))"
      ]
     },
     "metadata": {},
     "output_type": "display_data"
    },
    {
     "name": "stdout",
     "output_type": "stream",
     "text": [
      "\n",
      "Epoch:53\n"
     ]
    },
    {
     "data": {
      "application/vnd.jupyter.widget-view+json": {
       "model_id": "ba28ac99e9b14d0189356cc1c94371b6",
       "version_major": 2,
       "version_minor": 0
      },
      "text/plain": [
       "HBox(children=(IntProgress(value=0, max=182), HTML(value='')))"
      ]
     },
     "metadata": {},
     "output_type": "display_data"
    },
    {
     "name": "stdout",
     "output_type": "stream",
     "text": [
      "\n",
      "Epoch:54\n"
     ]
    },
    {
     "data": {
      "application/vnd.jupyter.widget-view+json": {
       "model_id": "d3a9088721a8447892563b2e8b54d0ec",
       "version_major": 2,
       "version_minor": 0
      },
      "text/plain": [
       "HBox(children=(IntProgress(value=0, max=182), HTML(value='')))"
      ]
     },
     "metadata": {},
     "output_type": "display_data"
    },
    {
     "name": "stdout",
     "output_type": "stream",
     "text": [
      "\n",
      "Epoch:55\n"
     ]
    },
    {
     "data": {
      "application/vnd.jupyter.widget-view+json": {
       "model_id": "cd290714db474e32ba206e2b58931d37",
       "version_major": 2,
       "version_minor": 0
      },
      "text/plain": [
       "HBox(children=(IntProgress(value=0, max=182), HTML(value='')))"
      ]
     },
     "metadata": {},
     "output_type": "display_data"
    },
    {
     "ename": "KeyboardInterrupt",
     "evalue": "",
     "output_type": "error",
     "traceback": [
      "\u001b[0;31m---------------------------------------------------------------------------\u001b[0m",
      "\u001b[0;31mKeyboardInterrupt\u001b[0m                         Traceback (most recent call last)",
      "\u001b[0;32m<ipython-input-22-db144a60aa17>\u001b[0m in \u001b[0;36m<module>\u001b[0;34m\u001b[0m\n\u001b[1;32m      2\u001b[0m     \u001b[0mprint\u001b[0m\u001b[0;34m(\u001b[0m\u001b[0;34m\"Epoch:\"\u001b[0m\u001b[0;34m+\u001b[0m\u001b[0mstr\u001b[0m\u001b[0;34m(\u001b[0m\u001b[0mepoch\u001b[0m\u001b[0;34m)\u001b[0m\u001b[0;34m)\u001b[0m\u001b[0;34m\u001b[0m\u001b[0;34m\u001b[0m\u001b[0m\n\u001b[1;32m      3\u001b[0m     \u001b[0;32mfor\u001b[0m \u001b[0mstep\u001b[0m \u001b[0;32min\u001b[0m \u001b[0mtqdm_notebook\u001b[0m\u001b[0;34m(\u001b[0m\u001b[0mrange\u001b[0m\u001b[0;34m(\u001b[0m\u001b[0;36m0\u001b[0m\u001b[0;34m,\u001b[0m\u001b[0msteps\u001b[0m\u001b[0;34m)\u001b[0m\u001b[0;34m)\u001b[0m\u001b[0;34m:\u001b[0m\u001b[0;34m\u001b[0m\u001b[0;34m\u001b[0m\u001b[0m\n\u001b[0;32m----> 4\u001b[0;31m         \u001b[0mimgs_hr\u001b[0m\u001b[0;34m,\u001b[0m \u001b[0mimgs_lr\u001b[0m \u001b[0;34m=\u001b[0m \u001b[0mnext\u001b[0m\u001b[0;34m(\u001b[0m\u001b[0mdatagenObj\u001b[0m\u001b[0;34m)\u001b[0m\u001b[0;34m\u001b[0m\u001b[0;34m\u001b[0m\u001b[0m\n\u001b[0m\u001b[1;32m      5\u001b[0m         \u001b[0;31m# From low res. image generate high res. version\u001b[0m\u001b[0;34m\u001b[0m\u001b[0;34m\u001b[0m\u001b[0;34m\u001b[0m\u001b[0m\n\u001b[1;32m      6\u001b[0m         \u001b[0mfake_hr\u001b[0m \u001b[0;34m=\u001b[0m \u001b[0mgen\u001b[0m\u001b[0;34m.\u001b[0m\u001b[0mpredict\u001b[0m\u001b[0;34m(\u001b[0m\u001b[0mimgs_lr\u001b[0m\u001b[0;34m)\u001b[0m\u001b[0;34m\u001b[0m\u001b[0;34m\u001b[0m\u001b[0m\n",
      "\u001b[0;32m<ipython-input-15-db86a9332881>\u001b[0m in \u001b[0;36mdatagen\u001b[0;34m(dev_hr_imgs, batchSize, is_testing)\u001b[0m\n\u001b[1;32m     18\u001b[0m         \u001b[0mimg_lr\u001b[0m \u001b[0;34m=\u001b[0m \u001b[0mtl\u001b[0m\u001b[0;34m.\u001b[0m\u001b[0mprepro\u001b[0m\u001b[0;34m.\u001b[0m\u001b[0mthreading_data\u001b[0m\u001b[0;34m(\u001b[0m\u001b[0mimg_hr\u001b[0m\u001b[0;34m,\u001b[0m \u001b[0mfn\u001b[0m\u001b[0;34m=\u001b[0m\u001b[0mimresize\u001b[0m\u001b[0;34m,\u001b[0m\u001b[0msize\u001b[0m\u001b[0;34m=\u001b[0m\u001b[0;34m[\u001b[0m\u001b[0;36m56\u001b[0m\u001b[0;34m,\u001b[0m \u001b[0;36m56\u001b[0m\u001b[0;34m]\u001b[0m\u001b[0;34m,\u001b[0m \u001b[0minterp\u001b[0m\u001b[0;34m=\u001b[0m\u001b[0;34m'bicubic'\u001b[0m\u001b[0;34m,\u001b[0m \u001b[0mmode\u001b[0m\u001b[0;34m=\u001b[0m\u001b[0;32mNone\u001b[0m\u001b[0;34m)\u001b[0m\u001b[0;34m\u001b[0m\u001b[0;34m\u001b[0m\u001b[0m\n\u001b[1;32m     19\u001b[0m \u001b[0;34m\u001b[0m\u001b[0m\n\u001b[0;32m---> 20\u001b[0;31m         \u001b[0mimgs_hr\u001b[0m \u001b[0;34m=\u001b[0m \u001b[0mtl\u001b[0m\u001b[0;34m.\u001b[0m\u001b[0mprepro\u001b[0m\u001b[0;34m.\u001b[0m\u001b[0mthreading_data\u001b[0m\u001b[0;34m(\u001b[0m\u001b[0mimg_hr\u001b[0m\u001b[0;34m,\u001b[0m\u001b[0mfn\u001b[0m\u001b[0;34m=\u001b[0m\u001b[0mscaleHR\u001b[0m\u001b[0;34m)\u001b[0m\u001b[0;34m\u001b[0m\u001b[0;34m\u001b[0m\u001b[0m\n\u001b[0m\u001b[1;32m     21\u001b[0m         \u001b[0mimgs_lr\u001b[0m \u001b[0;34m=\u001b[0m \u001b[0mtl\u001b[0m\u001b[0;34m.\u001b[0m\u001b[0mprepro\u001b[0m\u001b[0;34m.\u001b[0m\u001b[0mthreading_data\u001b[0m\u001b[0;34m(\u001b[0m\u001b[0mimg_lr\u001b[0m\u001b[0;34m,\u001b[0m\u001b[0mfn\u001b[0m\u001b[0;34m=\u001b[0m\u001b[0mscaleLR\u001b[0m\u001b[0;34m)\u001b[0m\u001b[0;34m\u001b[0m\u001b[0;34m\u001b[0m\u001b[0m\n\u001b[1;32m     22\u001b[0m \u001b[0;34m\u001b[0m\u001b[0m\n",
      "\u001b[0;32m~/anaconda3/envs/srgan/lib/python3.7/site-packages/tensorlayer/prepro.py\u001b[0m in \u001b[0;36mthreading_data\u001b[0;34m(data, fn, thread_count, **kwargs)\u001b[0m\n\u001b[1;32m    209\u001b[0m         \u001b[0;32mfor\u001b[0m \u001b[0mi\u001b[0m\u001b[0;34m,\u001b[0m \u001b[0md\u001b[0m \u001b[0;32min\u001b[0m \u001b[0menumerate\u001b[0m\u001b[0;34m(\u001b[0m\u001b[0mdata\u001b[0m\u001b[0;34m)\u001b[0m\u001b[0;34m:\u001b[0m\u001b[0;34m\u001b[0m\u001b[0;34m\u001b[0m\u001b[0m\n\u001b[1;32m    210\u001b[0m             \u001b[0mt\u001b[0m \u001b[0;34m=\u001b[0m \u001b[0mthreading\u001b[0m\u001b[0;34m.\u001b[0m\u001b[0mThread\u001b[0m\u001b[0;34m(\u001b[0m\u001b[0mname\u001b[0m\u001b[0;34m=\u001b[0m\u001b[0;34m'threading_and_return'\u001b[0m\u001b[0;34m,\u001b[0m \u001b[0mtarget\u001b[0m\u001b[0;34m=\u001b[0m\u001b[0mapply_fn\u001b[0m\u001b[0;34m,\u001b[0m \u001b[0margs\u001b[0m\u001b[0;34m=\u001b[0m\u001b[0;34m(\u001b[0m\u001b[0mresults\u001b[0m\u001b[0;34m,\u001b[0m \u001b[0mi\u001b[0m\u001b[0;34m,\u001b[0m \u001b[0md\u001b[0m\u001b[0;34m,\u001b[0m \u001b[0mkwargs\u001b[0m\u001b[0;34m)\u001b[0m\u001b[0;34m)\u001b[0m\u001b[0;34m\u001b[0m\u001b[0;34m\u001b[0m\u001b[0m\n\u001b[0;32m--> 211\u001b[0;31m             \u001b[0mt\u001b[0m\u001b[0;34m.\u001b[0m\u001b[0mstart\u001b[0m\u001b[0;34m(\u001b[0m\u001b[0;34m)\u001b[0m\u001b[0;34m\u001b[0m\u001b[0;34m\u001b[0m\u001b[0m\n\u001b[0m\u001b[1;32m    212\u001b[0m             \u001b[0mthreads\u001b[0m\u001b[0;34m.\u001b[0m\u001b[0mappend\u001b[0m\u001b[0;34m(\u001b[0m\u001b[0mt\u001b[0m\u001b[0;34m)\u001b[0m\u001b[0;34m\u001b[0m\u001b[0;34m\u001b[0m\u001b[0m\n\u001b[1;32m    213\u001b[0m     \u001b[0;32melse\u001b[0m\u001b[0;34m:\u001b[0m\u001b[0;34m\u001b[0m\u001b[0;34m\u001b[0m\u001b[0m\n",
      "\u001b[0;32m~/anaconda3/envs/srgan/lib/python3.7/threading.py\u001b[0m in \u001b[0;36mstart\u001b[0;34m(self)\u001b[0m\n\u001b[1;32m    845\u001b[0m             \u001b[0m_limbo\u001b[0m\u001b[0;34m[\u001b[0m\u001b[0mself\u001b[0m\u001b[0;34m]\u001b[0m \u001b[0;34m=\u001b[0m \u001b[0mself\u001b[0m\u001b[0;34m\u001b[0m\u001b[0;34m\u001b[0m\u001b[0m\n\u001b[1;32m    846\u001b[0m         \u001b[0;32mtry\u001b[0m\u001b[0;34m:\u001b[0m\u001b[0;34m\u001b[0m\u001b[0;34m\u001b[0m\u001b[0m\n\u001b[0;32m--> 847\u001b[0;31m             \u001b[0m_start_new_thread\u001b[0m\u001b[0;34m(\u001b[0m\u001b[0mself\u001b[0m\u001b[0;34m.\u001b[0m\u001b[0m_bootstrap\u001b[0m\u001b[0;34m,\u001b[0m \u001b[0;34m(\u001b[0m\u001b[0;34m)\u001b[0m\u001b[0;34m)\u001b[0m\u001b[0;34m\u001b[0m\u001b[0;34m\u001b[0m\u001b[0m\n\u001b[0m\u001b[1;32m    848\u001b[0m         \u001b[0;32mexcept\u001b[0m \u001b[0mException\u001b[0m\u001b[0;34m:\u001b[0m\u001b[0;34m\u001b[0m\u001b[0;34m\u001b[0m\u001b[0m\n\u001b[1;32m    849\u001b[0m             \u001b[0;32mwith\u001b[0m \u001b[0m_active_limbo_lock\u001b[0m\u001b[0;34m:\u001b[0m\u001b[0;34m\u001b[0m\u001b[0;34m\u001b[0m\u001b[0m\n",
      "\u001b[0;31mKeyboardInterrupt\u001b[0m: "
     ]
    }
   ],
   "source": [
    "for epoch in range(300):\n",
    "    print(\"Epoch:\"+str(epoch))\n",
    "    for step in tqdm_notebook(range(0,steps)):\n",
    "        imgs_hr, imgs_lr = next(datagenObj)\n",
    "        # From low res. image generate high res. version\n",
    "        fake_hr = gen.predict(imgs_lr)\n",
    "        valid = np.ones((batch_size,1))\n",
    "        fake = np.zeros((batch_size,1))\n",
    "        if step % 2 == 0:\n",
    "            real_loss = disc.train_on_batch(imgs_hr, valid)\n",
    "            fake_loss = disc.train_on_batch(fake_hr, fake)\n",
    "            discriminator_loss = 0.5 * np.add(real_loss, fake_loss)\n",
    "        else:\n",
    "            features_hr = vgg.predict(preprocess_vgg(imgs_hr))\n",
    "            generator_loss = srgan.train_on_batch(imgs_lr, [valid, features_hr]) \n",
    "        \n",
    "    mc_step = epoch*steps + steps\n",
    "    modelcheckpoint.on_epoch_end(mc_step,{\"g_loss\":generator_loss[1]})  \n",
    "    discMC.on_epoch_end(mc_step,{\"g_loss\":generator_loss[1]})\n",
    "    out = gen.predict(sample_lr)\n",
    "    tl.vis.save_images(out, [int(ni), int(ni)],'images/'+dataset_name+'/train.png')\n",
    "    if(epoch % 10 == 0):\n",
    "        out = gen.predict(sample_lr)\n",
    "        tl.vis.save_images(out, [int(ni), int(ni)],'images/'+dataset_name+'/FASTx2_%d.png' % int(epoch))\n",
    "    tensorboard.on_epoch_end(epoch, {\"d_loss\": discriminator_loss[0],\"d_acc\":discriminator_loss[1],\"g_binary_crossentropy\":generator_loss[0], \"g_vgg_loss\":generator_loss[1]})\n",
    "srgan.save_weights(\"checkpoints/srgan.h5\")\n",
    "tensorboard.on_train_end(None)"
   ]
  },
  {
   "cell_type": "code",
   "execution_count": null,
   "metadata": {},
   "outputs": [],
   "source": [
    "'''\n",
    "gen.save_weights(\"checkpoints/backupGenFAST.h5\")\n",
    "disc.save_weights(\"checkpoints/backupDiscFast.h5\")\n",
    "'''"
   ]
  },
  {
   "cell_type": "code",
   "execution_count": 20,
   "metadata": {},
   "outputs": [],
   "source": [
    "gen.load_weights(\"checkpoints/genFASTMC.h5\")\n",
    "disc.load_weights(\"checkpoints/discFASTMC.h5\")"
   ]
  },
  {
   "cell_type": "code",
   "execution_count": null,
   "metadata": {},
   "outputs": [],
   "source": [
    "modelcheckpoint = ModelCheckpoint(\n",
    "    filepath = \"./checkpoints/genFASTMC_soft.h5\",\n",
    "    monitor='g_loss',\n",
    "    verbose=0,\n",
    "    mode=\"auto\",\n",
    "    save_best_only=True\n",
    ")\n",
    "modelcheckpoint.set_model(gen)\n",
    "discMC = ModelCheckpoint(\n",
    "    filepath = \"./checkpoints/discFASTMC_soft.h5\",\n",
    "    monitor='g_loss',\n",
    "    verbose=0,\n",
    "    mode=\"auto\",\n",
    "    save_best_only=True\n",
    ")\n",
    "discMC.set_model(disc)"
   ]
  },
  {
   "cell_type": "code",
   "execution_count": null,
   "metadata": {},
   "outputs": [],
   "source": [
    "tensorboard = TensorBoard(\n",
    "  log_dir='log/srgan_FAST/SRGAN_SOFT/run1',\n",
    "  histogram_freq=0,\n",
    "  batch_size=batch_size,\n",
    "  write_graph=True,\n",
    "  write_grads=True\n",
    ")\n",
    "tensorboard.set_model(srgan)"
   ]
  },
  {
   "cell_type": "code",
   "execution_count": null,
   "metadata": {},
   "outputs": [],
   "source": [
    "for epoch in range(150):\n",
    "    print(\"Epoch:\"+str(epoch))\n",
    "    for step in tqdm_notebook(range(0,steps)):\n",
    "        imgs_hr, imgs_lr = next(datagenObj)\n",
    "        # From low res. image generate high res. version\n",
    "        fake_hr = gen.predict(imgs_lr)\n",
    "        valid = np.ones((batch_size,1))\n",
    "        fake = np.zeros((batch_size,1))\n",
    "        if step % 2 == 0:\n",
    "            real_loss = disc.train_on_batch(imgs_hr, valid)\n",
    "            fake_loss = disc.train_on_batch(fake_hr, fake)\n",
    "            discriminator_loss = 0.5 * np.add(real_loss, fake_loss)\n",
    "        else:\n",
    "            features_hr = vgg.predict(preprocess_vgg(imgs_hr))\n",
    "            generator_loss = srgan.train_on_batch(imgs_lr, [valid, features_hr]) \n",
    "        \n",
    "    mc_step = epoch*steps + steps\n",
    "    modelcheckpoint.on_epoch_end(mc_step,{\"g_loss\":generator_loss[1]})  \n",
    "    discMC.on_epoch_end(mc_step,{\"g_loss\":generator_loss[1]})\n",
    "    out = gen.predict(sample_lr)\n",
    "    tl.vis.save_images(out, [int(ni), int(ni)],'images/'+dataset_name+'/train.png')\n",
    "    if(epoch % 10 == 0):\n",
    "        out = gen.predict(sample_lr)\n",
    "        tl.vis.save_images(out, [int(ni), int(ni)],'images/'+dataset_name+'/FASTx2_SOFT_%d.png' % int(epoch))\n",
    "    tensorboard.on_epoch_end(epoch, {\"d_loss\": discriminator_loss[0],\"d_acc\":discriminator_loss[1],\"g_binary_crossentropy\":generator_loss[0], \"g_vgg_loss\":generator_loss[1]})\n",
    "srgan.save_weights(\"checkpoints/srgan.h5\")\n",
    "tensorboard.on_train_end(None)"
   ]
  },
  {
   "cell_type": "code",
   "execution_count": null,
   "metadata": {},
   "outputs": [],
   "source": [
    "gen.save_weights(\"checkpoints/backupGenFASTSOFT.h5\")\n",
    "disc.save_weights(\"checkpoints/backupDiscFastSOFT.h5\")"
   ]
  }
 ],
 "metadata": {
  "kernelspec": {
   "display_name": "Python 3",
   "language": "python",
   "name": "python3"
  }
 },
 "nbformat": 4,
 "nbformat_minor": 2
}
